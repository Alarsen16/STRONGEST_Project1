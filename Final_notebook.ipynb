{
 "cells": [
  {
   "cell_type": "markdown",
   "metadata": {},
   "source": [
    "# Comparing Genre against Average Rating"
   ]
  },
  {
   "cell_type": "markdown",
   "metadata": {},
   "source": [
    "#### Importing Libraries"
   ]
  },
  {
   "cell_type": "markdown",
   "metadata": {},
   "source": [
    "Importing various libraries that we'll be looking to use throughout the data cleaning and visualization process for the IMDB datasets. We also will look to assign all datasets to variables and open with Pandas' dataframes to interpret this data more easily."
   ]
  },
  {
   "cell_type": "code",
   "execution_count": 1,
   "metadata": {},
   "outputs": [],
   "source": [
    "import pandas as pd\n",
    "import matplotlib.pyplot as plt\n",
    "import numpy as np"
   ]
  },
  {
   "cell_type": "code",
   "execution_count": 2,
   "metadata": {},
   "outputs": [
    {
     "name": "stdout",
     "output_type": "stream",
     "text": [
      "bom.movie_gross.csv.gz\n",
      "imdb.name.basics.csv.gz\n",
      "imdb.title.akas.csv.gz\n",
      "imdb.title.basics.csv.gz\n",
      "imdb.title.crew.csv.gz\n",
      "imdb.title.principals.csv.gz\n",
      "imdb.title.ratings.csv.gz\n",
      "rt.movie_info.tsv.gz\n",
      "rt.reviews.tsv.gz\n",
      "tmdb.movies.csv.gz\n",
      "tn.movie_budgets.csv.gz\n"
     ]
    }
   ],
   "source": [
    "# This was very helpful in pulling in all the IMDB datasets without having to\n",
    "# refer back to the project information.\n",
    "\n",
    "!ls zippedData"
   ]
  },
  {
   "cell_type": "code",
   "execution_count": 3,
   "metadata": {},
   "outputs": [
    {
     "data": {
      "text/html": [
       "<div>\n",
       "<style scoped>\n",
       "    .dataframe tbody tr th:only-of-type {\n",
       "        vertical-align: middle;\n",
       "    }\n",
       "\n",
       "    .dataframe tbody tr th {\n",
       "        vertical-align: top;\n",
       "    }\n",
       "\n",
       "    .dataframe thead th {\n",
       "        text-align: right;\n",
       "    }\n",
       "</style>\n",
       "<table border=\"1\" class=\"dataframe\">\n",
       "  <thead>\n",
       "    <tr style=\"text-align: right;\">\n",
       "      <th></th>\n",
       "      <th>tconst_tb</th>\n",
       "      <th>primary_title</th>\n",
       "      <th>original_title</th>\n",
       "      <th>start_year</th>\n",
       "      <th>runtime_minutes</th>\n",
       "      <th>genres</th>\n",
       "      <th>tconst</th>\n",
       "      <th>averagerating</th>\n",
       "      <th>numvotes</th>\n",
       "    </tr>\n",
       "  </thead>\n",
       "  <tbody>\n",
       "    <tr>\n",
       "      <th>0</th>\n",
       "      <td>tt0063540</td>\n",
       "      <td>Sunghursh</td>\n",
       "      <td>Sunghursh</td>\n",
       "      <td>2013</td>\n",
       "      <td>175.0</td>\n",
       "      <td>Action,Crime,Drama</td>\n",
       "      <td>tt10356526</td>\n",
       "      <td>8.3</td>\n",
       "      <td>31</td>\n",
       "    </tr>\n",
       "    <tr>\n",
       "      <th>1</th>\n",
       "      <td>tt0066787</td>\n",
       "      <td>One Day Before the Rainy Season</td>\n",
       "      <td>Ashad Ka Ek Din</td>\n",
       "      <td>2019</td>\n",
       "      <td>114.0</td>\n",
       "      <td>Biography,Drama</td>\n",
       "      <td>tt10384606</td>\n",
       "      <td>8.9</td>\n",
       "      <td>559</td>\n",
       "    </tr>\n",
       "    <tr>\n",
       "      <th>2</th>\n",
       "      <td>tt0069049</td>\n",
       "      <td>The Other Side of the Wind</td>\n",
       "      <td>The Other Side of the Wind</td>\n",
       "      <td>2018</td>\n",
       "      <td>122.0</td>\n",
       "      <td>Drama</td>\n",
       "      <td>tt1042974</td>\n",
       "      <td>6.4</td>\n",
       "      <td>20</td>\n",
       "    </tr>\n",
       "    <tr>\n",
       "      <th>3</th>\n",
       "      <td>tt0069204</td>\n",
       "      <td>Sabse Bada Sukh</td>\n",
       "      <td>Sabse Bada Sukh</td>\n",
       "      <td>2018</td>\n",
       "      <td>NaN</td>\n",
       "      <td>Comedy,Drama</td>\n",
       "      <td>tt1043726</td>\n",
       "      <td>4.2</td>\n",
       "      <td>50352</td>\n",
       "    </tr>\n",
       "    <tr>\n",
       "      <th>4</th>\n",
       "      <td>tt0100275</td>\n",
       "      <td>The Wandering Soap Opera</td>\n",
       "      <td>La Telenovela Errante</td>\n",
       "      <td>2017</td>\n",
       "      <td>80.0</td>\n",
       "      <td>Comedy,Drama,Fantasy</td>\n",
       "      <td>tt1060240</td>\n",
       "      <td>6.5</td>\n",
       "      <td>21</td>\n",
       "    </tr>\n",
       "  </tbody>\n",
       "</table>\n",
       "</div>"
      ],
      "text/plain": [
       "   tconst_tb                    primary_title              original_title  \\\n",
       "0  tt0063540                        Sunghursh                   Sunghursh   \n",
       "1  tt0066787  One Day Before the Rainy Season             Ashad Ka Ek Din   \n",
       "2  tt0069049       The Other Side of the Wind  The Other Side of the Wind   \n",
       "3  tt0069204                  Sabse Bada Sukh             Sabse Bada Sukh   \n",
       "4  tt0100275         The Wandering Soap Opera       La Telenovela Errante   \n",
       "\n",
       "   start_year  runtime_minutes                genres      tconst  \\\n",
       "0        2013            175.0    Action,Crime,Drama  tt10356526   \n",
       "1        2019            114.0       Biography,Drama  tt10384606   \n",
       "2        2018            122.0                 Drama   tt1042974   \n",
       "3        2018              NaN          Comedy,Drama   tt1043726   \n",
       "4        2017             80.0  Comedy,Drama,Fantasy   tt1060240   \n",
       "\n",
       "   averagerating  numvotes  \n",
       "0            8.3        31  \n",
       "1            8.9       559  \n",
       "2            6.4        20  \n",
       "3            4.2     50352  \n",
       "4            6.5        21  "
      ]
     },
     "execution_count": 3,
     "metadata": {},
     "output_type": "execute_result"
    }
   ],
   "source": [
    "# Opening up all the datasets related to the IMDB data provided as dataframes \n",
    "# with the use of pandas\n",
    "\n",
    "df_tb = pd.read_csv('zippedData/imdb.title.basics.csv.gz')\n",
    "df_tr = pd.read_csv('zippedData/imdb.title.ratings.csv.gz')\n",
    "df_tc = pd.read_csv('zippedData/imdb.title.crew.csv.gz')\n",
    "df_ta = pd.read_csv('zippedData/imdb.title.akas.csv.gz')\n",
    "df_tp = pd.read_csv('zippedData/imdb.title.principals.csv.gz')\n",
    "df_nb = pd.read_csv('zippedData/imdb.name.basics.csv.gz')\n",
    "\n",
    "# After looking at the various heads of each dataset, it was apparent that we could use\n",
    "# the title.basics and title.ratings files to come up with a average rating by genre.\n",
    "\n",
    "# We could have joined additional tables however we didn't see the need to come\n",
    "# up with a conclusion that we'd be able to provide to Microsoft.\n",
    "\n",
    "df_combined = df_tb.join(df_tr, how='inner', lsuffix='_tb')\n",
    "df_combined.head()\n",
    "\n",
    "# An inner join made most since on the 'tconst' column, which was the index in both \n",
    "# tables as it seemed to be an unique identifier for individual movies in IMDB data."
   ]
  },
  {
   "cell_type": "markdown",
   "metadata": {},
   "source": [
    "# First Impressions\n",
    "___________________\n",
    "I'm mostly interested in the ratings table as I've noticed that there are ratings that don't have many votes at all and it's possible that those ratings are skewing the dataset"
   ]
  },
  {
   "cell_type": "code",
   "execution_count": 4,
   "metadata": {},
   "outputs": [
    {
     "data": {
      "text/html": [
       "<div>\n",
       "<style scoped>\n",
       "    .dataframe tbody tr th:only-of-type {\n",
       "        vertical-align: middle;\n",
       "    }\n",
       "\n",
       "    .dataframe tbody tr th {\n",
       "        vertical-align: top;\n",
       "    }\n",
       "\n",
       "    .dataframe thead th {\n",
       "        text-align: right;\n",
       "    }\n",
       "</style>\n",
       "<table border=\"1\" class=\"dataframe\">\n",
       "  <thead>\n",
       "    <tr style=\"text-align: right;\">\n",
       "      <th></th>\n",
       "      <th>tconst</th>\n",
       "      <th>averagerating</th>\n",
       "      <th>numvotes</th>\n",
       "    </tr>\n",
       "  </thead>\n",
       "  <tbody>\n",
       "    <tr>\n",
       "      <th>0</th>\n",
       "      <td>tt10356526</td>\n",
       "      <td>8.3</td>\n",
       "      <td>31</td>\n",
       "    </tr>\n",
       "    <tr>\n",
       "      <th>1</th>\n",
       "      <td>tt10384606</td>\n",
       "      <td>8.9</td>\n",
       "      <td>559</td>\n",
       "    </tr>\n",
       "    <tr>\n",
       "      <th>2</th>\n",
       "      <td>tt1042974</td>\n",
       "      <td>6.4</td>\n",
       "      <td>20</td>\n",
       "    </tr>\n",
       "    <tr>\n",
       "      <th>3</th>\n",
       "      <td>tt1043726</td>\n",
       "      <td>4.2</td>\n",
       "      <td>50352</td>\n",
       "    </tr>\n",
       "    <tr>\n",
       "      <th>4</th>\n",
       "      <td>tt1060240</td>\n",
       "      <td>6.5</td>\n",
       "      <td>21</td>\n",
       "    </tr>\n",
       "    <tr>\n",
       "      <th>...</th>\n",
       "      <td>...</td>\n",
       "      <td>...</td>\n",
       "      <td>...</td>\n",
       "    </tr>\n",
       "    <tr>\n",
       "      <th>73851</th>\n",
       "      <td>tt9805820</td>\n",
       "      <td>8.1</td>\n",
       "      <td>25</td>\n",
       "    </tr>\n",
       "    <tr>\n",
       "      <th>73852</th>\n",
       "      <td>tt9844256</td>\n",
       "      <td>7.5</td>\n",
       "      <td>24</td>\n",
       "    </tr>\n",
       "    <tr>\n",
       "      <th>73853</th>\n",
       "      <td>tt9851050</td>\n",
       "      <td>4.7</td>\n",
       "      <td>14</td>\n",
       "    </tr>\n",
       "    <tr>\n",
       "      <th>73854</th>\n",
       "      <td>tt9886934</td>\n",
       "      <td>7.0</td>\n",
       "      <td>5</td>\n",
       "    </tr>\n",
       "    <tr>\n",
       "      <th>73855</th>\n",
       "      <td>tt9894098</td>\n",
       "      <td>6.3</td>\n",
       "      <td>128</td>\n",
       "    </tr>\n",
       "  </tbody>\n",
       "</table>\n",
       "<p>73856 rows × 3 columns</p>\n",
       "</div>"
      ],
      "text/plain": [
       "           tconst  averagerating  numvotes\n",
       "0      tt10356526            8.3        31\n",
       "1      tt10384606            8.9       559\n",
       "2       tt1042974            6.4        20\n",
       "3       tt1043726            4.2     50352\n",
       "4       tt1060240            6.5        21\n",
       "...           ...            ...       ...\n",
       "73851   tt9805820            8.1        25\n",
       "73852   tt9844256            7.5        24\n",
       "73853   tt9851050            4.7        14\n",
       "73854   tt9886934            7.0         5\n",
       "73855   tt9894098            6.3       128\n",
       "\n",
       "[73856 rows x 3 columns]"
      ]
     },
     "execution_count": 4,
     "metadata": {},
     "output_type": "execute_result"
    }
   ],
   "source": [
    "df_tr"
   ]
  },
  {
   "cell_type": "code",
   "execution_count": 5,
   "metadata": {},
   "outputs": [
    {
     "data": {
      "text/html": [
       "<div>\n",
       "<style scoped>\n",
       "    .dataframe tbody tr th:only-of-type {\n",
       "        vertical-align: middle;\n",
       "    }\n",
       "\n",
       "    .dataframe tbody tr th {\n",
       "        vertical-align: top;\n",
       "    }\n",
       "\n",
       "    .dataframe thead th {\n",
       "        text-align: right;\n",
       "    }\n",
       "</style>\n",
       "<table border=\"1\" class=\"dataframe\">\n",
       "  <thead>\n",
       "    <tr style=\"text-align: right;\">\n",
       "      <th></th>\n",
       "      <th>tconst_tb</th>\n",
       "      <th>primary_title</th>\n",
       "      <th>original_title</th>\n",
       "      <th>start_year</th>\n",
       "      <th>runtime_minutes</th>\n",
       "      <th>genres</th>\n",
       "      <th>tconst</th>\n",
       "      <th>averagerating</th>\n",
       "      <th>numvotes</th>\n",
       "    </tr>\n",
       "  </thead>\n",
       "  <tbody>\n",
       "    <tr>\n",
       "      <th>0</th>\n",
       "      <td>tt0063540</td>\n",
       "      <td>Sunghursh</td>\n",
       "      <td>Sunghursh</td>\n",
       "      <td>2013</td>\n",
       "      <td>175.0</td>\n",
       "      <td>Action,Crime,Drama</td>\n",
       "      <td>tt10356526</td>\n",
       "      <td>8.3</td>\n",
       "      <td>31</td>\n",
       "    </tr>\n",
       "    <tr>\n",
       "      <th>1</th>\n",
       "      <td>tt0066787</td>\n",
       "      <td>One Day Before the Rainy Season</td>\n",
       "      <td>Ashad Ka Ek Din</td>\n",
       "      <td>2019</td>\n",
       "      <td>114.0</td>\n",
       "      <td>Biography,Drama</td>\n",
       "      <td>tt10384606</td>\n",
       "      <td>8.9</td>\n",
       "      <td>559</td>\n",
       "    </tr>\n",
       "    <tr>\n",
       "      <th>2</th>\n",
       "      <td>tt0069049</td>\n",
       "      <td>The Other Side of the Wind</td>\n",
       "      <td>The Other Side of the Wind</td>\n",
       "      <td>2018</td>\n",
       "      <td>122.0</td>\n",
       "      <td>Drama</td>\n",
       "      <td>tt1042974</td>\n",
       "      <td>6.4</td>\n",
       "      <td>20</td>\n",
       "    </tr>\n",
       "    <tr>\n",
       "      <th>3</th>\n",
       "      <td>tt0069204</td>\n",
       "      <td>Sabse Bada Sukh</td>\n",
       "      <td>Sabse Bada Sukh</td>\n",
       "      <td>2018</td>\n",
       "      <td>NaN</td>\n",
       "      <td>Comedy,Drama</td>\n",
       "      <td>tt1043726</td>\n",
       "      <td>4.2</td>\n",
       "      <td>50352</td>\n",
       "    </tr>\n",
       "    <tr>\n",
       "      <th>4</th>\n",
       "      <td>tt0100275</td>\n",
       "      <td>The Wandering Soap Opera</td>\n",
       "      <td>La Telenovela Errante</td>\n",
       "      <td>2017</td>\n",
       "      <td>80.0</td>\n",
       "      <td>Comedy,Drama,Fantasy</td>\n",
       "      <td>tt1060240</td>\n",
       "      <td>6.5</td>\n",
       "      <td>21</td>\n",
       "    </tr>\n",
       "    <tr>\n",
       "      <th>...</th>\n",
       "      <td>...</td>\n",
       "      <td>...</td>\n",
       "      <td>...</td>\n",
       "      <td>...</td>\n",
       "      <td>...</td>\n",
       "      <td>...</td>\n",
       "      <td>...</td>\n",
       "      <td>...</td>\n",
       "      <td>...</td>\n",
       "    </tr>\n",
       "    <tr>\n",
       "      <th>73851</th>\n",
       "      <td>tt4206656</td>\n",
       "      <td>MarchFourth Marching Band in China</td>\n",
       "      <td>MarchFourth Marching Band in China</td>\n",
       "      <td>2014</td>\n",
       "      <td>66.0</td>\n",
       "      <td>Documentary,Music</td>\n",
       "      <td>tt9805820</td>\n",
       "      <td>8.1</td>\n",
       "      <td>25</td>\n",
       "    </tr>\n",
       "    <tr>\n",
       "      <th>73852</th>\n",
       "      <td>tt4206658</td>\n",
       "      <td>El Bumbún</td>\n",
       "      <td>El Bumbún</td>\n",
       "      <td>2014</td>\n",
       "      <td>85.0</td>\n",
       "      <td>Drama</td>\n",
       "      <td>tt9844256</td>\n",
       "      <td>7.5</td>\n",
       "      <td>24</td>\n",
       "    </tr>\n",
       "    <tr>\n",
       "      <th>73853</th>\n",
       "      <td>tt4206724</td>\n",
       "      <td>70 Acres in Chicago: Cabrini Green</td>\n",
       "      <td>70 Acres in Chicago: Cabrini Green</td>\n",
       "      <td>2014</td>\n",
       "      <td>53.0</td>\n",
       "      <td>Documentary,History,News</td>\n",
       "      <td>tt9851050</td>\n",
       "      <td>4.7</td>\n",
       "      <td>14</td>\n",
       "    </tr>\n",
       "    <tr>\n",
       "      <th>73854</th>\n",
       "      <td>tt4207014</td>\n",
       "      <td>Amante de lo ajeno</td>\n",
       "      <td>Amante de lo ajeno</td>\n",
       "      <td>2012</td>\n",
       "      <td>99.0</td>\n",
       "      <td>Drama</td>\n",
       "      <td>tt9886934</td>\n",
       "      <td>7.0</td>\n",
       "      <td>5</td>\n",
       "    </tr>\n",
       "    <tr>\n",
       "      <th>73855</th>\n",
       "      <td>tt4207078</td>\n",
       "      <td>Nazar Palmus</td>\n",
       "      <td>Nazar Palmus</td>\n",
       "      <td>2016</td>\n",
       "      <td>NaN</td>\n",
       "      <td>Fantasy,Romance,Thriller</td>\n",
       "      <td>tt9894098</td>\n",
       "      <td>6.3</td>\n",
       "      <td>128</td>\n",
       "    </tr>\n",
       "  </tbody>\n",
       "</table>\n",
       "<p>73856 rows × 9 columns</p>\n",
       "</div>"
      ],
      "text/plain": [
       "       tconst_tb                       primary_title  \\\n",
       "0      tt0063540                           Sunghursh   \n",
       "1      tt0066787     One Day Before the Rainy Season   \n",
       "2      tt0069049          The Other Side of the Wind   \n",
       "3      tt0069204                     Sabse Bada Sukh   \n",
       "4      tt0100275            The Wandering Soap Opera   \n",
       "...          ...                                 ...   \n",
       "73851  tt4206656  MarchFourth Marching Band in China   \n",
       "73852  tt4206658                           El Bumbún   \n",
       "73853  tt4206724  70 Acres in Chicago: Cabrini Green   \n",
       "73854  tt4207014                  Amante de lo ajeno   \n",
       "73855  tt4207078                        Nazar Palmus   \n",
       "\n",
       "                           original_title  start_year  runtime_minutes  \\\n",
       "0                               Sunghursh        2013            175.0   \n",
       "1                         Ashad Ka Ek Din        2019            114.0   \n",
       "2              The Other Side of the Wind        2018            122.0   \n",
       "3                         Sabse Bada Sukh        2018              NaN   \n",
       "4                   La Telenovela Errante        2017             80.0   \n",
       "...                                   ...         ...              ...   \n",
       "73851  MarchFourth Marching Band in China        2014             66.0   \n",
       "73852                           El Bumbún        2014             85.0   \n",
       "73853  70 Acres in Chicago: Cabrini Green        2014             53.0   \n",
       "73854                  Amante de lo ajeno        2012             99.0   \n",
       "73855                        Nazar Palmus        2016              NaN   \n",
       "\n",
       "                         genres      tconst  averagerating  numvotes  \n",
       "0            Action,Crime,Drama  tt10356526            8.3        31  \n",
       "1               Biography,Drama  tt10384606            8.9       559  \n",
       "2                         Drama   tt1042974            6.4        20  \n",
       "3                  Comedy,Drama   tt1043726            4.2     50352  \n",
       "4          Comedy,Drama,Fantasy   tt1060240            6.5        21  \n",
       "...                         ...         ...            ...       ...  \n",
       "73851         Documentary,Music   tt9805820            8.1        25  \n",
       "73852                     Drama   tt9844256            7.5        24  \n",
       "73853  Documentary,History,News   tt9851050            4.7        14  \n",
       "73854                     Drama   tt9886934            7.0         5  \n",
       "73855  Fantasy,Romance,Thriller   tt9894098            6.3       128  \n",
       "\n",
       "[73856 rows x 9 columns]"
      ]
     },
     "execution_count": 5,
     "metadata": {},
     "output_type": "execute_result"
    }
   ],
   "source": [
    "df_combined = df_tb.join(df_tr, how='inner', lsuffix='_tb')\n",
    "df_combined"
   ]
  },
  {
   "cell_type": "markdown",
   "metadata": {},
   "source": [
    "# Visualizing the situation\n",
    "_____________________\n",
    "Let's see what happens when we compare the rating to the number of votes"
   ]
  },
  {
   "cell_type": "code",
   "execution_count": 6,
   "metadata": {},
   "outputs": [
    {
     "data": {
      "text/plain": [
       "<matplotlib.collections.PathCollection at 0x2e680460be0>"
      ]
     },
     "execution_count": 6,
     "metadata": {},
     "output_type": "execute_result"
    },
    {
     "data": {
      "image/png": "[encoded data removed]",
      "text/plain": [
       "<Figure size 864x432 with 1 Axes>"
      ]
     },
     "metadata": {
      "needs_background": "light"
     },
     "output_type": "display_data"
    }
   ],
   "source": [
    "x = df_combined['numvotes'].sample(2000)\n",
    "y = df_combined['averagerating'].sample(2000)\n",
    "\n",
    "fig, ax = plt.subplots(figsize=(12, 6))\n",
    "ax.set_ylim(0, 300)\n",
    "ax.set_xlim(0, 10)\n",
    "\n",
    "ax.set_xlabel(\"Average Rating\")\n",
    "ax.set_ylabel(\"Number of Votes\")\n",
    "\n",
    "ax.set_title(\"Number of Votes in Relation to Rating\")\n",
    "\n",
    "ax.scatter(y,x)"
   ]
  },
  {
   "cell_type": "markdown",
   "metadata": {},
   "source": [
    "Unfortunately we can't tell much about what's going on, it seems like there's a lot of noise happening since there's a ton of data points that don't have a lot of votes. Let's pick an arbitrary number like 100 votes necessary and see how it affects some other comparisons"
   ]
  },
  {
   "cell_type": "code",
   "execution_count": 7,
   "metadata": {},
   "outputs": [
    {
     "data": {
      "text/html": [
       "<div>\n",
       "<style scoped>\n",
       "    .dataframe tbody tr th:only-of-type {\n",
       "        vertical-align: middle;\n",
       "    }\n",
       "\n",
       "    .dataframe tbody tr th {\n",
       "        vertical-align: top;\n",
       "    }\n",
       "\n",
       "    .dataframe thead th {\n",
       "        text-align: right;\n",
       "    }\n",
       "</style>\n",
       "<table border=\"1\" class=\"dataframe\">\n",
       "  <thead>\n",
       "    <tr style=\"text-align: right;\">\n",
       "      <th></th>\n",
       "      <th>tconst_tb</th>\n",
       "      <th>primary_title</th>\n",
       "      <th>original_title</th>\n",
       "      <th>start_year</th>\n",
       "      <th>runtime_minutes</th>\n",
       "      <th>genres</th>\n",
       "      <th>tconst</th>\n",
       "      <th>averagerating</th>\n",
       "      <th>numvotes</th>\n",
       "    </tr>\n",
       "  </thead>\n",
       "  <tbody>\n",
       "    <tr>\n",
       "      <th>1</th>\n",
       "      <td>tt0066787</td>\n",
       "      <td>One Day Before the Rainy Season</td>\n",
       "      <td>Ashad Ka Ek Din</td>\n",
       "      <td>2019</td>\n",
       "      <td>114.0</td>\n",
       "      <td>Biography,Drama</td>\n",
       "      <td>tt10384606</td>\n",
       "      <td>8.9</td>\n",
       "      <td>559</td>\n",
       "    </tr>\n",
       "    <tr>\n",
       "      <th>3</th>\n",
       "      <td>tt0069204</td>\n",
       "      <td>Sabse Bada Sukh</td>\n",
       "      <td>Sabse Bada Sukh</td>\n",
       "      <td>2018</td>\n",
       "      <td>NaN</td>\n",
       "      <td>Comedy,Drama</td>\n",
       "      <td>tt1043726</td>\n",
       "      <td>4.2</td>\n",
       "      <td>50352</td>\n",
       "    </tr>\n",
       "    <tr>\n",
       "      <th>5</th>\n",
       "      <td>tt0111414</td>\n",
       "      <td>A Thin Life</td>\n",
       "      <td>A Thin Life</td>\n",
       "      <td>2018</td>\n",
       "      <td>75.0</td>\n",
       "      <td>Comedy</td>\n",
       "      <td>tt1069246</td>\n",
       "      <td>6.2</td>\n",
       "      <td>326</td>\n",
       "    </tr>\n",
       "    <tr>\n",
       "      <th>6</th>\n",
       "      <td>tt0112502</td>\n",
       "      <td>Bigfoot</td>\n",
       "      <td>Bigfoot</td>\n",
       "      <td>2017</td>\n",
       "      <td>NaN</td>\n",
       "      <td>Horror,Thriller</td>\n",
       "      <td>tt1094666</td>\n",
       "      <td>7.0</td>\n",
       "      <td>1613</td>\n",
       "    </tr>\n",
       "    <tr>\n",
       "      <th>7</th>\n",
       "      <td>tt0137204</td>\n",
       "      <td>Joe Finds Grace</td>\n",
       "      <td>Joe Finds Grace</td>\n",
       "      <td>2017</td>\n",
       "      <td>83.0</td>\n",
       "      <td>Adventure,Animation,Comedy</td>\n",
       "      <td>tt1130982</td>\n",
       "      <td>6.4</td>\n",
       "      <td>571</td>\n",
       "    </tr>\n",
       "    <tr>\n",
       "      <th>...</th>\n",
       "      <td>...</td>\n",
       "      <td>...</td>\n",
       "      <td>...</td>\n",
       "      <td>...</td>\n",
       "      <td>...</td>\n",
       "      <td>...</td>\n",
       "      <td>...</td>\n",
       "      <td>...</td>\n",
       "      <td>...</td>\n",
       "    </tr>\n",
       "    <tr>\n",
       "      <th>73828</th>\n",
       "      <td>tt4205828</td>\n",
       "      <td>Progetto Hebi</td>\n",
       "      <td>Progetto Hebi</td>\n",
       "      <td>2014</td>\n",
       "      <td>57.0</td>\n",
       "      <td>Documentary,Drama</td>\n",
       "      <td>tt9471952</td>\n",
       "      <td>7.1</td>\n",
       "      <td>338</td>\n",
       "    </tr>\n",
       "    <tr>\n",
       "      <th>73831</th>\n",
       "      <td>tt4205864</td>\n",
       "      <td>Abducted by Aliens: UFO Encounters of the 4th ...</td>\n",
       "      <td>Abducted by Aliens: UFO Encounters of the 4th ...</td>\n",
       "      <td>2014</td>\n",
       "      <td>60.0</td>\n",
       "      <td>Documentary</td>\n",
       "      <td>tt9558612</td>\n",
       "      <td>3.7</td>\n",
       "      <td>4057</td>\n",
       "    </tr>\n",
       "    <tr>\n",
       "      <th>73832</th>\n",
       "      <td>tt4205866</td>\n",
       "      <td>Three</td>\n",
       "      <td>Three</td>\n",
       "      <td>2015</td>\n",
       "      <td>NaN</td>\n",
       "      <td>Drama</td>\n",
       "      <td>tt9575726</td>\n",
       "      <td>7.7</td>\n",
       "      <td>161</td>\n",
       "    </tr>\n",
       "    <tr>\n",
       "      <th>73844</th>\n",
       "      <td>tt4206334</td>\n",
       "      <td>Gonna Sip That Sip, Hit That Dip: The Emerging...</td>\n",
       "      <td>Gonna Sip That Sip, Hit That Dip: The Emerging...</td>\n",
       "      <td>2015</td>\n",
       "      <td>13.0</td>\n",
       "      <td>Documentary,Music</td>\n",
       "      <td>tt9668598</td>\n",
       "      <td>5.5</td>\n",
       "      <td>317</td>\n",
       "    </tr>\n",
       "    <tr>\n",
       "      <th>73855</th>\n",
       "      <td>tt4207078</td>\n",
       "      <td>Nazar Palmus</td>\n",
       "      <td>Nazar Palmus</td>\n",
       "      <td>2016</td>\n",
       "      <td>NaN</td>\n",
       "      <td>Fantasy,Romance,Thriller</td>\n",
       "      <td>tt9894098</td>\n",
       "      <td>6.3</td>\n",
       "      <td>128</td>\n",
       "    </tr>\n",
       "  </tbody>\n",
       "</table>\n",
       "<p>28648 rows × 9 columns</p>\n",
       "</div>"
      ],
      "text/plain": [
       "       tconst_tb                                      primary_title  \\\n",
       "1      tt0066787                    One Day Before the Rainy Season   \n",
       "3      tt0069204                                    Sabse Bada Sukh   \n",
       "5      tt0111414                                        A Thin Life   \n",
       "6      tt0112502                                            Bigfoot   \n",
       "7      tt0137204                                    Joe Finds Grace   \n",
       "...          ...                                                ...   \n",
       "73828  tt4205828                                      Progetto Hebi   \n",
       "73831  tt4205864  Abducted by Aliens: UFO Encounters of the 4th ...   \n",
       "73832  tt4205866                                              Three   \n",
       "73844  tt4206334  Gonna Sip That Sip, Hit That Dip: The Emerging...   \n",
       "73855  tt4207078                                       Nazar Palmus   \n",
       "\n",
       "                                          original_title  start_year  \\\n",
       "1                                        Ashad Ka Ek Din        2019   \n",
       "3                                        Sabse Bada Sukh        2018   \n",
       "5                                            A Thin Life        2018   \n",
       "6                                                Bigfoot        2017   \n",
       "7                                        Joe Finds Grace        2017   \n",
       "...                                                  ...         ...   \n",
       "73828                                      Progetto Hebi        2014   \n",
       "73831  Abducted by Aliens: UFO Encounters of the 4th ...        2014   \n",
       "73832                                              Three        2015   \n",
       "73844  Gonna Sip That Sip, Hit That Dip: The Emerging...        2015   \n",
       "73855                                       Nazar Palmus        2016   \n",
       "\n",
       "       runtime_minutes                      genres      tconst  averagerating  \\\n",
       "1                114.0             Biography,Drama  tt10384606            8.9   \n",
       "3                  NaN                Comedy,Drama   tt1043726            4.2   \n",
       "5                 75.0                      Comedy   tt1069246            6.2   \n",
       "6                  NaN             Horror,Thriller   tt1094666            7.0   \n",
       "7                 83.0  Adventure,Animation,Comedy   tt1130982            6.4   \n",
       "...                ...                         ...         ...            ...   \n",
       "73828             57.0           Documentary,Drama   tt9471952            7.1   \n",
       "73831             60.0                 Documentary   tt9558612            3.7   \n",
       "73832              NaN                       Drama   tt9575726            7.7   \n",
       "73844             13.0           Documentary,Music   tt9668598            5.5   \n",
       "73855              NaN    Fantasy,Romance,Thriller   tt9894098            6.3   \n",
       "\n",
       "       numvotes  \n",
       "1           559  \n",
       "3         50352  \n",
       "5           326  \n",
       "6          1613  \n",
       "7           571  \n",
       "...         ...  \n",
       "73828       338  \n",
       "73831      4057  \n",
       "73832       161  \n",
       "73844       317  \n",
       "73855       128  \n",
       "\n",
       "[28648 rows x 9 columns]"
      ]
     },
     "execution_count": 7,
     "metadata": {},
     "output_type": "execute_result"
    }
   ],
   "source": [
    "dropped_df = df_combined[df_combined['numvotes'] >100]\n",
    "dropped_df"
   ]
  },
  {
   "cell_type": "code",
   "execution_count": 8,
   "metadata": {},
   "outputs": [
    {
     "data": {
      "text/plain": [
       "<matplotlib.collections.PathCollection at 0x2e681f90d30>"
      ]
     },
     "execution_count": 8,
     "metadata": {},
     "output_type": "execute_result"
    },
    {
     "data": {
      "image/png": "[encoded data removed]",
      "text/plain": [
       "<Figure size 864x432 with 1 Axes>"
      ]
     },
     "metadata": {
      "needs_background": "light"
     },
     "output_type": "display_data"
    }
   ],
   "source": [
    "x = dropped_df['runtime_minutes'].sample(500)\n",
    "y = dropped_df['averagerating'].sample(500)\n",
    "\n",
    "fig, ax = plt.subplots(figsize=(12, 6))\n",
    "ax.set_ylim(0, 300)\n",
    "ax.set_xlim(0, 10)\n",
    "\n",
    "ax.set_xlabel(\"Average Rating\")\n",
    "ax.set_ylabel(\"Runtime\")\n",
    "\n",
    "ax.set_title(\"Film Runtime in Relation to Rating\")\n",
    "\n",
    "ax.scatter(y,x)"
   ]
  },
  {
   "cell_type": "markdown",
   "metadata": {},
   "source": [
    "We can see there is a slight positive relationship to rating with runtime, let's check it out with the dataset we didn't clean"
   ]
  },
  {
   "cell_type": "code",
   "execution_count": 9,
   "metadata": {},
   "outputs": [
    {
     "data": {
      "text/plain": [
       "<matplotlib.collections.PathCollection at 0x2e681fee310>"
      ]
     },
     "execution_count": 9,
     "metadata": {},
     "output_type": "execute_result"
    },
    {
     "data": {
      "image/png": "[encoded data removed]",
      "text/plain": [
       "<Figure size 864x432 with 1 Axes>"
      ]
     },
     "metadata": {
      "needs_background": "light"
     },
     "output_type": "display_data"
    }
   ],
   "source": [
    "x = df_combined['runtime_minutes'].sample(500)\n",
    "y = df_combined['averagerating'].sample(500)\n",
    "\n",
    "fig, ax = plt.subplots(figsize=(12, 6))\n",
    "ax.set_ylim(0, 300)\n",
    "ax.set_xlim(0, 10)\n",
    "\n",
    "ax.set_xlabel(\"Average Rating\")\n",
    "ax.set_ylabel(\"Runtime\")\n",
    "\n",
    "ax.set_title(\"Film Runtime in Relation to Rating\")\n",
    "\n",
    "ax.scatter(y,x)"
   ]
  },
  {
   "cell_type": "markdown",
   "metadata": {},
   "source": [
    "Here we can't tell anything but this is important that we did need to clean it"
   ]
  },
  {
   "cell_type": "code",
   "execution_count": 10,
   "metadata": {},
   "outputs": [
    {
     "data": {
      "text/html": [
       "<div>\n",
       "<style scoped>\n",
       "    .dataframe tbody tr th:only-of-type {\n",
       "        vertical-align: middle;\n",
       "    }\n",
       "\n",
       "    .dataframe tbody tr th {\n",
       "        vertical-align: top;\n",
       "    }\n",
       "\n",
       "    .dataframe thead th {\n",
       "        text-align: right;\n",
       "    }\n",
       "</style>\n",
       "<table border=\"1\" class=\"dataframe\">\n",
       "  <thead>\n",
       "    <tr style=\"text-align: right;\">\n",
       "      <th></th>\n",
       "      <th>start_year</th>\n",
       "      <th>runtime_minutes</th>\n",
       "      <th>averagerating</th>\n",
       "      <th>numvotes</th>\n",
       "    </tr>\n",
       "  </thead>\n",
       "  <tbody>\n",
       "    <tr>\n",
       "      <th>start_year</th>\n",
       "      <td>1.000000</td>\n",
       "      <td>0.033526</td>\n",
       "      <td>-0.002393</td>\n",
       "      <td>0.013855</td>\n",
       "    </tr>\n",
       "    <tr>\n",
       "      <th>runtime_minutes</th>\n",
       "      <td>0.033526</td>\n",
       "      <td>1.000000</td>\n",
       "      <td>0.001400</td>\n",
       "      <td>0.004530</td>\n",
       "    </tr>\n",
       "    <tr>\n",
       "      <th>averagerating</th>\n",
       "      <td>-0.002393</td>\n",
       "      <td>0.001400</td>\n",
       "      <td>1.000000</td>\n",
       "      <td>0.137307</td>\n",
       "    </tr>\n",
       "    <tr>\n",
       "      <th>numvotes</th>\n",
       "      <td>0.013855</td>\n",
       "      <td>0.004530</td>\n",
       "      <td>0.137307</td>\n",
       "      <td>1.000000</td>\n",
       "    </tr>\n",
       "  </tbody>\n",
       "</table>\n",
       "</div>"
      ],
      "text/plain": [
       "                 start_year  runtime_minutes  averagerating  numvotes\n",
       "start_year         1.000000         0.033526      -0.002393  0.013855\n",
       "runtime_minutes    0.033526         1.000000       0.001400  0.004530\n",
       "averagerating     -0.002393         0.001400       1.000000  0.137307\n",
       "numvotes           0.013855         0.004530       0.137307  1.000000"
      ]
     },
     "execution_count": 10,
     "metadata": {},
     "output_type": "execute_result"
    }
   ],
   "source": [
    "dropped_df.corr()"
   ]
  },
  {
   "cell_type": "code",
   "execution_count": 11,
   "metadata": {},
   "outputs": [
    {
     "data": {
      "text/html": [
       "<div>\n",
       "<style scoped>\n",
       "    .dataframe tbody tr th:only-of-type {\n",
       "        vertical-align: middle;\n",
       "    }\n",
       "\n",
       "    .dataframe tbody tr th {\n",
       "        vertical-align: top;\n",
       "    }\n",
       "\n",
       "    .dataframe thead th {\n",
       "        text-align: right;\n",
       "    }\n",
       "</style>\n",
       "<table border=\"1\" class=\"dataframe\">\n",
       "  <thead>\n",
       "    <tr style=\"text-align: right;\">\n",
       "      <th></th>\n",
       "      <th>start_year</th>\n",
       "      <th>runtime_minutes</th>\n",
       "      <th>averagerating</th>\n",
       "      <th>numvotes</th>\n",
       "    </tr>\n",
       "  </thead>\n",
       "  <tbody>\n",
       "    <tr>\n",
       "      <th>start_year</th>\n",
       "      <td>1.000000</td>\n",
       "      <td>0.017007</td>\n",
       "      <td>-0.003270</td>\n",
       "      <td>0.009165</td>\n",
       "    </tr>\n",
       "    <tr>\n",
       "      <th>runtime_minutes</th>\n",
       "      <td>0.017007</td>\n",
       "      <td>1.000000</td>\n",
       "      <td>0.005988</td>\n",
       "      <td>0.000846</td>\n",
       "    </tr>\n",
       "    <tr>\n",
       "      <th>averagerating</th>\n",
       "      <td>-0.003270</td>\n",
       "      <td>0.005988</td>\n",
       "      <td>1.000000</td>\n",
       "      <td>0.044478</td>\n",
       "    </tr>\n",
       "    <tr>\n",
       "      <th>numvotes</th>\n",
       "      <td>0.009165</td>\n",
       "      <td>0.000846</td>\n",
       "      <td>0.044478</td>\n",
       "      <td>1.000000</td>\n",
       "    </tr>\n",
       "  </tbody>\n",
       "</table>\n",
       "</div>"
      ],
      "text/plain": [
       "                 start_year  runtime_minutes  averagerating  numvotes\n",
       "start_year         1.000000         0.017007      -0.003270  0.009165\n",
       "runtime_minutes    0.017007         1.000000       0.005988  0.000846\n",
       "averagerating     -0.003270         0.005988       1.000000  0.044478\n",
       "numvotes           0.009165         0.000846       0.044478  1.000000"
      ]
     },
     "execution_count": 11,
     "metadata": {},
     "output_type": "execute_result"
    }
   ],
   "source": [
    "df_combined.corr()"
   ]
  },
  {
   "cell_type": "markdown",
   "metadata": {},
   "source": [
    "We improved the correlation between the different columns by getting rid of excess noise"
   ]
  },
  {
   "cell_type": "markdown",
   "metadata": {},
   "source": [
    "## Cleaning Up the Data"
   ]
  },
  {
   "cell_type": "markdown",
   "metadata": {},
   "source": [
    "Before we start to look drawing conclusions from the data, we need to make sure we remove any NaN/\"not a number\" values within the data sets. We can quickly check this by running the df.info() to see how many values we have in each column and then decide how we want to take action."
   ]
  },
  {
   "cell_type": "code",
   "execution_count": 12,
   "metadata": {},
   "outputs": [
    {
     "name": "stdout",
     "output_type": "stream",
     "text": [
      "<class 'pandas.core.frame.DataFrame'>\n",
      "Int64Index: 73856 entries, 0 to 73855\n",
      "Data columns (total 9 columns):\n",
      " #   Column           Non-Null Count  Dtype  \n",
      "---  ------           --------------  -----  \n",
      " 0   tconst_tb        73856 non-null  object \n",
      " 1   primary_title    73856 non-null  object \n",
      " 2   original_title   73853 non-null  object \n",
      " 3   start_year       73856 non-null  int64  \n",
      " 4   runtime_minutes  61529 non-null  float64\n",
      " 5   genres           72066 non-null  object \n",
      " 6   tconst           73856 non-null  object \n",
      " 7   averagerating    73856 non-null  float64\n",
      " 8   numvotes         73856 non-null  int64  \n",
      "dtypes: float64(2), int64(2), object(5)\n",
      "memory usage: 5.6+ MB\n",
      "None\n",
      "tconst_tb          False\n",
      "primary_title      False\n",
      "original_title      True\n",
      "start_year         False\n",
      "runtime_minutes     True\n",
      "genres              True\n",
      "tconst             False\n",
      "averagerating      False\n",
      "numvotes           False\n",
      "dtype: bool\n"
     ]
    }
   ],
   "source": [
    "print(df_combined.info())\n",
    "\n",
    "print(df_combined.isna().any())"
   ]
  },
  {
   "cell_type": "markdown",
   "metadata": {},
   "source": [
    "Unfortunately, we have 3 columns within our combined data set that are missing values. We should look to deal with these values so that our data set is totally clean. As we can see from the second table above, we're missing data or have NaN values in: Original_Title, runtime_minutes & genres."
   ]
  },
  {
   "cell_type": "markdown",
   "metadata": {},
   "source": [
    "For the sake of our comparison here between Genre and Average rating, we're not concerned with the missing data in the original_title or runtime_minutes. \n",
    "\n",
    "Genre - It doesn't look like there is a way to grab this information for the missing values so we'll look to drop the ~1.3k records where the movie doesn't have a genre. It's roughly 2% of the entire data set so removing these records should impact our conclusion minimally if at all."
   ]
  },
  {
   "cell_type": "markdown",
   "metadata": {},
   "source": [
    "## Cleaning Up Genres\n"
   ]
  },
  {
   "cell_type": "code",
   "execution_count": 13,
   "metadata": {},
   "outputs": [
    {
     "data": {
      "text/plain": [
       "tconst_tb          False\n",
       "primary_title      False\n",
       "original_title     False\n",
       "start_year         False\n",
       "runtime_minutes     True\n",
       "genres             False\n",
       "tconst             False\n",
       "averagerating      False\n",
       "numvotes           False\n",
       "dtype: bool"
      ]
     },
     "execution_count": 13,
     "metadata": {},
     "output_type": "execute_result"
    }
   ],
   "source": [
    "## Looking to drop any of the valeus in our dataframe where genre was entirely blank.\n",
    "\n",
    "df_combined.dropna(subset=['genres'], inplace=True)\n",
    "\n",
    "# We can then check the new dataframe to ensure that we're no\n",
    "# longer missing values in the genres column.\n",
    "\n",
    "df_combined.isna().any()"
   ]
  },
  {
   "cell_type": "code",
   "execution_count": 14,
   "metadata": {},
   "outputs": [
    {
     "data": {
      "text/html": [
       "<div>\n",
       "<style scoped>\n",
       "    .dataframe tbody tr th:only-of-type {\n",
       "        vertical-align: middle;\n",
       "    }\n",
       "\n",
       "    .dataframe tbody tr th {\n",
       "        vertical-align: top;\n",
       "    }\n",
       "\n",
       "    .dataframe thead th {\n",
       "        text-align: right;\n",
       "    }\n",
       "</style>\n",
       "<table border=\"1\" class=\"dataframe\">\n",
       "  <thead>\n",
       "    <tr style=\"text-align: right;\">\n",
       "      <th></th>\n",
       "      <th>tconst_tb</th>\n",
       "      <th>primary_title</th>\n",
       "      <th>original_title</th>\n",
       "      <th>start_year</th>\n",
       "      <th>runtime_minutes</th>\n",
       "      <th>genres</th>\n",
       "      <th>tconst</th>\n",
       "      <th>averagerating</th>\n",
       "      <th>numvotes</th>\n",
       "    </tr>\n",
       "  </thead>\n",
       "  <tbody>\n",
       "    <tr>\n",
       "      <th>1</th>\n",
       "      <td>tt0066787</td>\n",
       "      <td>One Day Before the Rainy Season</td>\n",
       "      <td>Ashad Ka Ek Din</td>\n",
       "      <td>2019</td>\n",
       "      <td>114.0</td>\n",
       "      <td>Biography,Drama</td>\n",
       "      <td>tt10384606</td>\n",
       "      <td>8.9</td>\n",
       "      <td>559</td>\n",
       "    </tr>\n",
       "    <tr>\n",
       "      <th>3</th>\n",
       "      <td>tt0069204</td>\n",
       "      <td>Sabse Bada Sukh</td>\n",
       "      <td>Sabse Bada Sukh</td>\n",
       "      <td>2018</td>\n",
       "      <td>NaN</td>\n",
       "      <td>Comedy,Drama</td>\n",
       "      <td>tt1043726</td>\n",
       "      <td>4.2</td>\n",
       "      <td>50352</td>\n",
       "    </tr>\n",
       "    <tr>\n",
       "      <th>5</th>\n",
       "      <td>tt0111414</td>\n",
       "      <td>A Thin Life</td>\n",
       "      <td>A Thin Life</td>\n",
       "      <td>2018</td>\n",
       "      <td>75.0</td>\n",
       "      <td>Comedy</td>\n",
       "      <td>tt1069246</td>\n",
       "      <td>6.2</td>\n",
       "      <td>326</td>\n",
       "    </tr>\n",
       "    <tr>\n",
       "      <th>6</th>\n",
       "      <td>tt0112502</td>\n",
       "      <td>Bigfoot</td>\n",
       "      <td>Bigfoot</td>\n",
       "      <td>2017</td>\n",
       "      <td>NaN</td>\n",
       "      <td>Horror,Thriller</td>\n",
       "      <td>tt1094666</td>\n",
       "      <td>7.0</td>\n",
       "      <td>1613</td>\n",
       "    </tr>\n",
       "    <tr>\n",
       "      <th>7</th>\n",
       "      <td>tt0137204</td>\n",
       "      <td>Joe Finds Grace</td>\n",
       "      <td>Joe Finds Grace</td>\n",
       "      <td>2017</td>\n",
       "      <td>83.0</td>\n",
       "      <td>Adventure,Animation,Comedy</td>\n",
       "      <td>tt1130982</td>\n",
       "      <td>6.4</td>\n",
       "      <td>571</td>\n",
       "    </tr>\n",
       "    <tr>\n",
       "      <th>8</th>\n",
       "      <td>tt0139613</td>\n",
       "      <td>O Silêncio</td>\n",
       "      <td>O Silêncio</td>\n",
       "      <td>2012</td>\n",
       "      <td>NaN</td>\n",
       "      <td>Documentary,History</td>\n",
       "      <td>tt1156528</td>\n",
       "      <td>7.2</td>\n",
       "      <td>265</td>\n",
       "    </tr>\n",
       "    <tr>\n",
       "      <th>9</th>\n",
       "      <td>tt0144449</td>\n",
       "      <td>Nema aviona za Zagreb</td>\n",
       "      <td>Nema aviona za Zagreb</td>\n",
       "      <td>2012</td>\n",
       "      <td>82.0</td>\n",
       "      <td>Biography</td>\n",
       "      <td>tt1161457</td>\n",
       "      <td>4.2</td>\n",
       "      <td>148</td>\n",
       "    </tr>\n",
       "    <tr>\n",
       "      <th>10</th>\n",
       "      <td>tt0146592</td>\n",
       "      <td>Pál Adrienn</td>\n",
       "      <td>Pál Adrienn</td>\n",
       "      <td>2010</td>\n",
       "      <td>136.0</td>\n",
       "      <td>Drama</td>\n",
       "      <td>tt1171222</td>\n",
       "      <td>5.1</td>\n",
       "      <td>8296</td>\n",
       "    </tr>\n",
       "    <tr>\n",
       "      <th>11</th>\n",
       "      <td>tt0154039</td>\n",
       "      <td>So Much for Justice!</td>\n",
       "      <td>Oda az igazság</td>\n",
       "      <td>2010</td>\n",
       "      <td>100.0</td>\n",
       "      <td>History</td>\n",
       "      <td>tt1174693</td>\n",
       "      <td>5.8</td>\n",
       "      <td>2381</td>\n",
       "    </tr>\n",
       "    <tr>\n",
       "      <th>12</th>\n",
       "      <td>tt0159369</td>\n",
       "      <td>Cooper and Hemingway: The True Gen</td>\n",
       "      <td>Cooper and Hemingway: The True Gen</td>\n",
       "      <td>2013</td>\n",
       "      <td>180.0</td>\n",
       "      <td>Documentary</td>\n",
       "      <td>tt1181840</td>\n",
       "      <td>7.0</td>\n",
       "      <td>5494</td>\n",
       "    </tr>\n",
       "  </tbody>\n",
       "</table>\n",
       "</div>"
      ],
      "text/plain": [
       "    tconst_tb                       primary_title  \\\n",
       "1   tt0066787     One Day Before the Rainy Season   \n",
       "3   tt0069204                     Sabse Bada Sukh   \n",
       "5   tt0111414                         A Thin Life   \n",
       "6   tt0112502                             Bigfoot   \n",
       "7   tt0137204                     Joe Finds Grace   \n",
       "8   tt0139613                          O Silêncio   \n",
       "9   tt0144449               Nema aviona za Zagreb   \n",
       "10  tt0146592                         Pál Adrienn   \n",
       "11  tt0154039                So Much for Justice!   \n",
       "12  tt0159369  Cooper and Hemingway: The True Gen   \n",
       "\n",
       "                        original_title  start_year  runtime_minutes  \\\n",
       "1                      Ashad Ka Ek Din        2019            114.0   \n",
       "3                      Sabse Bada Sukh        2018              NaN   \n",
       "5                          A Thin Life        2018             75.0   \n",
       "6                              Bigfoot        2017              NaN   \n",
       "7                      Joe Finds Grace        2017             83.0   \n",
       "8                           O Silêncio        2012              NaN   \n",
       "9                Nema aviona za Zagreb        2012             82.0   \n",
       "10                         Pál Adrienn        2010            136.0   \n",
       "11                      Oda az igazság        2010            100.0   \n",
       "12  Cooper and Hemingway: The True Gen        2013            180.0   \n",
       "\n",
       "                        genres      tconst  averagerating  numvotes  \n",
       "1              Biography,Drama  tt10384606            8.9       559  \n",
       "3                 Comedy,Drama   tt1043726            4.2     50352  \n",
       "5                       Comedy   tt1069246            6.2       326  \n",
       "6              Horror,Thriller   tt1094666            7.0      1613  \n",
       "7   Adventure,Animation,Comedy   tt1130982            6.4       571  \n",
       "8          Documentary,History   tt1156528            7.2       265  \n",
       "9                    Biography   tt1161457            4.2       148  \n",
       "10                       Drama   tt1171222            5.1      8296  \n",
       "11                     History   tt1174693            5.8      2381  \n",
       "12                 Documentary   tt1181840            7.0      5494  "
      ]
     },
     "execution_count": 14,
     "metadata": {},
     "output_type": "execute_result"
    }
   ],
   "source": [
    "# It also looks like there are a number of movies with a very small amount of votes,\n",
    "# so we'll make the assumption to remove anything with less than 100 votes\n",
    "# to avoid some type of skewness of average rating.\n",
    "\n",
    "df_combined = df_combined[(df_combined['numvotes'] > 100)]\n",
    "df_combined.head(10)"
   ]
  },
  {
   "cell_type": "markdown",
   "metadata": {},
   "source": [
    "Now that we have a clean list of genres, we should now see what are all the unique genre values within the column, not taking into account the different permutations such as Comedy, Drama and Drama, Horror. I'd expect there to be 3 unique values: Comedy, Drama and Horror."
   ]
  },
  {
   "cell_type": "code",
   "execution_count": 15,
   "metadata": {},
   "outputs": [
    {
     "data": {
      "text/plain": [
       "['War',\n",
       " 'Game-Show',\n",
       " 'Talk-Show',\n",
       " 'Horror',\n",
       " 'Animation',\n",
       " 'History',\n",
       " 'Fantasy',\n",
       " 'News',\n",
       " 'Music',\n",
       " 'Sport',\n",
       " 'Reality-TV',\n",
       " 'Family',\n",
       " 'Thriller',\n",
       " 'Comedy',\n",
       " 'Sci-Fi',\n",
       " 'Action',\n",
       " 'Crime',\n",
       " 'Adventure',\n",
       " 'Mystery',\n",
       " 'Documentary',\n",
       " 'Short',\n",
       " 'Musical',\n",
       " 'Western',\n",
       " 'Drama',\n",
       " 'Adult',\n",
       " 'Romance',\n",
       " 'Biography']"
      ]
     },
     "execution_count": 15,
     "metadata": {},
     "output_type": "execute_result"
    }
   ],
   "source": [
    "genre_list_total = []\n",
    "unique_gen = []\n",
    "total_genre = []\n",
    "\n",
    "gen_unique = list((df_combined['genres'])) \n",
    "# Creating a list of the column from our dataframe\n",
    "\n",
    "for genre in gen_unique:\n",
    "    genre_list_total.append(genre.split(\",\"))\n",
    "    \n",
    "# Then using that list we created to create a better organized list\n",
    "# of lists of each movie's unique genres\n",
    "\n",
    "for x in genre_list_total:\n",
    "    total_genre = total_genre + x\n",
    "\n",
    "# We then wanted to find out a list of the total unique genres in\n",
    "# order to create a dictionary of keys of each genre and values of the mean\n",
    "# of each average mean\n",
    "    \n",
    "unique_gen = list(set(total_genre))\n",
    "unique_gen"
   ]
  },
  {
   "cell_type": "code",
   "execution_count": 16,
   "metadata": {},
   "outputs": [
    {
     "data": {
      "text/html": [
       "<div>\n",
       "<style scoped>\n",
       "    .dataframe tbody tr th:only-of-type {\n",
       "        vertical-align: middle;\n",
       "    }\n",
       "\n",
       "    .dataframe tbody tr th {\n",
       "        vertical-align: top;\n",
       "    }\n",
       "\n",
       "    .dataframe thead th {\n",
       "        text-align: right;\n",
       "    }\n",
       "</style>\n",
       "<table border=\"1\" class=\"dataframe\">\n",
       "  <thead>\n",
       "    <tr style=\"text-align: right;\">\n",
       "      <th></th>\n",
       "      <th>index</th>\n",
       "      <th>0</th>\n",
       "    </tr>\n",
       "  </thead>\n",
       "  <tbody>\n",
       "    <tr>\n",
       "      <th>20</th>\n",
       "      <td>Short</td>\n",
       "      <td>6.100000</td>\n",
       "    </tr>\n",
       "    <tr>\n",
       "      <th>7</th>\n",
       "      <td>News</td>\n",
       "      <td>5.981018</td>\n",
       "    </tr>\n",
       "    <tr>\n",
       "      <th>6</th>\n",
       "      <td>Fantasy</td>\n",
       "      <td>5.965365</td>\n",
       "    </tr>\n",
       "    <tr>\n",
       "      <th>17</th>\n",
       "      <td>Adventure</td>\n",
       "      <td>5.962958</td>\n",
       "    </tr>\n",
       "    <tr>\n",
       "      <th>15</th>\n",
       "      <td>Action</td>\n",
       "      <td>5.925929</td>\n",
       "    </tr>\n",
       "    <tr>\n",
       "      <th>19</th>\n",
       "      <td>Documentary</td>\n",
       "      <td>5.920602</td>\n",
       "    </tr>\n",
       "    <tr>\n",
       "      <th>23</th>\n",
       "      <td>Drama</td>\n",
       "      <td>5.916470</td>\n",
       "    </tr>\n",
       "    <tr>\n",
       "      <th>25</th>\n",
       "      <td>Romance</td>\n",
       "      <td>5.909881</td>\n",
       "    </tr>\n",
       "    <tr>\n",
       "      <th>3</th>\n",
       "      <td>Horror</td>\n",
       "      <td>5.907280</td>\n",
       "    </tr>\n",
       "    <tr>\n",
       "      <th>11</th>\n",
       "      <td>Family</td>\n",
       "      <td>5.905660</td>\n",
       "    </tr>\n",
       "    <tr>\n",
       "      <th>8</th>\n",
       "      <td>Music</td>\n",
       "      <td>5.899841</td>\n",
       "    </tr>\n",
       "    <tr>\n",
       "      <th>16</th>\n",
       "      <td>Crime</td>\n",
       "      <td>5.895359</td>\n",
       "    </tr>\n",
       "    <tr>\n",
       "      <th>26</th>\n",
       "      <td>Biography</td>\n",
       "      <td>5.895113</td>\n",
       "    </tr>\n",
       "    <tr>\n",
       "      <th>12</th>\n",
       "      <td>Thriller</td>\n",
       "      <td>5.891504</td>\n",
       "    </tr>\n",
       "    <tr>\n",
       "      <th>14</th>\n",
       "      <td>Sci-Fi</td>\n",
       "      <td>5.890272</td>\n",
       "    </tr>\n",
       "    <tr>\n",
       "      <th>13</th>\n",
       "      <td>Comedy</td>\n",
       "      <td>5.877223</td>\n",
       "    </tr>\n",
       "    <tr>\n",
       "      <th>18</th>\n",
       "      <td>Mystery</td>\n",
       "      <td>5.876500</td>\n",
       "    </tr>\n",
       "    <tr>\n",
       "      <th>4</th>\n",
       "      <td>Animation</td>\n",
       "      <td>5.869759</td>\n",
       "    </tr>\n",
       "    <tr>\n",
       "      <th>5</th>\n",
       "      <td>History</td>\n",
       "      <td>5.858322</td>\n",
       "    </tr>\n",
       "    <tr>\n",
       "      <th>22</th>\n",
       "      <td>Western</td>\n",
       "      <td>5.854455</td>\n",
       "    </tr>\n",
       "    <tr>\n",
       "      <th>2</th>\n",
       "      <td>Talk-Show</td>\n",
       "      <td>5.845455</td>\n",
       "    </tr>\n",
       "    <tr>\n",
       "      <th>0</th>\n",
       "      <td>War</td>\n",
       "      <td>5.835473</td>\n",
       "    </tr>\n",
       "    <tr>\n",
       "      <th>24</th>\n",
       "      <td>Adult</td>\n",
       "      <td>5.800000</td>\n",
       "    </tr>\n",
       "    <tr>\n",
       "      <th>9</th>\n",
       "      <td>Sport</td>\n",
       "      <td>5.782816</td>\n",
       "    </tr>\n",
       "    <tr>\n",
       "      <th>21</th>\n",
       "      <td>Musical</td>\n",
       "      <td>5.768978</td>\n",
       "    </tr>\n",
       "    <tr>\n",
       "      <th>1</th>\n",
       "      <td>Game-Show</td>\n",
       "      <td>5.300000</td>\n",
       "    </tr>\n",
       "    <tr>\n",
       "      <th>10</th>\n",
       "      <td>Reality-TV</td>\n",
       "      <td>5.137500</td>\n",
       "    </tr>\n",
       "  </tbody>\n",
       "</table>\n",
       "</div>"
      ],
      "text/plain": [
       "          index         0\n",
       "20        Short  6.100000\n",
       "7          News  5.981018\n",
       "6       Fantasy  5.965365\n",
       "17    Adventure  5.962958\n",
       "15       Action  5.925929\n",
       "19  Documentary  5.920602\n",
       "23        Drama  5.916470\n",
       "25      Romance  5.909881\n",
       "3        Horror  5.907280\n",
       "11       Family  5.905660\n",
       "8         Music  5.899841\n",
       "16        Crime  5.895359\n",
       "26    Biography  5.895113\n",
       "12     Thriller  5.891504\n",
       "14       Sci-Fi  5.890272\n",
       "13       Comedy  5.877223\n",
       "18      Mystery  5.876500\n",
       "4     Animation  5.869759\n",
       "5       History  5.858322\n",
       "22      Western  5.854455\n",
       "2     Talk-Show  5.845455\n",
       "0           War  5.835473\n",
       "24        Adult  5.800000\n",
       "9         Sport  5.782816\n",
       "21      Musical  5.768978\n",
       "1     Game-Show  5.300000\n",
       "10   Reality-TV  5.137500"
      ]
     },
     "execution_count": 16,
     "metadata": {},
     "output_type": "execute_result"
    }
   ],
   "source": [
    "ratings = {}\n",
    "\n",
    "for x in unique_gen:\n",
    "    y = df_combined[df_combined['genres'].str.contains(x)].mean().values[2]\n",
    "    ratings[x]= y\n",
    "    \n",
    "df_ratings = pd.DataFrame.from_dict(ratings, orient='index')\n",
    "df_ratings = df_ratings.reset_index()\n",
    "df_ratings = df_ratings.sort_values(([0]), ascending=False)\n",
    "df_ratings"
   ]
  },
  {
   "cell_type": "markdown",
   "metadata": {},
   "source": [
    "It's clear that we have some 'genres' included in the IMDB movie data that are more closely aligned with TV shows. Some of this data would be: Talk-show, News, Reality-TV, Game-Show. \n",
    "\n",
    "Indices of Talk-Show (3), News (18), Reality-TV (4), Short (17) and Game-show (26)."
   ]
  },
  {
   "cell_type": "code",
   "execution_count": 17,
   "metadata": {},
   "outputs": [],
   "source": [
    "df_only_movies = df_ratings.drop([3, 18, 4, 17, 26])"
   ]
  },
  {
   "cell_type": "code",
   "execution_count": 18,
   "metadata": {},
   "outputs": [
    {
     "data": {
      "image/png": "[encoded data removed]",
      "text/plain": [
       "<Figure size 864x864 with 1 Axes>"
      ]
     },
     "metadata": {
      "needs_background": "light"
     },
     "output_type": "display_data"
    }
   ],
   "source": [
    "genre_ratings, ax = plt.subplots(figsize =(12,12))\n",
    "\n",
    "abcd = df_only_movies['index'][:9]\n",
    "defg = df_only_movies[0][:9]\n",
    "ax.set_ylim(5.5, 6)\n",
    "plt.xticks(rotation=90)\n",
    "ax.bar(abcd, defg)\n",
    "ax.set_xlabel('Movie Genres')\n",
    "ax.set_ylabel('Average Rating');\n"
   ]
  },
  {
   "cell_type": "code",
   "execution_count": 19,
   "metadata": {},
   "outputs": [
    {
     "data": {
      "text/html": [
       "<div>\n",
       "<style scoped>\n",
       "    .dataframe tbody tr th:only-of-type {\n",
       "        vertical-align: middle;\n",
       "    }\n",
       "\n",
       "    .dataframe tbody tr th {\n",
       "        vertical-align: top;\n",
       "    }\n",
       "\n",
       "    .dataframe thead th {\n",
       "        text-align: right;\n",
       "    }\n",
       "</style>\n",
       "<table border=\"1\" class=\"dataframe\">\n",
       "  <thead>\n",
       "    <tr style=\"text-align: right;\">\n",
       "      <th></th>\n",
       "      <th>tconst_tb</th>\n",
       "      <th>primary_title</th>\n",
       "      <th>original_title</th>\n",
       "      <th>start_year</th>\n",
       "      <th>runtime_minutes</th>\n",
       "      <th>genres</th>\n",
       "      <th>tconst</th>\n",
       "      <th>averagerating</th>\n",
       "      <th>numvotes</th>\n",
       "    </tr>\n",
       "  </thead>\n",
       "  <tbody>\n",
       "    <tr>\n",
       "      <th>54115</th>\n",
       "      <td>tt3181962</td>\n",
       "      <td>The Last Shepherd</td>\n",
       "      <td>The Last Shepherd</td>\n",
       "      <td>2015</td>\n",
       "      <td>94.0</td>\n",
       "      <td>Adventure,Comedy,Fantasy</td>\n",
       "      <td>tt4131686</td>\n",
       "      <td>9.6</td>\n",
       "      <td>1339</td>\n",
       "    </tr>\n",
       "    <tr>\n",
       "      <th>45992</th>\n",
       "      <td>tt2734800</td>\n",
       "      <td>Purgatorio</td>\n",
       "      <td>Purgatorio</td>\n",
       "      <td>2012</td>\n",
       "      <td>100.0</td>\n",
       "      <td>Adventure,Drama,Fantasy</td>\n",
       "      <td>tt2298537</td>\n",
       "      <td>8.2</td>\n",
       "      <td>105</td>\n",
       "    </tr>\n",
       "    <tr>\n",
       "      <th>24906</th>\n",
       "      <td>tt1999166</td>\n",
       "      <td>Alice in the Country of Hearts: Wonderful Wond...</td>\n",
       "      <td>Gekijouban Hâto no kuni no Arisu: Wonderful Wo...</td>\n",
       "      <td>2011</td>\n",
       "      <td>84.0</td>\n",
       "      <td>Adventure,Animation,Fantasy</td>\n",
       "      <td>tt6319654</td>\n",
       "      <td>8.0</td>\n",
       "      <td>806</td>\n",
       "    </tr>\n",
       "    <tr>\n",
       "      <th>8927</th>\n",
       "      <td>tt1534564</td>\n",
       "      <td>Verbo</td>\n",
       "      <td>Verbo</td>\n",
       "      <td>2011</td>\n",
       "      <td>87.0</td>\n",
       "      <td>Adventure,Fantasy</td>\n",
       "      <td>tt1699705</td>\n",
       "      <td>7.9</td>\n",
       "      <td>486</td>\n",
       "    </tr>\n",
       "    <tr>\n",
       "      <th>3077</th>\n",
       "      <td>tt10308500</td>\n",
       "      <td>Yu Yu Hakusho</td>\n",
       "      <td>Yu Yu Hakusho</td>\n",
       "      <td>2019</td>\n",
       "      <td>NaN</td>\n",
       "      <td>Action,Adventure,Fantasy</td>\n",
       "      <td>tt3756824</td>\n",
       "      <td>7.7</td>\n",
       "      <td>130</td>\n",
       "    </tr>\n",
       "    <tr>\n",
       "      <th>...</th>\n",
       "      <td>...</td>\n",
       "      <td>...</td>\n",
       "      <td>...</td>\n",
       "      <td>...</td>\n",
       "      <td>...</td>\n",
       "      <td>...</td>\n",
       "      <td>...</td>\n",
       "      <td>...</td>\n",
       "      <td>...</td>\n",
       "    </tr>\n",
       "    <tr>\n",
       "      <th>67666</th>\n",
       "      <td>tt3847818</td>\n",
       "      <td>A2: The Anomaly</td>\n",
       "      <td>A2: The Anomaly</td>\n",
       "      <td>2014</td>\n",
       "      <td>71.0</td>\n",
       "      <td>Adventure,Fantasy,Sci-Fi</td>\n",
       "      <td>tt1298643</td>\n",
       "      <td>3.1</td>\n",
       "      <td>483</td>\n",
       "    </tr>\n",
       "    <tr>\n",
       "      <th>2370</th>\n",
       "      <td>tt10239898</td>\n",
       "      <td>Star Wars: Battle for the Holocrons</td>\n",
       "      <td>Star Wars: Battle for the Holocrons</td>\n",
       "      <td>2020</td>\n",
       "      <td>NaN</td>\n",
       "      <td>Action,Adventure,Fantasy</td>\n",
       "      <td>tt2078613</td>\n",
       "      <td>2.9</td>\n",
       "      <td>263</td>\n",
       "    </tr>\n",
       "    <tr>\n",
       "      <th>23933</th>\n",
       "      <td>tt1971371</td>\n",
       "      <td>Dia de Preto</td>\n",
       "      <td>Dia de Preto</td>\n",
       "      <td>2012</td>\n",
       "      <td>90.0</td>\n",
       "      <td>Adventure,Fantasy,Mystery</td>\n",
       "      <td>tt5743888</td>\n",
       "      <td>2.8</td>\n",
       "      <td>246</td>\n",
       "    </tr>\n",
       "    <tr>\n",
       "      <th>176</th>\n",
       "      <td>tt0473075</td>\n",
       "      <td>Prince of Persia: The Sands of Time</td>\n",
       "      <td>Prince of Persia: The Sands of Time</td>\n",
       "      <td>2010</td>\n",
       "      <td>116.0</td>\n",
       "      <td>Action,Adventure,Fantasy</td>\n",
       "      <td>tt1640219</td>\n",
       "      <td>2.8</td>\n",
       "      <td>114</td>\n",
       "    </tr>\n",
       "    <tr>\n",
       "      <th>9829</th>\n",
       "      <td>tt1577072</td>\n",
       "      <td>The Beast of Bottomless Lake</td>\n",
       "      <td>The Beast of Bottomless Lake</td>\n",
       "      <td>2010</td>\n",
       "      <td>105.0</td>\n",
       "      <td>Adventure,Comedy,Fantasy</td>\n",
       "      <td>tt0887143</td>\n",
       "      <td>2.8</td>\n",
       "      <td>952</td>\n",
       "    </tr>\n",
       "  </tbody>\n",
       "</table>\n",
       "<p>133 rows × 9 columns</p>\n",
       "</div>"
      ],
      "text/plain": [
       "        tconst_tb                                      primary_title  \\\n",
       "54115   tt3181962                                  The Last Shepherd   \n",
       "45992   tt2734800                                         Purgatorio   \n",
       "24906   tt1999166  Alice in the Country of Hearts: Wonderful Wond...   \n",
       "8927    tt1534564                                              Verbo   \n",
       "3077   tt10308500                                      Yu Yu Hakusho   \n",
       "...           ...                                                ...   \n",
       "67666   tt3847818                                    A2: The Anomaly   \n",
       "2370   tt10239898                Star Wars: Battle for the Holocrons   \n",
       "23933   tt1971371                                       Dia de Preto   \n",
       "176     tt0473075                Prince of Persia: The Sands of Time   \n",
       "9829    tt1577072                       The Beast of Bottomless Lake   \n",
       "\n",
       "                                          original_title  start_year  \\\n",
       "54115                                  The Last Shepherd        2015   \n",
       "45992                                         Purgatorio        2012   \n",
       "24906  Gekijouban Hâto no kuni no Arisu: Wonderful Wo...        2011   \n",
       "8927                                               Verbo        2011   \n",
       "3077                                       Yu Yu Hakusho        2019   \n",
       "...                                                  ...         ...   \n",
       "67666                                    A2: The Anomaly        2014   \n",
       "2370                 Star Wars: Battle for the Holocrons        2020   \n",
       "23933                                       Dia de Preto        2012   \n",
       "176                  Prince of Persia: The Sands of Time        2010   \n",
       "9829                        The Beast of Bottomless Lake        2010   \n",
       "\n",
       "       runtime_minutes                       genres     tconst  averagerating  \\\n",
       "54115             94.0     Adventure,Comedy,Fantasy  tt4131686            9.6   \n",
       "45992            100.0      Adventure,Drama,Fantasy  tt2298537            8.2   \n",
       "24906             84.0  Adventure,Animation,Fantasy  tt6319654            8.0   \n",
       "8927              87.0            Adventure,Fantasy  tt1699705            7.9   \n",
       "3077               NaN     Action,Adventure,Fantasy  tt3756824            7.7   \n",
       "...                ...                          ...        ...            ...   \n",
       "67666             71.0     Adventure,Fantasy,Sci-Fi  tt1298643            3.1   \n",
       "2370               NaN     Action,Adventure,Fantasy  tt2078613            2.9   \n",
       "23933             90.0    Adventure,Fantasy,Mystery  tt5743888            2.8   \n",
       "176              116.0     Action,Adventure,Fantasy  tt1640219            2.8   \n",
       "9829             105.0     Adventure,Comedy,Fantasy  tt0887143            2.8   \n",
       "\n",
       "       numvotes  \n",
       "54115      1339  \n",
       "45992       105  \n",
       "24906       806  \n",
       "8927        486  \n",
       "3077        130  \n",
       "...         ...  \n",
       "67666       483  \n",
       "2370        263  \n",
       "23933       246  \n",
       "176         114  \n",
       "9829        952  \n",
       "\n",
       "[133 rows x 9 columns]"
      ]
     },
     "execution_count": 19,
     "metadata": {},
     "output_type": "execute_result"
    }
   ],
   "source": [
    "df_adventure = df_combined[((df_combined['genres'].str.contains('Fantasy') & (df_combined['genres'].str.contains('Adventure'))))]\n",
    "df_adventure.sort_values(['averagerating'], ascending=False)"
   ]
  },
  {
   "cell_type": "markdown",
   "metadata": {},
   "source": [
    "# Conclusion"
   ]
  },
  {
   "cell_type": "markdown",
   "metadata": {},
   "source": [
    "While it's not a landslide genre that takes the cake for what Microsoft should focus on, it's clear that in the last 11 years there has been a strong bias towards Fantasy and Adventure movies. While these are unique categories, a mix of the two genres would produce a strong movie. Some movies that seem to mix the two that have performed exceptionally and can be used as a starting point as to how to model your movie could be The Last Shepard (2015) and The Beast of the Bottomless Lake (2010)."
   ]
  },
  {
   "cell_type": "markdown",
   "metadata": {},
   "source": []
  },
  {
   "cell_type": "markdown",
   "metadata": {},
   "source": [
    "# Matthew Reinhart Section"
   ]
  },
  {
   "cell_type": "markdown",
   "metadata": {},
   "source": [
    "## Bom_df Data"
   ]
  },
  {
   "cell_type": "code",
   "execution_count": 20,
   "metadata": {},
   "outputs": [],
   "source": [
    "# Read the file into the notebook\n",
    "bom_df=pd.read_csv('zippedData/bom.movie_gross.csv.gz')"
   ]
  },
  {
   "cell_type": "code",
   "execution_count": 21,
   "metadata": {},
   "outputs": [
    {
     "data": {
      "text/html": [
       "<div>\n",
       "<style scoped>\n",
       "    .dataframe tbody tr th:only-of-type {\n",
       "        vertical-align: middle;\n",
       "    }\n",
       "\n",
       "    .dataframe tbody tr th {\n",
       "        vertical-align: top;\n",
       "    }\n",
       "\n",
       "    .dataframe thead th {\n",
       "        text-align: right;\n",
       "    }\n",
       "</style>\n",
       "<table border=\"1\" class=\"dataframe\">\n",
       "  <thead>\n",
       "    <tr style=\"text-align: right;\">\n",
       "      <th></th>\n",
       "      <th>title</th>\n",
       "      <th>studio</th>\n",
       "      <th>domestic_gross</th>\n",
       "      <th>foreign_gross</th>\n",
       "      <th>year</th>\n",
       "    </tr>\n",
       "  </thead>\n",
       "  <tbody>\n",
       "    <tr>\n",
       "      <th>0</th>\n",
       "      <td>Toy Story 3</td>\n",
       "      <td>BV</td>\n",
       "      <td>415000000.0</td>\n",
       "      <td>652000000</td>\n",
       "      <td>2010</td>\n",
       "    </tr>\n",
       "    <tr>\n",
       "      <th>1</th>\n",
       "      <td>Alice in Wonderland (2010)</td>\n",
       "      <td>BV</td>\n",
       "      <td>334200000.0</td>\n",
       "      <td>691300000</td>\n",
       "      <td>2010</td>\n",
       "    </tr>\n",
       "    <tr>\n",
       "      <th>2</th>\n",
       "      <td>Harry Potter and the Deathly Hallows Part 1</td>\n",
       "      <td>WB</td>\n",
       "      <td>296000000.0</td>\n",
       "      <td>664300000</td>\n",
       "      <td>2010</td>\n",
       "    </tr>\n",
       "    <tr>\n",
       "      <th>3</th>\n",
       "      <td>Inception</td>\n",
       "      <td>WB</td>\n",
       "      <td>292600000.0</td>\n",
       "      <td>535700000</td>\n",
       "      <td>2010</td>\n",
       "    </tr>\n",
       "    <tr>\n",
       "      <th>4</th>\n",
       "      <td>Shrek Forever After</td>\n",
       "      <td>P/DW</td>\n",
       "      <td>238700000.0</td>\n",
       "      <td>513900000</td>\n",
       "      <td>2010</td>\n",
       "    </tr>\n",
       "  </tbody>\n",
       "</table>\n",
       "</div>"
      ],
      "text/plain": [
       "                                         title studio  domestic_gross  \\\n",
       "0                                  Toy Story 3     BV     415000000.0   \n",
       "1                   Alice in Wonderland (2010)     BV     334200000.0   \n",
       "2  Harry Potter and the Deathly Hallows Part 1     WB     296000000.0   \n",
       "3                                    Inception     WB     292600000.0   \n",
       "4                          Shrek Forever After   P/DW     238700000.0   \n",
       "\n",
       "  foreign_gross  year  \n",
       "0     652000000  2010  \n",
       "1     691300000  2010  \n",
       "2     664300000  2010  \n",
       "3     535700000  2010  \n",
       "4     513900000  2010  "
      ]
     },
     "execution_count": 21,
     "metadata": {},
     "output_type": "execute_result"
    }
   ],
   "source": [
    "# Get a first look at the Data\n",
    "bom_df.head()"
   ]
  },
  {
   "cell_type": "code",
   "execution_count": 22,
   "metadata": {},
   "outputs": [
    {
     "data": {
      "text/plain": [
       "(3387, 5)"
      ]
     },
     "execution_count": 22,
     "metadata": {},
     "output_type": "execute_result"
    }
   ],
   "source": [
    "bom_df.shape"
   ]
  },
  {
   "cell_type": "code",
   "execution_count": 23,
   "metadata": {},
   "outputs": [
    {
     "name": "stdout",
     "output_type": "stream",
     "text": [
      "<class 'pandas.core.frame.DataFrame'>\n",
      "RangeIndex: 3387 entries, 0 to 3386\n",
      "Data columns (total 5 columns):\n",
      " #   Column          Non-Null Count  Dtype  \n",
      "---  ------          --------------  -----  \n",
      " 0   title           3387 non-null   object \n",
      " 1   studio          3382 non-null   object \n",
      " 2   domestic_gross  3359 non-null   float64\n",
      " 3   foreign_gross   2037 non-null   object \n",
      " 4   year            3387 non-null   int64  \n",
      "dtypes: float64(1), int64(1), object(3)\n",
      "memory usage: 132.4+ KB\n"
     ]
    }
   ],
   "source": [
    "bom_df.info()"
   ]
  },
  {
   "cell_type": "markdown",
   "metadata": {},
   "source": [
    "The foreign_gross column is missing data and it is also not in numeric form as it should be, those are the first few things I will address. It is in the object data type in part because it has some 'NaN'. Now I must analyze the data set and then decide how best to deal with this missing data. "
   ]
  },
  {
   "cell_type": "code",
   "execution_count": 24,
   "metadata": {},
   "outputs": [
    {
     "data": {
      "text/html": [
       "<div>\n",
       "<style scoped>\n",
       "    .dataframe tbody tr th:only-of-type {\n",
       "        vertical-align: middle;\n",
       "    }\n",
       "\n",
       "    .dataframe tbody tr th {\n",
       "        vertical-align: top;\n",
       "    }\n",
       "\n",
       "    .dataframe thead th {\n",
       "        text-align: right;\n",
       "    }\n",
       "</style>\n",
       "<table border=\"1\" class=\"dataframe\">\n",
       "  <thead>\n",
       "    <tr style=\"text-align: right;\">\n",
       "      <th></th>\n",
       "      <th>domestic_gross</th>\n",
       "      <th>year</th>\n",
       "    </tr>\n",
       "  </thead>\n",
       "  <tbody>\n",
       "    <tr>\n",
       "      <th>count</th>\n",
       "      <td>3.359000e+03</td>\n",
       "      <td>3387.000000</td>\n",
       "    </tr>\n",
       "    <tr>\n",
       "      <th>mean</th>\n",
       "      <td>2.874585e+07</td>\n",
       "      <td>2013.958075</td>\n",
       "    </tr>\n",
       "    <tr>\n",
       "      <th>std</th>\n",
       "      <td>6.698250e+07</td>\n",
       "      <td>2.478141</td>\n",
       "    </tr>\n",
       "    <tr>\n",
       "      <th>min</th>\n",
       "      <td>1.000000e+02</td>\n",
       "      <td>2010.000000</td>\n",
       "    </tr>\n",
       "    <tr>\n",
       "      <th>25%</th>\n",
       "      <td>1.200000e+05</td>\n",
       "      <td>2012.000000</td>\n",
       "    </tr>\n",
       "    <tr>\n",
       "      <th>50%</th>\n",
       "      <td>1.400000e+06</td>\n",
       "      <td>2014.000000</td>\n",
       "    </tr>\n",
       "    <tr>\n",
       "      <th>75%</th>\n",
       "      <td>2.790000e+07</td>\n",
       "      <td>2016.000000</td>\n",
       "    </tr>\n",
       "    <tr>\n",
       "      <th>max</th>\n",
       "      <td>9.367000e+08</td>\n",
       "      <td>2018.000000</td>\n",
       "    </tr>\n",
       "  </tbody>\n",
       "</table>\n",
       "</div>"
      ],
      "text/plain": [
       "       domestic_gross         year\n",
       "count    3.359000e+03  3387.000000\n",
       "mean     2.874585e+07  2013.958075\n",
       "std      6.698250e+07     2.478141\n",
       "min      1.000000e+02  2010.000000\n",
       "25%      1.200000e+05  2012.000000\n",
       "50%      1.400000e+06  2014.000000\n",
       "75%      2.790000e+07  2016.000000\n",
       "max      9.367000e+08  2018.000000"
      ]
     },
     "execution_count": 24,
     "metadata": {},
     "output_type": "execute_result"
    }
   ],
   "source": [
    "bom_df.describe()"
   ]
  },
  {
   "cell_type": "code",
   "execution_count": 25,
   "metadata": {},
   "outputs": [
    {
     "data": {
      "text/plain": [
       "1350"
      ]
     },
     "execution_count": 25,
     "metadata": {},
     "output_type": "execute_result"
    }
   ],
   "source": [
    "# Check to see how many na is in the foreign gross column\n",
    "bom_df['foreign_gross'].isna().sum()"
   ]
  },
  {
   "cell_type": "code",
   "execution_count": 26,
   "metadata": {},
   "outputs": [],
   "source": [
    "# Get rid of the missing data\n",
    "bom_df.dropna(subset=['foreign_gross'],inplace=True)"
   ]
  },
  {
   "cell_type": "code",
   "execution_count": 27,
   "metadata": {},
   "outputs": [
    {
     "data": {
      "text/plain": [
       "0"
      ]
     },
     "execution_count": 27,
     "metadata": {},
     "output_type": "execute_result"
    }
   ],
   "source": [
    "# Check to see that it worked\n",
    "bom_df['foreign_gross'].isna().sum()"
   ]
  },
  {
   "cell_type": "markdown",
   "metadata": {},
   "source": [
    "I decided it would be best to drop the empty rows as I did not want to manipulate or possibly skew the data by using the mean or median. Next I would like to convert the column 'foreign_gross' to numeric form."
   ]
  },
  {
   "cell_type": "code",
   "execution_count": 28,
   "metadata": {},
   "outputs": [],
   "source": [
    "# Make the foreign gross column an integer\n",
    "num_list=[]\n",
    "for num in bom_df['foreign_gross']:\n",
    "    x=num.replace(',','')\n",
    "    y=float(x)\n",
    "    num_list.append(y)"
   ]
  },
  {
   "cell_type": "code",
   "execution_count": 29,
   "metadata": {},
   "outputs": [],
   "source": [
    "# Now put that list of it being integers into the data set in place of foreign gross\n",
    "bom_df['foreign_gross']=num_list"
   ]
  },
  {
   "cell_type": "markdown",
   "metadata": {},
   "source": [
    "Here I will take this column now in numeric form and add it to the domestic_gross column in a new column, named total_gross"
   ]
  },
  {
   "cell_type": "code",
   "execution_count": 30,
   "metadata": {},
   "outputs": [
    {
     "data": {
      "text/html": [
       "<div>\n",
       "<style scoped>\n",
       "    .dataframe tbody tr th:only-of-type {\n",
       "        vertical-align: middle;\n",
       "    }\n",
       "\n",
       "    .dataframe tbody tr th {\n",
       "        vertical-align: top;\n",
       "    }\n",
       "\n",
       "    .dataframe thead th {\n",
       "        text-align: right;\n",
       "    }\n",
       "</style>\n",
       "<table border=\"1\" class=\"dataframe\">\n",
       "  <thead>\n",
       "    <tr style=\"text-align: right;\">\n",
       "      <th></th>\n",
       "      <th>title</th>\n",
       "      <th>studio</th>\n",
       "      <th>domestic_gross</th>\n",
       "      <th>foreign_gross</th>\n",
       "      <th>year</th>\n",
       "    </tr>\n",
       "  </thead>\n",
       "  <tbody>\n",
       "    <tr>\n",
       "      <th>0</th>\n",
       "      <td>Toy Story 3</td>\n",
       "      <td>BV</td>\n",
       "      <td>415000000.0</td>\n",
       "      <td>652000000.0</td>\n",
       "      <td>2010</td>\n",
       "    </tr>\n",
       "    <tr>\n",
       "      <th>1</th>\n",
       "      <td>Alice in Wonderland (2010)</td>\n",
       "      <td>BV</td>\n",
       "      <td>334200000.0</td>\n",
       "      <td>691300000.0</td>\n",
       "      <td>2010</td>\n",
       "    </tr>\n",
       "    <tr>\n",
       "      <th>2</th>\n",
       "      <td>Harry Potter and the Deathly Hallows Part 1</td>\n",
       "      <td>WB</td>\n",
       "      <td>296000000.0</td>\n",
       "      <td>664300000.0</td>\n",
       "      <td>2010</td>\n",
       "    </tr>\n",
       "    <tr>\n",
       "      <th>3</th>\n",
       "      <td>Inception</td>\n",
       "      <td>WB</td>\n",
       "      <td>292600000.0</td>\n",
       "      <td>535700000.0</td>\n",
       "      <td>2010</td>\n",
       "    </tr>\n",
       "    <tr>\n",
       "      <th>4</th>\n",
       "      <td>Shrek Forever After</td>\n",
       "      <td>P/DW</td>\n",
       "      <td>238700000.0</td>\n",
       "      <td>513900000.0</td>\n",
       "      <td>2010</td>\n",
       "    </tr>\n",
       "  </tbody>\n",
       "</table>\n",
       "</div>"
      ],
      "text/plain": [
       "                                         title studio  domestic_gross  \\\n",
       "0                                  Toy Story 3     BV     415000000.0   \n",
       "1                   Alice in Wonderland (2010)     BV     334200000.0   \n",
       "2  Harry Potter and the Deathly Hallows Part 1     WB     296000000.0   \n",
       "3                                    Inception     WB     292600000.0   \n",
       "4                          Shrek Forever After   P/DW     238700000.0   \n",
       "\n",
       "   foreign_gross  year  \n",
       "0    652000000.0  2010  \n",
       "1    691300000.0  2010  \n",
       "2    664300000.0  2010  \n",
       "3    535700000.0  2010  \n",
       "4    513900000.0  2010  "
      ]
     },
     "execution_count": 30,
     "metadata": {},
     "output_type": "execute_result"
    }
   ],
   "source": [
    "bom_df.head()"
   ]
  },
  {
   "cell_type": "code",
   "execution_count": 31,
   "metadata": {},
   "outputs": [],
   "source": [
    "# Make a new column called total_gross\n",
    "bom_df['total_gross']=bom_df['domestic_gross']+bom_df['foreign_gross']"
   ]
  },
  {
   "cell_type": "code",
   "execution_count": 32,
   "metadata": {},
   "outputs": [
    {
     "data": {
      "text/html": [
       "<div>\n",
       "<style scoped>\n",
       "    .dataframe tbody tr th:only-of-type {\n",
       "        vertical-align: middle;\n",
       "    }\n",
       "\n",
       "    .dataframe tbody tr th {\n",
       "        vertical-align: top;\n",
       "    }\n",
       "\n",
       "    .dataframe thead th {\n",
       "        text-align: right;\n",
       "    }\n",
       "</style>\n",
       "<table border=\"1\" class=\"dataframe\">\n",
       "  <thead>\n",
       "    <tr style=\"text-align: right;\">\n",
       "      <th></th>\n",
       "      <th>title</th>\n",
       "      <th>studio</th>\n",
       "      <th>domestic_gross</th>\n",
       "      <th>foreign_gross</th>\n",
       "      <th>year</th>\n",
       "      <th>total_gross</th>\n",
       "    </tr>\n",
       "  </thead>\n",
       "  <tbody>\n",
       "    <tr>\n",
       "      <th>0</th>\n",
       "      <td>Toy Story 3</td>\n",
       "      <td>BV</td>\n",
       "      <td>415000000.0</td>\n",
       "      <td>652000000.0</td>\n",
       "      <td>2010</td>\n",
       "      <td>1.067000e+09</td>\n",
       "    </tr>\n",
       "    <tr>\n",
       "      <th>1</th>\n",
       "      <td>Alice in Wonderland (2010)</td>\n",
       "      <td>BV</td>\n",
       "      <td>334200000.0</td>\n",
       "      <td>691300000.0</td>\n",
       "      <td>2010</td>\n",
       "      <td>1.025500e+09</td>\n",
       "    </tr>\n",
       "    <tr>\n",
       "      <th>2</th>\n",
       "      <td>Harry Potter and the Deathly Hallows Part 1</td>\n",
       "      <td>WB</td>\n",
       "      <td>296000000.0</td>\n",
       "      <td>664300000.0</td>\n",
       "      <td>2010</td>\n",
       "      <td>9.603000e+08</td>\n",
       "    </tr>\n",
       "    <tr>\n",
       "      <th>3</th>\n",
       "      <td>Inception</td>\n",
       "      <td>WB</td>\n",
       "      <td>292600000.0</td>\n",
       "      <td>535700000.0</td>\n",
       "      <td>2010</td>\n",
       "      <td>8.283000e+08</td>\n",
       "    </tr>\n",
       "    <tr>\n",
       "      <th>4</th>\n",
       "      <td>Shrek Forever After</td>\n",
       "      <td>P/DW</td>\n",
       "      <td>238700000.0</td>\n",
       "      <td>513900000.0</td>\n",
       "      <td>2010</td>\n",
       "      <td>7.526000e+08</td>\n",
       "    </tr>\n",
       "  </tbody>\n",
       "</table>\n",
       "</div>"
      ],
      "text/plain": [
       "                                         title studio  domestic_gross  \\\n",
       "0                                  Toy Story 3     BV     415000000.0   \n",
       "1                   Alice in Wonderland (2010)     BV     334200000.0   \n",
       "2  Harry Potter and the Deathly Hallows Part 1     WB     296000000.0   \n",
       "3                                    Inception     WB     292600000.0   \n",
       "4                          Shrek Forever After   P/DW     238700000.0   \n",
       "\n",
       "   foreign_gross  year   total_gross  \n",
       "0    652000000.0  2010  1.067000e+09  \n",
       "1    691300000.0  2010  1.025500e+09  \n",
       "2    664300000.0  2010  9.603000e+08  \n",
       "3    535700000.0  2010  8.283000e+08  \n",
       "4    513900000.0  2010  7.526000e+08  "
      ]
     },
     "execution_count": 32,
     "metadata": {},
     "output_type": "execute_result"
    }
   ],
   "source": [
    "# Check to see that it came through correctly\n",
    "bom_df.head()"
   ]
  },
  {
   "cell_type": "code",
   "execution_count": 33,
   "metadata": {},
   "outputs": [
    {
     "data": {
      "text/html": [
       "<div>\n",
       "<style scoped>\n",
       "    .dataframe tbody tr th:only-of-type {\n",
       "        vertical-align: middle;\n",
       "    }\n",
       "\n",
       "    .dataframe tbody tr th {\n",
       "        vertical-align: top;\n",
       "    }\n",
       "\n",
       "    .dataframe thead th {\n",
       "        text-align: right;\n",
       "    }\n",
       "</style>\n",
       "<table border=\"1\" class=\"dataframe\">\n",
       "  <thead>\n",
       "    <tr style=\"text-align: right;\">\n",
       "      <th></th>\n",
       "      <th>title</th>\n",
       "      <th>studio</th>\n",
       "      <th>domestic_gross</th>\n",
       "      <th>foreign_gross</th>\n",
       "      <th>year</th>\n",
       "      <th>total_gross</th>\n",
       "    </tr>\n",
       "  </thead>\n",
       "  <tbody>\n",
       "    <tr>\n",
       "      <th>3080</th>\n",
       "      <td>Black Panther</td>\n",
       "      <td>BV</td>\n",
       "      <td>700100000.0</td>\n",
       "      <td>646900000.0</td>\n",
       "      <td>2018</td>\n",
       "      <td>1.347000e+09</td>\n",
       "    </tr>\n",
       "    <tr>\n",
       "      <th>3081</th>\n",
       "      <td>Jurassic World: Fallen Kingdom</td>\n",
       "      <td>Uni.</td>\n",
       "      <td>417700000.0</td>\n",
       "      <td>891800000.0</td>\n",
       "      <td>2018</td>\n",
       "      <td>1.309500e+09</td>\n",
       "    </tr>\n",
       "    <tr>\n",
       "      <th>3082</th>\n",
       "      <td>Incredibles 2</td>\n",
       "      <td>BV</td>\n",
       "      <td>608600000.0</td>\n",
       "      <td>634200000.0</td>\n",
       "      <td>2018</td>\n",
       "      <td>1.242800e+09</td>\n",
       "    </tr>\n",
       "    <tr>\n",
       "      <th>3083</th>\n",
       "      <td>Aquaman</td>\n",
       "      <td>WB</td>\n",
       "      <td>335100000.0</td>\n",
       "      <td>812700000.0</td>\n",
       "      <td>2018</td>\n",
       "      <td>1.147800e+09</td>\n",
       "    </tr>\n",
       "    <tr>\n",
       "      <th>3084</th>\n",
       "      <td>Bohemian Rhapsody</td>\n",
       "      <td>Fox</td>\n",
       "      <td>216400000.0</td>\n",
       "      <td>687200000.0</td>\n",
       "      <td>2018</td>\n",
       "      <td>9.036000e+08</td>\n",
       "    </tr>\n",
       "    <tr>\n",
       "      <th>...</th>\n",
       "      <td>...</td>\n",
       "      <td>...</td>\n",
       "      <td>...</td>\n",
       "      <td>...</td>\n",
       "      <td>...</td>\n",
       "      <td>...</td>\n",
       "    </tr>\n",
       "    <tr>\n",
       "      <th>230</th>\n",
       "      <td>It's a Wonderful Afterlife</td>\n",
       "      <td>UTV</td>\n",
       "      <td>NaN</td>\n",
       "      <td>1300000.0</td>\n",
       "      <td>2010</td>\n",
       "      <td>NaN</td>\n",
       "    </tr>\n",
       "    <tr>\n",
       "      <th>298</th>\n",
       "      <td>Celine: Through the Eyes of the World</td>\n",
       "      <td>Sony</td>\n",
       "      <td>NaN</td>\n",
       "      <td>119000.0</td>\n",
       "      <td>2010</td>\n",
       "      <td>NaN</td>\n",
       "    </tr>\n",
       "    <tr>\n",
       "      <th>302</th>\n",
       "      <td>White Lion</td>\n",
       "      <td>Scre.</td>\n",
       "      <td>NaN</td>\n",
       "      <td>99600.0</td>\n",
       "      <td>2010</td>\n",
       "      <td>NaN</td>\n",
       "    </tr>\n",
       "    <tr>\n",
       "      <th>306</th>\n",
       "      <td>Badmaash Company</td>\n",
       "      <td>Yash</td>\n",
       "      <td>NaN</td>\n",
       "      <td>64400.0</td>\n",
       "      <td>2010</td>\n",
       "      <td>NaN</td>\n",
       "    </tr>\n",
       "    <tr>\n",
       "      <th>327</th>\n",
       "      <td>Aashayein (Wishes)</td>\n",
       "      <td>Relbig.</td>\n",
       "      <td>NaN</td>\n",
       "      <td>3800.0</td>\n",
       "      <td>2010</td>\n",
       "      <td>NaN</td>\n",
       "    </tr>\n",
       "  </tbody>\n",
       "</table>\n",
       "<p>2037 rows × 6 columns</p>\n",
       "</div>"
      ],
      "text/plain": [
       "                                      title   studio  domestic_gross  \\\n",
       "3080                          Black Panther       BV     700100000.0   \n",
       "3081         Jurassic World: Fallen Kingdom     Uni.     417700000.0   \n",
       "3082                          Incredibles 2       BV     608600000.0   \n",
       "3083                                Aquaman       WB     335100000.0   \n",
       "3084                      Bohemian Rhapsody      Fox     216400000.0   \n",
       "...                                     ...      ...             ...   \n",
       "230              It's a Wonderful Afterlife      UTV             NaN   \n",
       "298   Celine: Through the Eyes of the World     Sony             NaN   \n",
       "302                              White Lion    Scre.             NaN   \n",
       "306                        Badmaash Company     Yash             NaN   \n",
       "327                      Aashayein (Wishes)  Relbig.             NaN   \n",
       "\n",
       "      foreign_gross  year   total_gross  \n",
       "3080    646900000.0  2018  1.347000e+09  \n",
       "3081    891800000.0  2018  1.309500e+09  \n",
       "3082    634200000.0  2018  1.242800e+09  \n",
       "3083    812700000.0  2018  1.147800e+09  \n",
       "3084    687200000.0  2018  9.036000e+08  \n",
       "...             ...   ...           ...  \n",
       "230       1300000.0  2010           NaN  \n",
       "298        119000.0  2010           NaN  \n",
       "302         99600.0  2010           NaN  \n",
       "306         64400.0  2010           NaN  \n",
       "327          3800.0  2010           NaN  \n",
       "\n",
       "[2037 rows x 6 columns]"
      ]
     },
     "execution_count": 33,
     "metadata": {},
     "output_type": "execute_result"
    }
   ],
   "source": [
    "# Sorted here by year and total gross to look at recent trends\n",
    "bom_df.sort_values(by=['year','total_gross'],ascending=False)"
   ]
  },
  {
   "cell_type": "markdown",
   "metadata": {},
   "source": [
    "Interesting, I see that there are some empty columns in domestic_gross that need to be dealt with, I will handle that now. Similary to the foreign_gross column, I will get rid of those rows"
   ]
  },
  {
   "cell_type": "code",
   "execution_count": 34,
   "metadata": {},
   "outputs": [
    {
     "data": {
      "text/plain": [
       "28"
      ]
     },
     "execution_count": 34,
     "metadata": {},
     "output_type": "execute_result"
    }
   ],
   "source": [
    "# Find how much missing data there is in domestic gross column\n",
    "bom_df['domestic_gross'].isna().sum()"
   ]
  },
  {
   "cell_type": "code",
   "execution_count": 35,
   "metadata": {},
   "outputs": [],
   "source": [
    "# Drop the missing 28 rows\n",
    "bom_df.dropna(subset=['domestic_gross'],inplace=True)"
   ]
  },
  {
   "cell_type": "code",
   "execution_count": 36,
   "metadata": {},
   "outputs": [
    {
     "data": {
      "text/plain": [
       "0"
      ]
     },
     "execution_count": 36,
     "metadata": {},
     "output_type": "execute_result"
    }
   ],
   "source": [
    "#Confirm that they are gone\n",
    "bom_df['domestic_gross'].isna().sum()"
   ]
  },
  {
   "cell_type": "code",
   "execution_count": 37,
   "metadata": {},
   "outputs": [],
   "source": [
    "# sort by total gross and studio to see if there are any studios that appear to be doing best\n",
    "bom_df=bom_df.sort_values(by=['total_gross','studio'],ascending=False)"
   ]
  },
  {
   "cell_type": "code",
   "execution_count": 38,
   "metadata": {},
   "outputs": [
    {
     "data": {
      "text/html": [
       "<div>\n",
       "<style scoped>\n",
       "    .dataframe tbody tr th:only-of-type {\n",
       "        vertical-align: middle;\n",
       "    }\n",
       "\n",
       "    .dataframe tbody tr th {\n",
       "        vertical-align: top;\n",
       "    }\n",
       "\n",
       "    .dataframe thead th {\n",
       "        text-align: right;\n",
       "    }\n",
       "</style>\n",
       "<table border=\"1\" class=\"dataframe\">\n",
       "  <thead>\n",
       "    <tr style=\"text-align: right;\">\n",
       "      <th></th>\n",
       "      <th>title</th>\n",
       "      <th>studio</th>\n",
       "      <th>domestic_gross</th>\n",
       "      <th>foreign_gross</th>\n",
       "      <th>year</th>\n",
       "      <th>total_gross</th>\n",
       "    </tr>\n",
       "  </thead>\n",
       "  <tbody>\n",
       "    <tr>\n",
       "      <th>727</th>\n",
       "      <td>Marvel's The Avengers</td>\n",
       "      <td>BV</td>\n",
       "      <td>623400000.0</td>\n",
       "      <td>895500000.0</td>\n",
       "      <td>2012</td>\n",
       "      <td>1.518900e+09</td>\n",
       "    </tr>\n",
       "    <tr>\n",
       "      <th>1875</th>\n",
       "      <td>Avengers: Age of Ultron</td>\n",
       "      <td>BV</td>\n",
       "      <td>459000000.0</td>\n",
       "      <td>946400000.0</td>\n",
       "      <td>2015</td>\n",
       "      <td>1.405400e+09</td>\n",
       "    </tr>\n",
       "    <tr>\n",
       "      <th>3080</th>\n",
       "      <td>Black Panther</td>\n",
       "      <td>BV</td>\n",
       "      <td>700100000.0</td>\n",
       "      <td>646900000.0</td>\n",
       "      <td>2018</td>\n",
       "      <td>1.347000e+09</td>\n",
       "    </tr>\n",
       "    <tr>\n",
       "      <th>328</th>\n",
       "      <td>Harry Potter and the Deathly Hallows Part 2</td>\n",
       "      <td>WB</td>\n",
       "      <td>381000000.0</td>\n",
       "      <td>960500000.0</td>\n",
       "      <td>2011</td>\n",
       "      <td>1.341500e+09</td>\n",
       "    </tr>\n",
       "    <tr>\n",
       "      <th>2758</th>\n",
       "      <td>Star Wars: The Last Jedi</td>\n",
       "      <td>BV</td>\n",
       "      <td>620200000.0</td>\n",
       "      <td>712400000.0</td>\n",
       "      <td>2017</td>\n",
       "      <td>1.332600e+09</td>\n",
       "    </tr>\n",
       "    <tr>\n",
       "      <th>3081</th>\n",
       "      <td>Jurassic World: Fallen Kingdom</td>\n",
       "      <td>Uni.</td>\n",
       "      <td>417700000.0</td>\n",
       "      <td>891800000.0</td>\n",
       "      <td>2018</td>\n",
       "      <td>1.309500e+09</td>\n",
       "    </tr>\n",
       "    <tr>\n",
       "      <th>1127</th>\n",
       "      <td>Frozen</td>\n",
       "      <td>BV</td>\n",
       "      <td>400700000.0</td>\n",
       "      <td>875700000.0</td>\n",
       "      <td>2013</td>\n",
       "      <td>1.276400e+09</td>\n",
       "    </tr>\n",
       "    <tr>\n",
       "      <th>2759</th>\n",
       "      <td>Beauty and the Beast (2017)</td>\n",
       "      <td>BV</td>\n",
       "      <td>504000000.0</td>\n",
       "      <td>759500000.0</td>\n",
       "      <td>2017</td>\n",
       "      <td>1.263500e+09</td>\n",
       "    </tr>\n",
       "    <tr>\n",
       "      <th>3082</th>\n",
       "      <td>Incredibles 2</td>\n",
       "      <td>BV</td>\n",
       "      <td>608600000.0</td>\n",
       "      <td>634200000.0</td>\n",
       "      <td>2018</td>\n",
       "      <td>1.242800e+09</td>\n",
       "    </tr>\n",
       "    <tr>\n",
       "      <th>1128</th>\n",
       "      <td>Iron Man 3</td>\n",
       "      <td>BV</td>\n",
       "      <td>409000000.0</td>\n",
       "      <td>805800000.0</td>\n",
       "      <td>2013</td>\n",
       "      <td>1.214800e+09</td>\n",
       "    </tr>\n",
       "  </tbody>\n",
       "</table>\n",
       "</div>"
      ],
      "text/plain": [
       "                                            title studio  domestic_gross  \\\n",
       "727                         Marvel's The Avengers     BV     623400000.0   \n",
       "1875                      Avengers: Age of Ultron     BV     459000000.0   \n",
       "3080                                Black Panther     BV     700100000.0   \n",
       "328   Harry Potter and the Deathly Hallows Part 2     WB     381000000.0   \n",
       "2758                     Star Wars: The Last Jedi     BV     620200000.0   \n",
       "3081               Jurassic World: Fallen Kingdom   Uni.     417700000.0   \n",
       "1127                                       Frozen     BV     400700000.0   \n",
       "2759                  Beauty and the Beast (2017)     BV     504000000.0   \n",
       "3082                                Incredibles 2     BV     608600000.0   \n",
       "1128                                   Iron Man 3     BV     409000000.0   \n",
       "\n",
       "      foreign_gross  year   total_gross  \n",
       "727     895500000.0  2012  1.518900e+09  \n",
       "1875    946400000.0  2015  1.405400e+09  \n",
       "3080    646900000.0  2018  1.347000e+09  \n",
       "328     960500000.0  2011  1.341500e+09  \n",
       "2758    712400000.0  2017  1.332600e+09  \n",
       "3081    891800000.0  2018  1.309500e+09  \n",
       "1127    875700000.0  2013  1.276400e+09  \n",
       "2759    759500000.0  2017  1.263500e+09  \n",
       "3082    634200000.0  2018  1.242800e+09  \n",
       "1128    805800000.0  2013  1.214800e+09  "
      ]
     },
     "execution_count": 38,
     "metadata": {},
     "output_type": "execute_result"
    }
   ],
   "source": [
    "bom_df.head(10)"
   ]
  },
  {
   "cell_type": "markdown",
   "metadata": {},
   "source": [
    "There is something to notice when looking at which studios produce the highest grossing movies. Here we see that BV has 4 of the top 5 highest grossing movies in the dataset and 8 of the TOP 10"
   ]
  },
  {
   "cell_type": "markdown",
   "metadata": {},
   "source": [
    "##  Show which studios make the best movies using visualization"
   ]
  },
  {
   "cell_type": "markdown",
   "metadata": {},
   "source": [
    "While it is interesting that 8 of the top 10 movies come from one studio, 10 is not a great sample size to look at, lets widen our scope here and see if a scatter plot can help us visualize."
   ]
  },
  {
   "cell_type": "code",
   "execution_count": 39,
   "metadata": {},
   "outputs": [],
   "source": [
    "# Get the top 500 from studio and total gross\n",
    "x_ax= bom_df['studio'][:500]\n",
    "y_ax= bom_df['total_gross'][:500]"
   ]
  },
  {
   "cell_type": "code",
   "execution_count": 40,
   "metadata": {},
   "outputs": [
    {
     "data": {
      "text/plain": [
       "''"
      ]
     },
     "execution_count": 40,
     "metadata": {},
     "output_type": "execute_result"
    },
    {
     "data": {
      "image/png": "[encoded data removed]",
      "text/plain": [
       "<Figure size 1440x360 with 1 Axes>"
      ]
     },
     "metadata": {
      "needs_background": "light"
     },
     "output_type": "display_data"
    }
   ],
   "source": [
    "fig, ax = plt.subplots(figsize=(20,5))\n",
    "ax.scatter(x=x_ax,y=y_ax)\n",
    "ax.set_xlabel('Name Of Sudio')\n",
    "ax.set_ylabel('Total Gross')\n",
    "ax.set_title('Studios Movies in Top 500')\n",
    ";"
   ]
  },
  {
   "cell_type": "markdown",
   "metadata": {},
   "source": [
    "A scatter plot does help us see that the first three appear to be the main before a steep drop off but it does not look very good. It seems like a bar chart would better serve us here but lets find out if that is more visually appealling. "
   ]
  },
  {
   "cell_type": "code",
   "execution_count": 41,
   "metadata": {},
   "outputs": [
    {
     "data": {
      "text/plain": [
       "''"
      ]
     },
     "execution_count": 41,
     "metadata": {},
     "output_type": "execute_result"
    },
    {
     "data": {
      "image/png": "[encoded data removed]",
      "text/plain": [
       "<Figure size 1440x720 with 1 Axes>"
      ]
     },
     "metadata": {
      "needs_background": "light"
     },
     "output_type": "display_data"
    }
   ],
   "source": [
    "#Make a Bar chart in order to make the data clearer\n",
    "fig, ax = plt.subplots(figsize=(20,10))\n",
    "ax.bar(x=x_ax,height=y_ax,color='green')\n",
    "ax.set_xlabel('Name Of Sudio')\n",
    "ax.set_ylabel('Total Gross')\n",
    "ax.set_title('Studios Movies in Top 500')\n",
    ";"
   ]
  },
  {
   "cell_type": "markdown",
   "metadata": {},
   "source": [
    "500 is a much better sample size and it appears as if BV is still far ahead and that there is quite the drop off after those top 3 studios in terms of total gross in the top 500 movies. So, what can we learn from this. Well I would look at the types of movies that BV makes and see if that genre or style is one that we can use. I will also examine WB and Universals top movies. First though let me look at data from the last three years quickly to make sure what we are seeing is consistent with recent trends."
   ]
  },
  {
   "cell_type": "code",
   "execution_count": 42,
   "metadata": {},
   "outputs": [],
   "source": [
    "sort_years=bom_df.sort_values(['year','total_gross'],ascending=False)"
   ]
  },
  {
   "cell_type": "code",
   "execution_count": 43,
   "metadata": {},
   "outputs": [
    {
     "data": {
      "text/html": [
       "<div>\n",
       "<style scoped>\n",
       "    .dataframe tbody tr th:only-of-type {\n",
       "        vertical-align: middle;\n",
       "    }\n",
       "\n",
       "    .dataframe tbody tr th {\n",
       "        vertical-align: top;\n",
       "    }\n",
       "\n",
       "    .dataframe thead th {\n",
       "        text-align: right;\n",
       "    }\n",
       "</style>\n",
       "<table border=\"1\" class=\"dataframe\">\n",
       "  <thead>\n",
       "    <tr style=\"text-align: right;\">\n",
       "      <th></th>\n",
       "      <th>title</th>\n",
       "      <th>studio</th>\n",
       "      <th>domestic_gross</th>\n",
       "      <th>foreign_gross</th>\n",
       "      <th>year</th>\n",
       "      <th>total_gross</th>\n",
       "    </tr>\n",
       "  </thead>\n",
       "  <tbody>\n",
       "    <tr>\n",
       "      <th>3080</th>\n",
       "      <td>Black Panther</td>\n",
       "      <td>BV</td>\n",
       "      <td>700100000.0</td>\n",
       "      <td>646900000.0</td>\n",
       "      <td>2018</td>\n",
       "      <td>1.347000e+09</td>\n",
       "    </tr>\n",
       "    <tr>\n",
       "      <th>3081</th>\n",
       "      <td>Jurassic World: Fallen Kingdom</td>\n",
       "      <td>Uni.</td>\n",
       "      <td>417700000.0</td>\n",
       "      <td>891800000.0</td>\n",
       "      <td>2018</td>\n",
       "      <td>1.309500e+09</td>\n",
       "    </tr>\n",
       "    <tr>\n",
       "      <th>3082</th>\n",
       "      <td>Incredibles 2</td>\n",
       "      <td>BV</td>\n",
       "      <td>608600000.0</td>\n",
       "      <td>634200000.0</td>\n",
       "      <td>2018</td>\n",
       "      <td>1.242800e+09</td>\n",
       "    </tr>\n",
       "    <tr>\n",
       "      <th>3083</th>\n",
       "      <td>Aquaman</td>\n",
       "      <td>WB</td>\n",
       "      <td>335100000.0</td>\n",
       "      <td>812700000.0</td>\n",
       "      <td>2018</td>\n",
       "      <td>1.147800e+09</td>\n",
       "    </tr>\n",
       "    <tr>\n",
       "      <th>3084</th>\n",
       "      <td>Bohemian Rhapsody</td>\n",
       "      <td>Fox</td>\n",
       "      <td>216400000.0</td>\n",
       "      <td>687200000.0</td>\n",
       "      <td>2018</td>\n",
       "      <td>9.036000e+08</td>\n",
       "    </tr>\n",
       "  </tbody>\n",
       "</table>\n",
       "</div>"
      ],
      "text/plain": [
       "                               title studio  domestic_gross  foreign_gross  \\\n",
       "3080                   Black Panther     BV     700100000.0    646900000.0   \n",
       "3081  Jurassic World: Fallen Kingdom   Uni.     417700000.0    891800000.0   \n",
       "3082                   Incredibles 2     BV     608600000.0    634200000.0   \n",
       "3083                         Aquaman     WB     335100000.0    812700000.0   \n",
       "3084               Bohemian Rhapsody    Fox     216400000.0    687200000.0   \n",
       "\n",
       "      year   total_gross  \n",
       "3080  2018  1.347000e+09  \n",
       "3081  2018  1.309500e+09  \n",
       "3082  2018  1.242800e+09  \n",
       "3083  2018  1.147800e+09  \n",
       "3084  2018  9.036000e+08  "
      ]
     },
     "execution_count": 43,
     "metadata": {},
     "output_type": "execute_result"
    }
   ],
   "source": [
    "sort_years.head()"
   ]
  },
  {
   "cell_type": "code",
   "execution_count": 44,
   "metadata": {},
   "outputs": [
    {
     "data": {
      "text/html": [
       "<div>\n",
       "<style scoped>\n",
       "    .dataframe tbody tr th:only-of-type {\n",
       "        vertical-align: middle;\n",
       "    }\n",
       "\n",
       "    .dataframe tbody tr th {\n",
       "        vertical-align: top;\n",
       "    }\n",
       "\n",
       "    .dataframe thead th {\n",
       "        text-align: right;\n",
       "    }\n",
       "</style>\n",
       "<table border=\"1\" class=\"dataframe\">\n",
       "  <thead>\n",
       "    <tr style=\"text-align: right;\">\n",
       "      <th></th>\n",
       "      <th>title</th>\n",
       "      <th>studio</th>\n",
       "      <th>domestic_gross</th>\n",
       "      <th>foreign_gross</th>\n",
       "      <th>year</th>\n",
       "      <th>total_gross</th>\n",
       "    </tr>\n",
       "  </thead>\n",
       "  <tbody>\n",
       "    <tr>\n",
       "      <th>3080</th>\n",
       "      <td>Black Panther</td>\n",
       "      <td>BV</td>\n",
       "      <td>700100000.0</td>\n",
       "      <td>646900000.0</td>\n",
       "      <td>2018</td>\n",
       "      <td>1.347000e+09</td>\n",
       "    </tr>\n",
       "    <tr>\n",
       "      <th>3081</th>\n",
       "      <td>Jurassic World: Fallen Kingdom</td>\n",
       "      <td>Uni.</td>\n",
       "      <td>417700000.0</td>\n",
       "      <td>891800000.0</td>\n",
       "      <td>2018</td>\n",
       "      <td>1.309500e+09</td>\n",
       "    </tr>\n",
       "    <tr>\n",
       "      <th>3082</th>\n",
       "      <td>Incredibles 2</td>\n",
       "      <td>BV</td>\n",
       "      <td>608600000.0</td>\n",
       "      <td>634200000.0</td>\n",
       "      <td>2018</td>\n",
       "      <td>1.242800e+09</td>\n",
       "    </tr>\n",
       "    <tr>\n",
       "      <th>3083</th>\n",
       "      <td>Aquaman</td>\n",
       "      <td>WB</td>\n",
       "      <td>335100000.0</td>\n",
       "      <td>812700000.0</td>\n",
       "      <td>2018</td>\n",
       "      <td>1.147800e+09</td>\n",
       "    </tr>\n",
       "    <tr>\n",
       "      <th>3084</th>\n",
       "      <td>Bohemian Rhapsody</td>\n",
       "      <td>Fox</td>\n",
       "      <td>216400000.0</td>\n",
       "      <td>687200000.0</td>\n",
       "      <td>2018</td>\n",
       "      <td>9.036000e+08</td>\n",
       "    </tr>\n",
       "  </tbody>\n",
       "</table>\n",
       "</div>"
      ],
      "text/plain": [
       "                               title studio  domestic_gross  foreign_gross  \\\n",
       "3080                   Black Panther     BV     700100000.0    646900000.0   \n",
       "3081  Jurassic World: Fallen Kingdom   Uni.     417700000.0    891800000.0   \n",
       "3082                   Incredibles 2     BV     608600000.0    634200000.0   \n",
       "3083                         Aquaman     WB     335100000.0    812700000.0   \n",
       "3084               Bohemian Rhapsody    Fox     216400000.0    687200000.0   \n",
       "\n",
       "      year   total_gross  \n",
       "3080  2018  1.347000e+09  \n",
       "3081  2018  1.309500e+09  \n",
       "3082  2018  1.242800e+09  \n",
       "3083  2018  1.147800e+09  \n",
       "3084  2018  9.036000e+08  "
      ]
     },
     "execution_count": 44,
     "metadata": {},
     "output_type": "execute_result"
    }
   ],
   "source": [
    "movies_2018=sort_years.loc[sort_years['year']==2018]\n",
    "movies_2018.head()"
   ]
  },
  {
   "cell_type": "markdown",
   "metadata": {},
   "source": [
    "In 2018 we see a mix of studios in the top 5 of total_gross. 4 of the top 5 are apart of franchises though and 4 out of 5 are also rated PG-13. The other one is rated PG."
   ]
  },
  {
   "cell_type": "code",
   "execution_count": 45,
   "metadata": {},
   "outputs": [
    {
     "data": {
      "text/html": [
       "<div>\n",
       "<style scoped>\n",
       "    .dataframe tbody tr th:only-of-type {\n",
       "        vertical-align: middle;\n",
       "    }\n",
       "\n",
       "    .dataframe tbody tr th {\n",
       "        vertical-align: top;\n",
       "    }\n",
       "\n",
       "    .dataframe thead th {\n",
       "        text-align: right;\n",
       "    }\n",
       "</style>\n",
       "<table border=\"1\" class=\"dataframe\">\n",
       "  <thead>\n",
       "    <tr style=\"text-align: right;\">\n",
       "      <th></th>\n",
       "      <th>title</th>\n",
       "      <th>studio</th>\n",
       "      <th>domestic_gross</th>\n",
       "      <th>foreign_gross</th>\n",
       "      <th>year</th>\n",
       "      <th>total_gross</th>\n",
       "    </tr>\n",
       "  </thead>\n",
       "  <tbody>\n",
       "    <tr>\n",
       "      <th>2758</th>\n",
       "      <td>Star Wars: The Last Jedi</td>\n",
       "      <td>BV</td>\n",
       "      <td>620200000.0</td>\n",
       "      <td>712400000.0</td>\n",
       "      <td>2017</td>\n",
       "      <td>1.332600e+09</td>\n",
       "    </tr>\n",
       "    <tr>\n",
       "      <th>2759</th>\n",
       "      <td>Beauty and the Beast (2017)</td>\n",
       "      <td>BV</td>\n",
       "      <td>504000000.0</td>\n",
       "      <td>759500000.0</td>\n",
       "      <td>2017</td>\n",
       "      <td>1.263500e+09</td>\n",
       "    </tr>\n",
       "    <tr>\n",
       "      <th>2761</th>\n",
       "      <td>Despicable Me 3</td>\n",
       "      <td>Uni.</td>\n",
       "      <td>264600000.0</td>\n",
       "      <td>770200000.0</td>\n",
       "      <td>2017</td>\n",
       "      <td>1.034800e+09</td>\n",
       "    </tr>\n",
       "    <tr>\n",
       "      <th>2762</th>\n",
       "      <td>Jumanji: Welcome to the Jungle</td>\n",
       "      <td>Sony</td>\n",
       "      <td>404500000.0</td>\n",
       "      <td>557600000.0</td>\n",
       "      <td>2017</td>\n",
       "      <td>9.621000e+08</td>\n",
       "    </tr>\n",
       "    <tr>\n",
       "      <th>2763</th>\n",
       "      <td>Spider-Man: Homecoming</td>\n",
       "      <td>Sony</td>\n",
       "      <td>334200000.0</td>\n",
       "      <td>546000000.0</td>\n",
       "      <td>2017</td>\n",
       "      <td>8.802000e+08</td>\n",
       "    </tr>\n",
       "  </tbody>\n",
       "</table>\n",
       "</div>"
      ],
      "text/plain": [
       "                               title studio  domestic_gross  foreign_gross  \\\n",
       "2758        Star Wars: The Last Jedi     BV     620200000.0    712400000.0   \n",
       "2759     Beauty and the Beast (2017)     BV     504000000.0    759500000.0   \n",
       "2761                 Despicable Me 3   Uni.     264600000.0    770200000.0   \n",
       "2762  Jumanji: Welcome to the Jungle   Sony     404500000.0    557600000.0   \n",
       "2763          Spider-Man: Homecoming   Sony     334200000.0    546000000.0   \n",
       "\n",
       "      year   total_gross  \n",
       "2758  2017  1.332600e+09  \n",
       "2759  2017  1.263500e+09  \n",
       "2761  2017  1.034800e+09  \n",
       "2762  2017  9.621000e+08  \n",
       "2763  2017  8.802000e+08  "
      ]
     },
     "execution_count": 45,
     "metadata": {},
     "output_type": "execute_result"
    }
   ],
   "source": [
    "movies_2017=sort_years.loc[sort_years['year']==2017]\n",
    "movies_2017.head()"
   ]
  },
  {
   "cell_type": "markdown",
   "metadata": {},
   "source": [
    "In 2017 we see the trend continue with a mix of studios in the top 5 highest grossing of the year. There are 3 out of 5 that are apart of franchises and 3 out of 5 rated PG-13 with the other two being PG."
   ]
  },
  {
   "cell_type": "code",
   "execution_count": 46,
   "metadata": {},
   "outputs": [
    {
     "data": {
      "text/html": [
       "<div>\n",
       "<style scoped>\n",
       "    .dataframe tbody tr th:only-of-type {\n",
       "        vertical-align: middle;\n",
       "    }\n",
       "\n",
       "    .dataframe tbody tr th {\n",
       "        vertical-align: top;\n",
       "    }\n",
       "\n",
       "    .dataframe thead th {\n",
       "        text-align: right;\n",
       "    }\n",
       "</style>\n",
       "<table border=\"1\" class=\"dataframe\">\n",
       "  <thead>\n",
       "    <tr style=\"text-align: right;\">\n",
       "      <th></th>\n",
       "      <th>title</th>\n",
       "      <th>studio</th>\n",
       "      <th>domestic_gross</th>\n",
       "      <th>foreign_gross</th>\n",
       "      <th>year</th>\n",
       "      <th>total_gross</th>\n",
       "    </tr>\n",
       "  </thead>\n",
       "  <tbody>\n",
       "    <tr>\n",
       "      <th>2322</th>\n",
       "      <td>Captain America: Civil War</td>\n",
       "      <td>BV</td>\n",
       "      <td>408100000.0</td>\n",
       "      <td>745200000.0</td>\n",
       "      <td>2016</td>\n",
       "      <td>1.153300e+09</td>\n",
       "    </tr>\n",
       "    <tr>\n",
       "      <th>2323</th>\n",
       "      <td>Rogue One: A Star Wars Story</td>\n",
       "      <td>BV</td>\n",
       "      <td>532200000.0</td>\n",
       "      <td>523900000.0</td>\n",
       "      <td>2016</td>\n",
       "      <td>1.056100e+09</td>\n",
       "    </tr>\n",
       "    <tr>\n",
       "      <th>2324</th>\n",
       "      <td>Finding Dory</td>\n",
       "      <td>BV</td>\n",
       "      <td>486300000.0</td>\n",
       "      <td>542300000.0</td>\n",
       "      <td>2016</td>\n",
       "      <td>1.028600e+09</td>\n",
       "    </tr>\n",
       "    <tr>\n",
       "      <th>2325</th>\n",
       "      <td>Zootopia</td>\n",
       "      <td>BV</td>\n",
       "      <td>341300000.0</td>\n",
       "      <td>682500000.0</td>\n",
       "      <td>2016</td>\n",
       "      <td>1.023800e+09</td>\n",
       "    </tr>\n",
       "    <tr>\n",
       "      <th>2326</th>\n",
       "      <td>The Jungle Book (2016)</td>\n",
       "      <td>BV</td>\n",
       "      <td>364000000.0</td>\n",
       "      <td>602500000.0</td>\n",
       "      <td>2016</td>\n",
       "      <td>9.665000e+08</td>\n",
       "    </tr>\n",
       "  </tbody>\n",
       "</table>\n",
       "</div>"
      ],
      "text/plain": [
       "                             title studio  domestic_gross  foreign_gross  \\\n",
       "2322    Captain America: Civil War     BV     408100000.0    745200000.0   \n",
       "2323  Rogue One: A Star Wars Story     BV     532200000.0    523900000.0   \n",
       "2324                  Finding Dory     BV     486300000.0    542300000.0   \n",
       "2325                      Zootopia     BV     341300000.0    682500000.0   \n",
       "2326        The Jungle Book (2016)     BV     364000000.0    602500000.0   \n",
       "\n",
       "      year   total_gross  \n",
       "2322  2016  1.153300e+09  \n",
       "2323  2016  1.056100e+09  \n",
       "2324  2016  1.028600e+09  \n",
       "2325  2016  1.023800e+09  \n",
       "2326  2016  9.665000e+08  "
      ]
     },
     "execution_count": 46,
     "metadata": {},
     "output_type": "execute_result"
    }
   ],
   "source": [
    "movies_2016=sort_years.loc[sort_years['year']==2016]\n",
    "movies_2016.head()"
   ]
  },
  {
   "cell_type": "markdown",
   "metadata": {},
   "source": [
    "Finally we will look at the 2016 data. Now this year appears to be owned by BV as they have all 5 of the highest grossing movies. Similar to the other years we have some more franchises as well as a mix of PG-13 and PG movies."
   ]
  },
  {
   "cell_type": "code",
   "execution_count": 47,
   "metadata": {},
   "outputs": [
    {
     "data": {
      "text/html": [
       "<div>\n",
       "<style scoped>\n",
       "    .dataframe tbody tr th:only-of-type {\n",
       "        vertical-align: middle;\n",
       "    }\n",
       "\n",
       "    .dataframe tbody tr th {\n",
       "        vertical-align: top;\n",
       "    }\n",
       "\n",
       "    .dataframe thead th {\n",
       "        text-align: right;\n",
       "    }\n",
       "</style>\n",
       "<table border=\"1\" class=\"dataframe\">\n",
       "  <thead>\n",
       "    <tr style=\"text-align: right;\">\n",
       "      <th></th>\n",
       "      <th>title</th>\n",
       "      <th>studio</th>\n",
       "      <th>domestic_gross</th>\n",
       "      <th>foreign_gross</th>\n",
       "      <th>year</th>\n",
       "      <th>total_gross</th>\n",
       "    </tr>\n",
       "  </thead>\n",
       "  <tbody>\n",
       "    <tr>\n",
       "      <th>727</th>\n",
       "      <td>Marvel's The Avengers</td>\n",
       "      <td>BV</td>\n",
       "      <td>623400000.0</td>\n",
       "      <td>895500000.0</td>\n",
       "      <td>2012</td>\n",
       "      <td>1.518900e+09</td>\n",
       "    </tr>\n",
       "    <tr>\n",
       "      <th>1875</th>\n",
       "      <td>Avengers: Age of Ultron</td>\n",
       "      <td>BV</td>\n",
       "      <td>459000000.0</td>\n",
       "      <td>946400000.0</td>\n",
       "      <td>2015</td>\n",
       "      <td>1.405400e+09</td>\n",
       "    </tr>\n",
       "    <tr>\n",
       "      <th>3080</th>\n",
       "      <td>Black Panther</td>\n",
       "      <td>BV</td>\n",
       "      <td>700100000.0</td>\n",
       "      <td>646900000.0</td>\n",
       "      <td>2018</td>\n",
       "      <td>1.347000e+09</td>\n",
       "    </tr>\n",
       "    <tr>\n",
       "      <th>328</th>\n",
       "      <td>Harry Potter and the Deathly Hallows Part 2</td>\n",
       "      <td>WB</td>\n",
       "      <td>381000000.0</td>\n",
       "      <td>960500000.0</td>\n",
       "      <td>2011</td>\n",
       "      <td>1.341500e+09</td>\n",
       "    </tr>\n",
       "    <tr>\n",
       "      <th>2758</th>\n",
       "      <td>Star Wars: The Last Jedi</td>\n",
       "      <td>BV</td>\n",
       "      <td>620200000.0</td>\n",
       "      <td>712400000.0</td>\n",
       "      <td>2017</td>\n",
       "      <td>1.332600e+09</td>\n",
       "    </tr>\n",
       "  </tbody>\n",
       "</table>\n",
       "</div>"
      ],
      "text/plain": [
       "                                            title studio  domestic_gross  \\\n",
       "727                         Marvel's The Avengers     BV     623400000.0   \n",
       "1875                      Avengers: Age of Ultron     BV     459000000.0   \n",
       "3080                                Black Panther     BV     700100000.0   \n",
       "328   Harry Potter and the Deathly Hallows Part 2     WB     381000000.0   \n",
       "2758                     Star Wars: The Last Jedi     BV     620200000.0   \n",
       "\n",
       "      foreign_gross  year   total_gross  \n",
       "727     895500000.0  2012  1.518900e+09  \n",
       "1875    946400000.0  2015  1.405400e+09  \n",
       "3080    646900000.0  2018  1.347000e+09  \n",
       "328     960500000.0  2011  1.341500e+09  \n",
       "2758    712400000.0  2017  1.332600e+09  "
      ]
     },
     "execution_count": 47,
     "metadata": {},
     "output_type": "execute_result"
    }
   ],
   "source": [
    "# Back to the whole data set\n",
    "bom_df.head()"
   ]
  },
  {
   "cell_type": "code",
   "execution_count": 48,
   "metadata": {},
   "outputs": [
    {
     "data": {
      "text/html": [
       "<div>\n",
       "<style scoped>\n",
       "    .dataframe tbody tr th:only-of-type {\n",
       "        vertical-align: middle;\n",
       "    }\n",
       "\n",
       "    .dataframe tbody tr th {\n",
       "        vertical-align: top;\n",
       "    }\n",
       "\n",
       "    .dataframe thead th {\n",
       "        text-align: right;\n",
       "    }\n",
       "</style>\n",
       "<table border=\"1\" class=\"dataframe\">\n",
       "  <thead>\n",
       "    <tr style=\"text-align: right;\">\n",
       "      <th></th>\n",
       "      <th>title</th>\n",
       "      <th>studio</th>\n",
       "      <th>total_gross</th>\n",
       "    </tr>\n",
       "  </thead>\n",
       "  <tbody>\n",
       "    <tr>\n",
       "      <th>727</th>\n",
       "      <td>Marvel's The Avengers</td>\n",
       "      <td>BV</td>\n",
       "      <td>1.518900e+09</td>\n",
       "    </tr>\n",
       "    <tr>\n",
       "      <th>1875</th>\n",
       "      <td>Avengers: Age of Ultron</td>\n",
       "      <td>BV</td>\n",
       "      <td>1.405400e+09</td>\n",
       "    </tr>\n",
       "    <tr>\n",
       "      <th>3080</th>\n",
       "      <td>Black Panther</td>\n",
       "      <td>BV</td>\n",
       "      <td>1.347000e+09</td>\n",
       "    </tr>\n",
       "    <tr>\n",
       "      <th>328</th>\n",
       "      <td>Harry Potter and the Deathly Hallows Part 2</td>\n",
       "      <td>WB</td>\n",
       "      <td>1.341500e+09</td>\n",
       "    </tr>\n",
       "    <tr>\n",
       "      <th>2758</th>\n",
       "      <td>Star Wars: The Last Jedi</td>\n",
       "      <td>BV</td>\n",
       "      <td>1.332600e+09</td>\n",
       "    </tr>\n",
       "  </tbody>\n",
       "</table>\n",
       "</div>"
      ],
      "text/plain": [
       "                                            title studio   total_gross\n",
       "727                         Marvel's The Avengers     BV  1.518900e+09\n",
       "1875                      Avengers: Age of Ultron     BV  1.405400e+09\n",
       "3080                                Black Panther     BV  1.347000e+09\n",
       "328   Harry Potter and the Deathly Hallows Part 2     WB  1.341500e+09\n",
       "2758                     Star Wars: The Last Jedi     BV  1.332600e+09"
      ]
     },
     "execution_count": 48,
     "metadata": {},
     "output_type": "execute_result"
    }
   ],
   "source": [
    "#Get studio, title and total gross alone. Then sort  by total gross in descending order\n",
    "studios_gross=bom_df.drop(['domestic_gross','foreign_gross','year'],axis=1)\n",
    "studios_gross=studios_gross.sort_values(by='total_gross',ascending=False)\n",
    "studios_gross.head()"
   ]
  },
  {
   "cell_type": "markdown",
   "metadata": {},
   "source": [
    "Now lets look at those top three studios from the bar chart we did above and see what else we can find out from these industry leaders."
   ]
  },
  {
   "cell_type": "code",
   "execution_count": 49,
   "metadata": {},
   "outputs": [],
   "source": [
    "#Get the BV movies alone\n",
    "top_bv=studios_gross.loc[studios_gross['studio']=='BV']"
   ]
  },
  {
   "cell_type": "code",
   "execution_count": 50,
   "metadata": {},
   "outputs": [
    {
     "data": {
      "text/html": [
       "<div>\n",
       "<style scoped>\n",
       "    .dataframe tbody tr th:only-of-type {\n",
       "        vertical-align: middle;\n",
       "    }\n",
       "\n",
       "    .dataframe tbody tr th {\n",
       "        vertical-align: top;\n",
       "    }\n",
       "\n",
       "    .dataframe thead th {\n",
       "        text-align: right;\n",
       "    }\n",
       "</style>\n",
       "<table border=\"1\" class=\"dataframe\">\n",
       "  <thead>\n",
       "    <tr style=\"text-align: right;\">\n",
       "      <th></th>\n",
       "      <th>title</th>\n",
       "      <th>studio</th>\n",
       "      <th>total_gross</th>\n",
       "    </tr>\n",
       "  </thead>\n",
       "  <tbody>\n",
       "    <tr>\n",
       "      <th>727</th>\n",
       "      <td>Marvel's The Avengers</td>\n",
       "      <td>BV</td>\n",
       "      <td>1.518900e+09</td>\n",
       "    </tr>\n",
       "    <tr>\n",
       "      <th>1875</th>\n",
       "      <td>Avengers: Age of Ultron</td>\n",
       "      <td>BV</td>\n",
       "      <td>1.405400e+09</td>\n",
       "    </tr>\n",
       "    <tr>\n",
       "      <th>3080</th>\n",
       "      <td>Black Panther</td>\n",
       "      <td>BV</td>\n",
       "      <td>1.347000e+09</td>\n",
       "    </tr>\n",
       "    <tr>\n",
       "      <th>2758</th>\n",
       "      <td>Star Wars: The Last Jedi</td>\n",
       "      <td>BV</td>\n",
       "      <td>1.332600e+09</td>\n",
       "    </tr>\n",
       "    <tr>\n",
       "      <th>1127</th>\n",
       "      <td>Frozen</td>\n",
       "      <td>BV</td>\n",
       "      <td>1.276400e+09</td>\n",
       "    </tr>\n",
       "    <tr>\n",
       "      <th>2759</th>\n",
       "      <td>Beauty and the Beast (2017)</td>\n",
       "      <td>BV</td>\n",
       "      <td>1.263500e+09</td>\n",
       "    </tr>\n",
       "    <tr>\n",
       "      <th>3082</th>\n",
       "      <td>Incredibles 2</td>\n",
       "      <td>BV</td>\n",
       "      <td>1.242800e+09</td>\n",
       "    </tr>\n",
       "    <tr>\n",
       "      <th>1128</th>\n",
       "      <td>Iron Man 3</td>\n",
       "      <td>BV</td>\n",
       "      <td>1.214800e+09</td>\n",
       "    </tr>\n",
       "    <tr>\n",
       "      <th>2322</th>\n",
       "      <td>Captain America: Civil War</td>\n",
       "      <td>BV</td>\n",
       "      <td>1.153300e+09</td>\n",
       "    </tr>\n",
       "    <tr>\n",
       "      <th>0</th>\n",
       "      <td>Toy Story 3</td>\n",
       "      <td>BV</td>\n",
       "      <td>1.067000e+09</td>\n",
       "    </tr>\n",
       "  </tbody>\n",
       "</table>\n",
       "</div>"
      ],
      "text/plain": [
       "                            title studio   total_gross\n",
       "727         Marvel's The Avengers     BV  1.518900e+09\n",
       "1875      Avengers: Age of Ultron     BV  1.405400e+09\n",
       "3080                Black Panther     BV  1.347000e+09\n",
       "2758     Star Wars: The Last Jedi     BV  1.332600e+09\n",
       "1127                       Frozen     BV  1.276400e+09\n",
       "2759  Beauty and the Beast (2017)     BV  1.263500e+09\n",
       "3082                Incredibles 2     BV  1.242800e+09\n",
       "1128                   Iron Man 3     BV  1.214800e+09\n",
       "2322   Captain America: Civil War     BV  1.153300e+09\n",
       "0                     Toy Story 3     BV  1.067000e+09"
      ]
     },
     "execution_count": 50,
     "metadata": {},
     "output_type": "execute_result"
    }
   ],
   "source": [
    "top_bv.head(10)"
   ]
  },
  {
   "cell_type": "markdown",
   "metadata": {},
   "source": [
    "Interesting, so 6 out of 10 of these movies are rated PG-13 based on my own research. Those would be--- Marvel's: The Avengers, Avengers: Age of Ultron, Black Panther, Star Wars: The Last Jedi, Iron Man 3, Captain America: Civil War.\n",
    "Then three others are rated PG. Those being, Frozen, Beauty and the Beast and Incredibles 2. Finally there is Toy Story 3 which got a G rating. These movies are mainly fiction though and many are part of franchises so that can also be another thing to note. Another thing that catches my eye is that half of these come from comic books to a certain extent. If one wants more information on any of these movies or other top movies that have come out from the studio they can find it at https://www.newsweek.com/20-highest-grossing-disney-movies-all-time-star-wars-frozen-1600957"
   ]
  },
  {
   "cell_type": "code",
   "execution_count": 51,
   "metadata": {},
   "outputs": [],
   "source": [
    "#Get the WB movies all alone\n",
    "top_wb=studios_gross.loc[studios_gross['studio']=='WB']"
   ]
  },
  {
   "cell_type": "code",
   "execution_count": 52,
   "metadata": {},
   "outputs": [
    {
     "data": {
      "text/html": [
       "<div>\n",
       "<style scoped>\n",
       "    .dataframe tbody tr th:only-of-type {\n",
       "        vertical-align: middle;\n",
       "    }\n",
       "\n",
       "    .dataframe tbody tr th {\n",
       "        vertical-align: top;\n",
       "    }\n",
       "\n",
       "    .dataframe thead th {\n",
       "        text-align: right;\n",
       "    }\n",
       "</style>\n",
       "<table border=\"1\" class=\"dataframe\">\n",
       "  <thead>\n",
       "    <tr style=\"text-align: right;\">\n",
       "      <th></th>\n",
       "      <th>title</th>\n",
       "      <th>studio</th>\n",
       "      <th>total_gross</th>\n",
       "    </tr>\n",
       "  </thead>\n",
       "  <tbody>\n",
       "    <tr>\n",
       "      <th>328</th>\n",
       "      <td>Harry Potter and the Deathly Hallows Part 2</td>\n",
       "      <td>WB</td>\n",
       "      <td>1.341500e+09</td>\n",
       "    </tr>\n",
       "    <tr>\n",
       "      <th>3083</th>\n",
       "      <td>Aquaman</td>\n",
       "      <td>WB</td>\n",
       "      <td>1.147800e+09</td>\n",
       "    </tr>\n",
       "    <tr>\n",
       "      <th>729</th>\n",
       "      <td>The Dark Knight Rises</td>\n",
       "      <td>WB</td>\n",
       "      <td>1.084900e+09</td>\n",
       "    </tr>\n",
       "    <tr>\n",
       "      <th>2</th>\n",
       "      <td>Harry Potter and the Deathly Hallows Part 1</td>\n",
       "      <td>WB</td>\n",
       "      <td>9.603000e+08</td>\n",
       "    </tr>\n",
       "    <tr>\n",
       "      <th>2328</th>\n",
       "      <td>Batman v Superman: Dawn of Justice</td>\n",
       "      <td>WB</td>\n",
       "      <td>8.737000e+08</td>\n",
       "    </tr>\n",
       "    <tr>\n",
       "      <th>3</th>\n",
       "      <td>Inception</td>\n",
       "      <td>WB</td>\n",
       "      <td>8.283000e+08</td>\n",
       "    </tr>\n",
       "    <tr>\n",
       "      <th>2767</th>\n",
       "      <td>Wonder Woman</td>\n",
       "      <td>WB</td>\n",
       "      <td>8.219000e+08</td>\n",
       "    </tr>\n",
       "    <tr>\n",
       "      <th>2329</th>\n",
       "      <td>Fantastic Beasts and Where To Find Them</td>\n",
       "      <td>WB</td>\n",
       "      <td>8.140000e+08</td>\n",
       "    </tr>\n",
       "    <tr>\n",
       "      <th>2331</th>\n",
       "      <td>Suicide Squad</td>\n",
       "      <td>WB</td>\n",
       "      <td>7.468000e+08</td>\n",
       "    </tr>\n",
       "    <tr>\n",
       "      <th>1134</th>\n",
       "      <td>Gravity</td>\n",
       "      <td>WB</td>\n",
       "      <td>7.232000e+08</td>\n",
       "    </tr>\n",
       "  </tbody>\n",
       "</table>\n",
       "</div>"
      ],
      "text/plain": [
       "                                            title studio   total_gross\n",
       "328   Harry Potter and the Deathly Hallows Part 2     WB  1.341500e+09\n",
       "3083                                      Aquaman     WB  1.147800e+09\n",
       "729                         The Dark Knight Rises     WB  1.084900e+09\n",
       "2     Harry Potter and the Deathly Hallows Part 1     WB  9.603000e+08\n",
       "2328           Batman v Superman: Dawn of Justice     WB  8.737000e+08\n",
       "3                                       Inception     WB  8.283000e+08\n",
       "2767                                 Wonder Woman     WB  8.219000e+08\n",
       "2329      Fantastic Beasts and Where To Find Them     WB  8.140000e+08\n",
       "2331                                Suicide Squad     WB  7.468000e+08\n",
       "1134                                      Gravity     WB  7.232000e+08"
      ]
     },
     "execution_count": 52,
     "metadata": {},
     "output_type": "execute_result"
    }
   ],
   "source": [
    "top_wb.head(10)"
   ]
  },
  {
   "cell_type": "markdown",
   "metadata": {},
   "source": [
    "Here are Warner Brothers top 10 grossing films. Interestingly enough they are ALL rated PG-13. We also have a lot more movies here that are apart of franchises. Then a few more movies based on comic books and some based on books like the Harry Potter franchise. For a deeper look at Warner Bros and some of their top movies ever, feel free to check out this link: https://www.listchallenges.com/warner-bros-top-100-highest-grossing-films"
   ]
  },
  {
   "cell_type": "code",
   "execution_count": 53,
   "metadata": {},
   "outputs": [],
   "source": [
    "# Get the Universal movies all alone\n",
    "top_uni=studios_gross.loc[studios_gross['studio']=='Uni.']"
   ]
  },
  {
   "cell_type": "code",
   "execution_count": 54,
   "metadata": {},
   "outputs": [
    {
     "data": {
      "text/html": [
       "<div>\n",
       "<style scoped>\n",
       "    .dataframe tbody tr th:only-of-type {\n",
       "        vertical-align: middle;\n",
       "    }\n",
       "\n",
       "    .dataframe tbody tr th {\n",
       "        vertical-align: top;\n",
       "    }\n",
       "\n",
       "    .dataframe thead th {\n",
       "        text-align: right;\n",
       "    }\n",
       "</style>\n",
       "<table border=\"1\" class=\"dataframe\">\n",
       "  <thead>\n",
       "    <tr style=\"text-align: right;\">\n",
       "      <th></th>\n",
       "      <th>title</th>\n",
       "      <th>studio</th>\n",
       "      <th>total_gross</th>\n",
       "    </tr>\n",
       "  </thead>\n",
       "  <tbody>\n",
       "    <tr>\n",
       "      <th>3081</th>\n",
       "      <td>Jurassic World: Fallen Kingdom</td>\n",
       "      <td>Uni.</td>\n",
       "      <td>1.309500e+09</td>\n",
       "    </tr>\n",
       "    <tr>\n",
       "      <th>1876</th>\n",
       "      <td>Minions</td>\n",
       "      <td>Uni.</td>\n",
       "      <td>1.159400e+09</td>\n",
       "    </tr>\n",
       "    <tr>\n",
       "      <th>2761</th>\n",
       "      <td>Despicable Me 3</td>\n",
       "      <td>Uni.</td>\n",
       "      <td>1.034800e+09</td>\n",
       "    </tr>\n",
       "    <tr>\n",
       "      <th>1129</th>\n",
       "      <td>Despicable Me 2</td>\n",
       "      <td>Uni.</td>\n",
       "      <td>9.708000e+08</td>\n",
       "    </tr>\n",
       "    <tr>\n",
       "      <th>2327</th>\n",
       "      <td>The Secret Life of Pets</td>\n",
       "      <td>Uni.</td>\n",
       "      <td>8.755000e+08</td>\n",
       "    </tr>\n",
       "    <tr>\n",
       "      <th>1132</th>\n",
       "      <td>Fast &amp; Furious 6</td>\n",
       "      <td>Uni.</td>\n",
       "      <td>7.887000e+08</td>\n",
       "    </tr>\n",
       "    <tr>\n",
       "      <th>1873</th>\n",
       "      <td>Jurassic World</td>\n",
       "      <td>Uni.</td>\n",
       "      <td>6.523010e+08</td>\n",
       "    </tr>\n",
       "    <tr>\n",
       "      <th>2334</th>\n",
       "      <td>Sing</td>\n",
       "      <td>Uni.</td>\n",
       "      <td>6.342000e+08</td>\n",
       "    </tr>\n",
       "    <tr>\n",
       "      <th>334</th>\n",
       "      <td>Fast Five</td>\n",
       "      <td>Uni.</td>\n",
       "      <td>6.261000e+08</td>\n",
       "    </tr>\n",
       "    <tr>\n",
       "      <th>1882</th>\n",
       "      <td>Fifty Shades of Grey</td>\n",
       "      <td>Uni.</td>\n",
       "      <td>5.710000e+08</td>\n",
       "    </tr>\n",
       "  </tbody>\n",
       "</table>\n",
       "</div>"
      ],
      "text/plain": [
       "                               title studio   total_gross\n",
       "3081  Jurassic World: Fallen Kingdom   Uni.  1.309500e+09\n",
       "1876                         Minions   Uni.  1.159400e+09\n",
       "2761                 Despicable Me 3   Uni.  1.034800e+09\n",
       "1129                 Despicable Me 2   Uni.  9.708000e+08\n",
       "2327         The Secret Life of Pets   Uni.  8.755000e+08\n",
       "1132                Fast & Furious 6   Uni.  7.887000e+08\n",
       "1873                  Jurassic World   Uni.  6.523010e+08\n",
       "2334                            Sing   Uni.  6.342000e+08\n",
       "334                        Fast Five   Uni.  6.261000e+08\n",
       "1882            Fifty Shades of Grey   Uni.  5.710000e+08"
      ]
     },
     "execution_count": 54,
     "metadata": {},
     "output_type": "execute_result"
    }
   ],
   "source": [
    "top_uni.head(10)"
   ]
  },
  {
   "cell_type": "markdown",
   "metadata": {},
   "source": [
    "Finally we look at the Universal studio data. Between the three studios they have by far the most variety of rating in their top 10. They have 1 movie rated R, Fifty Shades of Grey. Then 4 movies rated PG-13, those are JW: Fallen Kingdom, Fast & Furious 6, Fast 5 and Jurassic World. Then there are 5 movies rated PG, they are Minions, Despicable Me 2, Despicable Me 3, Secret Life of Pets and Sing. Notice that there are still a lot of franchises that show up here as well as a book that was turned into a movie. More information about these and other top Universal Studios movies can be found here: https://www.the-numbers.com/box-office-records/worldwide/all-movies/theatrical-distributors/universal"
   ]
  },
  {
   "cell_type": "markdown",
   "metadata": {},
   "source": [
    "## Rotten Tomatoes Movie Info Data"
   ]
  },
  {
   "cell_type": "markdown",
   "metadata": {},
   "source": [
    "Load the Rotten Tomatoes movie_info data frame and see what useful information can be found there."
   ]
  },
  {
   "cell_type": "code",
   "execution_count": 55,
   "metadata": {},
   "outputs": [],
   "source": [
    "# read the rotten tomatoes\n",
    "rt_movieinfo=pd.read_csv('zippedData/rt.movie_info.tsv.gz',sep='\\t')"
   ]
  },
  {
   "cell_type": "code",
   "execution_count": 56,
   "metadata": {},
   "outputs": [
    {
     "data": {
      "text/html": [
       "<div>\n",
       "<style scoped>\n",
       "    .dataframe tbody tr th:only-of-type {\n",
       "        vertical-align: middle;\n",
       "    }\n",
       "\n",
       "    .dataframe tbody tr th {\n",
       "        vertical-align: top;\n",
       "    }\n",
       "\n",
       "    .dataframe thead th {\n",
       "        text-align: right;\n",
       "    }\n",
       "</style>\n",
       "<table border=\"1\" class=\"dataframe\">\n",
       "  <thead>\n",
       "    <tr style=\"text-align: right;\">\n",
       "      <th></th>\n",
       "      <th>id</th>\n",
       "      <th>synopsis</th>\n",
       "      <th>rating</th>\n",
       "      <th>genre</th>\n",
       "      <th>director</th>\n",
       "      <th>writer</th>\n",
       "      <th>theater_date</th>\n",
       "      <th>dvd_date</th>\n",
       "      <th>currency</th>\n",
       "      <th>box_office</th>\n",
       "      <th>runtime</th>\n",
       "      <th>studio</th>\n",
       "    </tr>\n",
       "  </thead>\n",
       "  <tbody>\n",
       "    <tr>\n",
       "      <th>0</th>\n",
       "      <td>1</td>\n",
       "      <td>This gritty, fast-paced, and innovative police...</td>\n",
       "      <td>R</td>\n",
       "      <td>Action and Adventure|Classics|Drama</td>\n",
       "      <td>William Friedkin</td>\n",
       "      <td>Ernest Tidyman</td>\n",
       "      <td>Oct 9, 1971</td>\n",
       "      <td>Sep 25, 2001</td>\n",
       "      <td>NaN</td>\n",
       "      <td>NaN</td>\n",
       "      <td>104 minutes</td>\n",
       "      <td>NaN</td>\n",
       "    </tr>\n",
       "    <tr>\n",
       "      <th>1</th>\n",
       "      <td>3</td>\n",
       "      <td>New York City, not-too-distant-future: Eric Pa...</td>\n",
       "      <td>R</td>\n",
       "      <td>Drama|Science Fiction and Fantasy</td>\n",
       "      <td>David Cronenberg</td>\n",
       "      <td>David Cronenberg|Don DeLillo</td>\n",
       "      <td>Aug 17, 2012</td>\n",
       "      <td>Jan 1, 2013</td>\n",
       "      <td>$</td>\n",
       "      <td>600,000</td>\n",
       "      <td>108 minutes</td>\n",
       "      <td>Entertainment One</td>\n",
       "    </tr>\n",
       "    <tr>\n",
       "      <th>2</th>\n",
       "      <td>5</td>\n",
       "      <td>Illeana Douglas delivers a superb performance ...</td>\n",
       "      <td>R</td>\n",
       "      <td>Drama|Musical and Performing Arts</td>\n",
       "      <td>Allison Anders</td>\n",
       "      <td>Allison Anders</td>\n",
       "      <td>Sep 13, 1996</td>\n",
       "      <td>Apr 18, 2000</td>\n",
       "      <td>NaN</td>\n",
       "      <td>NaN</td>\n",
       "      <td>116 minutes</td>\n",
       "      <td>NaN</td>\n",
       "    </tr>\n",
       "    <tr>\n",
       "      <th>3</th>\n",
       "      <td>6</td>\n",
       "      <td>Michael Douglas runs afoul of a treacherous su...</td>\n",
       "      <td>R</td>\n",
       "      <td>Drama|Mystery and Suspense</td>\n",
       "      <td>Barry Levinson</td>\n",
       "      <td>Paul Attanasio|Michael Crichton</td>\n",
       "      <td>Dec 9, 1994</td>\n",
       "      <td>Aug 27, 1997</td>\n",
       "      <td>NaN</td>\n",
       "      <td>NaN</td>\n",
       "      <td>128 minutes</td>\n",
       "      <td>NaN</td>\n",
       "    </tr>\n",
       "    <tr>\n",
       "      <th>4</th>\n",
       "      <td>7</td>\n",
       "      <td>NaN</td>\n",
       "      <td>NR</td>\n",
       "      <td>Drama|Romance</td>\n",
       "      <td>Rodney Bennett</td>\n",
       "      <td>Giles Cooper</td>\n",
       "      <td>NaN</td>\n",
       "      <td>NaN</td>\n",
       "      <td>NaN</td>\n",
       "      <td>NaN</td>\n",
       "      <td>200 minutes</td>\n",
       "      <td>NaN</td>\n",
       "    </tr>\n",
       "  </tbody>\n",
       "</table>\n",
       "</div>"
      ],
      "text/plain": [
       "   id                                           synopsis rating  \\\n",
       "0   1  This gritty, fast-paced, and innovative police...      R   \n",
       "1   3  New York City, not-too-distant-future: Eric Pa...      R   \n",
       "2   5  Illeana Douglas delivers a superb performance ...      R   \n",
       "3   6  Michael Douglas runs afoul of a treacherous su...      R   \n",
       "4   7                                                NaN     NR   \n",
       "\n",
       "                                 genre          director  \\\n",
       "0  Action and Adventure|Classics|Drama  William Friedkin   \n",
       "1    Drama|Science Fiction and Fantasy  David Cronenberg   \n",
       "2    Drama|Musical and Performing Arts    Allison Anders   \n",
       "3           Drama|Mystery and Suspense    Barry Levinson   \n",
       "4                        Drama|Romance    Rodney Bennett   \n",
       "\n",
       "                            writer  theater_date      dvd_date currency  \\\n",
       "0                   Ernest Tidyman   Oct 9, 1971  Sep 25, 2001      NaN   \n",
       "1     David Cronenberg|Don DeLillo  Aug 17, 2012   Jan 1, 2013        $   \n",
       "2                   Allison Anders  Sep 13, 1996  Apr 18, 2000      NaN   \n",
       "3  Paul Attanasio|Michael Crichton   Dec 9, 1994  Aug 27, 1997      NaN   \n",
       "4                     Giles Cooper           NaN           NaN      NaN   \n",
       "\n",
       "  box_office      runtime             studio  \n",
       "0        NaN  104 minutes                NaN  \n",
       "1    600,000  108 minutes  Entertainment One  \n",
       "2        NaN  116 minutes                NaN  \n",
       "3        NaN  128 minutes                NaN  \n",
       "4        NaN  200 minutes                NaN  "
      ]
     },
     "execution_count": 56,
     "metadata": {},
     "output_type": "execute_result"
    }
   ],
   "source": [
    "rt_movieinfo.head()"
   ]
  },
  {
   "cell_type": "markdown",
   "metadata": {},
   "source": [
    "There is a lot of data cleaning that needs to be done before this data is ready to be manipulated, first examine and clean the data."
   ]
  },
  {
   "cell_type": "code",
   "execution_count": 57,
   "metadata": {},
   "outputs": [
    {
     "name": "stdout",
     "output_type": "stream",
     "text": [
      "<class 'pandas.core.frame.DataFrame'>\n",
      "RangeIndex: 1560 entries, 0 to 1559\n",
      "Data columns (total 12 columns):\n",
      " #   Column        Non-Null Count  Dtype \n",
      "---  ------        --------------  ----- \n",
      " 0   id            1560 non-null   int64 \n",
      " 1   synopsis      1498 non-null   object\n",
      " 2   rating        1557 non-null   object\n",
      " 3   genre         1552 non-null   object\n",
      " 4   director      1361 non-null   object\n",
      " 5   writer        1111 non-null   object\n",
      " 6   theater_date  1201 non-null   object\n",
      " 7   dvd_date      1201 non-null   object\n",
      " 8   currency      340 non-null    object\n",
      " 9   box_office    340 non-null    object\n",
      " 10  runtime       1530 non-null   object\n",
      " 11  studio        494 non-null    object\n",
      "dtypes: int64(1), object(11)\n",
      "memory usage: 146.4+ KB\n"
     ]
    }
   ],
   "source": [
    "rt_movieinfo.info()"
   ]
  },
  {
   "cell_type": "code",
   "execution_count": 58,
   "metadata": {},
   "outputs": [
    {
     "data": {
      "text/html": [
       "<div>\n",
       "<style scoped>\n",
       "    .dataframe tbody tr th:only-of-type {\n",
       "        vertical-align: middle;\n",
       "    }\n",
       "\n",
       "    .dataframe tbody tr th {\n",
       "        vertical-align: top;\n",
       "    }\n",
       "\n",
       "    .dataframe thead th {\n",
       "        text-align: right;\n",
       "    }\n",
       "</style>\n",
       "<table border=\"1\" class=\"dataframe\">\n",
       "  <thead>\n",
       "    <tr style=\"text-align: right;\">\n",
       "      <th></th>\n",
       "      <th>id</th>\n",
       "      <th>synopsis</th>\n",
       "      <th>rating</th>\n",
       "      <th>genre</th>\n",
       "      <th>director</th>\n",
       "      <th>writer</th>\n",
       "      <th>theater_date</th>\n",
       "      <th>dvd_date</th>\n",
       "      <th>currency</th>\n",
       "      <th>box_office</th>\n",
       "      <th>runtime</th>\n",
       "      <th>studio</th>\n",
       "    </tr>\n",
       "  </thead>\n",
       "  <tbody>\n",
       "    <tr>\n",
       "      <th>16</th>\n",
       "      <td>23</td>\n",
       "      <td>A fictional film set in the alluring world of ...</td>\n",
       "      <td>R</td>\n",
       "      <td>Drama</td>\n",
       "      <td>NaN</td>\n",
       "      <td>NaN</td>\n",
       "      <td>Dec 20, 2013</td>\n",
       "      <td>Mar 18, 2014</td>\n",
       "      <td>$</td>\n",
       "      <td>99,165,609</td>\n",
       "      <td>129 minutes</td>\n",
       "      <td>Sony Pictures</td>\n",
       "    </tr>\n",
       "    <tr>\n",
       "      <th>1510</th>\n",
       "      <td>1944</td>\n",
       "      <td>In the 3D action-comedy The Green Hornet, Brit...</td>\n",
       "      <td>PG-13</td>\n",
       "      <td>Action and Adventure|Comedy|Science Fiction an...</td>\n",
       "      <td>Michel Gondry</td>\n",
       "      <td>Evan Goldberg|Seth Rogen</td>\n",
       "      <td>Jan 14, 2011</td>\n",
       "      <td>May 3, 2011</td>\n",
       "      <td>$</td>\n",
       "      <td>98,000,000</td>\n",
       "      <td>119 minutes</td>\n",
       "      <td>Sony Pictures</td>\n",
       "    </tr>\n",
       "    <tr>\n",
       "      <th>207</th>\n",
       "      <td>274</td>\n",
       "      <td>Natalie Portman stars in this western concerni...</td>\n",
       "      <td>R</td>\n",
       "      <td>Action and Adventure|Drama|Western</td>\n",
       "      <td>NaN</td>\n",
       "      <td>NaN</td>\n",
       "      <td>Jan 29, 2016</td>\n",
       "      <td>Apr 26, 2016</td>\n",
       "      <td>$</td>\n",
       "      <td>976,847</td>\n",
       "      <td>97 minutes</td>\n",
       "      <td>NaN</td>\n",
       "    </tr>\n",
       "    <tr>\n",
       "      <th>1469</th>\n",
       "      <td>1890</td>\n",
       "      <td>A misplaced sausage and his savory friends emb...</td>\n",
       "      <td>R</td>\n",
       "      <td>Animation|Comedy</td>\n",
       "      <td>Conrad Vernon|Greg Tiernan</td>\n",
       "      <td>Kyle Hunter|Ariel Shaffir|Seth Rogen|Evan Gold...</td>\n",
       "      <td>Aug 12, 2016</td>\n",
       "      <td>Nov 8, 2016</td>\n",
       "      <td>$</td>\n",
       "      <td>97,661,826</td>\n",
       "      <td>89 minutes</td>\n",
       "      <td>Sony Pictures</td>\n",
       "    </tr>\n",
       "    <tr>\n",
       "      <th>1323</th>\n",
       "      <td>1711</td>\n",
       "      <td>Directed by Garry Marshall, The Princess Diari...</td>\n",
       "      <td>G</td>\n",
       "      <td>Comedy|Kids and Family</td>\n",
       "      <td>Garry Marshall</td>\n",
       "      <td>Shonda Rhimes</td>\n",
       "      <td>Aug 11, 2004</td>\n",
       "      <td>Dec 14, 2004</td>\n",
       "      <td>$</td>\n",
       "      <td>95,111,012</td>\n",
       "      <td>113 minutes</td>\n",
       "      <td>NaN</td>\n",
       "    </tr>\n",
       "    <tr>\n",
       "      <th>...</th>\n",
       "      <td>...</td>\n",
       "      <td>...</td>\n",
       "      <td>...</td>\n",
       "      <td>...</td>\n",
       "      <td>...</td>\n",
       "      <td>...</td>\n",
       "      <td>...</td>\n",
       "      <td>...</td>\n",
       "      <td>...</td>\n",
       "      <td>...</td>\n",
       "      <td>...</td>\n",
       "      <td>...</td>\n",
       "    </tr>\n",
       "    <tr>\n",
       "      <th>1554</th>\n",
       "      <td>1995</td>\n",
       "      <td>Special government agent James West, long on c...</td>\n",
       "      <td>PG-13</td>\n",
       "      <td>Action and Adventure|Comedy|Western</td>\n",
       "      <td>Barry Sonnenfeld</td>\n",
       "      <td>NaN</td>\n",
       "      <td>Jun 30, 1999</td>\n",
       "      <td>Nov 30, 1999</td>\n",
       "      <td>NaN</td>\n",
       "      <td>NaN</td>\n",
       "      <td>107 minutes</td>\n",
       "      <td>Warner Bros. Pictures</td>\n",
       "    </tr>\n",
       "    <tr>\n",
       "      <th>1556</th>\n",
       "      <td>1997</td>\n",
       "      <td>The popular Saturday Night Live sketch was exp...</td>\n",
       "      <td>PG</td>\n",
       "      <td>Comedy|Science Fiction and Fantasy</td>\n",
       "      <td>Steve Barron</td>\n",
       "      <td>Terry Turner|Tom Davis|Dan Aykroyd|Bonnie Turner</td>\n",
       "      <td>Jul 23, 1993</td>\n",
       "      <td>Apr 17, 2001</td>\n",
       "      <td>NaN</td>\n",
       "      <td>NaN</td>\n",
       "      <td>88 minutes</td>\n",
       "      <td>Paramount Vantage</td>\n",
       "    </tr>\n",
       "    <tr>\n",
       "      <th>1557</th>\n",
       "      <td>1998</td>\n",
       "      <td>Based on a novel by Richard Powell, when the l...</td>\n",
       "      <td>G</td>\n",
       "      <td>Classics|Comedy|Drama|Musical and Performing Arts</td>\n",
       "      <td>Gordon Douglas</td>\n",
       "      <td>NaN</td>\n",
       "      <td>Jan 1, 1962</td>\n",
       "      <td>May 11, 2004</td>\n",
       "      <td>NaN</td>\n",
       "      <td>NaN</td>\n",
       "      <td>111 minutes</td>\n",
       "      <td>NaN</td>\n",
       "    </tr>\n",
       "    <tr>\n",
       "      <th>1558</th>\n",
       "      <td>1999</td>\n",
       "      <td>The Sandlot is a coming-of-age story about a g...</td>\n",
       "      <td>PG</td>\n",
       "      <td>Comedy|Drama|Kids and Family|Sports and Fitness</td>\n",
       "      <td>David Mickey Evans</td>\n",
       "      <td>David Mickey Evans|Robert Gunter</td>\n",
       "      <td>Apr 1, 1993</td>\n",
       "      <td>Jan 29, 2002</td>\n",
       "      <td>NaN</td>\n",
       "      <td>NaN</td>\n",
       "      <td>101 minutes</td>\n",
       "      <td>NaN</td>\n",
       "    </tr>\n",
       "    <tr>\n",
       "      <th>1559</th>\n",
       "      <td>2000</td>\n",
       "      <td>Suspended from the force, Paris cop Hubert is ...</td>\n",
       "      <td>R</td>\n",
       "      <td>Action and Adventure|Art House and Internation...</td>\n",
       "      <td>NaN</td>\n",
       "      <td>Luc Besson</td>\n",
       "      <td>Sep 27, 2001</td>\n",
       "      <td>Feb 11, 2003</td>\n",
       "      <td>NaN</td>\n",
       "      <td>NaN</td>\n",
       "      <td>94 minutes</td>\n",
       "      <td>Columbia Pictures</td>\n",
       "    </tr>\n",
       "  </tbody>\n",
       "</table>\n",
       "<p>1560 rows × 12 columns</p>\n",
       "</div>"
      ],
      "text/plain": [
       "        id                                           synopsis rating  \\\n",
       "16      23  A fictional film set in the alluring world of ...      R   \n",
       "1510  1944  In the 3D action-comedy The Green Hornet, Brit...  PG-13   \n",
       "207    274  Natalie Portman stars in this western concerni...      R   \n",
       "1469  1890  A misplaced sausage and his savory friends emb...      R   \n",
       "1323  1711  Directed by Garry Marshall, The Princess Diari...      G   \n",
       "...    ...                                                ...    ...   \n",
       "1554  1995  Special government agent James West, long on c...  PG-13   \n",
       "1556  1997  The popular Saturday Night Live sketch was exp...     PG   \n",
       "1557  1998  Based on a novel by Richard Powell, when the l...      G   \n",
       "1558  1999  The Sandlot is a coming-of-age story about a g...     PG   \n",
       "1559  2000  Suspended from the force, Paris cop Hubert is ...      R   \n",
       "\n",
       "                                                  genre  \\\n",
       "16                                                Drama   \n",
       "1510  Action and Adventure|Comedy|Science Fiction an...   \n",
       "207                  Action and Adventure|Drama|Western   \n",
       "1469                                   Animation|Comedy   \n",
       "1323                             Comedy|Kids and Family   \n",
       "...                                                 ...   \n",
       "1554                Action and Adventure|Comedy|Western   \n",
       "1556                 Comedy|Science Fiction and Fantasy   \n",
       "1557  Classics|Comedy|Drama|Musical and Performing Arts   \n",
       "1558    Comedy|Drama|Kids and Family|Sports and Fitness   \n",
       "1559  Action and Adventure|Art House and Internation...   \n",
       "\n",
       "                        director  \\\n",
       "16                           NaN   \n",
       "1510               Michel Gondry   \n",
       "207                          NaN   \n",
       "1469  Conrad Vernon|Greg Tiernan   \n",
       "1323              Garry Marshall   \n",
       "...                          ...   \n",
       "1554            Barry Sonnenfeld   \n",
       "1556                Steve Barron   \n",
       "1557              Gordon Douglas   \n",
       "1558          David Mickey Evans   \n",
       "1559                         NaN   \n",
       "\n",
       "                                                 writer  theater_date  \\\n",
       "16                                                  NaN  Dec 20, 2013   \n",
       "1510                           Evan Goldberg|Seth Rogen  Jan 14, 2011   \n",
       "207                                                 NaN  Jan 29, 2016   \n",
       "1469  Kyle Hunter|Ariel Shaffir|Seth Rogen|Evan Gold...  Aug 12, 2016   \n",
       "1323                                      Shonda Rhimes  Aug 11, 2004   \n",
       "...                                                 ...           ...   \n",
       "1554                                                NaN  Jun 30, 1999   \n",
       "1556   Terry Turner|Tom Davis|Dan Aykroyd|Bonnie Turner  Jul 23, 1993   \n",
       "1557                                                NaN   Jan 1, 1962   \n",
       "1558                   David Mickey Evans|Robert Gunter   Apr 1, 1993   \n",
       "1559                                         Luc Besson  Sep 27, 2001   \n",
       "\n",
       "          dvd_date currency  box_office      runtime                 studio  \n",
       "16    Mar 18, 2014        $  99,165,609  129 minutes          Sony Pictures  \n",
       "1510   May 3, 2011        $  98,000,000  119 minutes          Sony Pictures  \n",
       "207   Apr 26, 2016        $     976,847   97 minutes                    NaN  \n",
       "1469   Nov 8, 2016        $  97,661,826   89 minutes          Sony Pictures  \n",
       "1323  Dec 14, 2004        $  95,111,012  113 minutes                    NaN  \n",
       "...            ...      ...         ...          ...                    ...  \n",
       "1554  Nov 30, 1999      NaN         NaN  107 minutes  Warner Bros. Pictures  \n",
       "1556  Apr 17, 2001      NaN         NaN   88 minutes      Paramount Vantage  \n",
       "1557  May 11, 2004      NaN         NaN  111 minutes                    NaN  \n",
       "1558  Jan 29, 2002      NaN         NaN  101 minutes                    NaN  \n",
       "1559  Feb 11, 2003      NaN         NaN   94 minutes      Columbia Pictures  \n",
       "\n",
       "[1560 rows x 12 columns]"
      ]
     },
     "execution_count": 58,
     "metadata": {},
     "output_type": "execute_result"
    }
   ],
   "source": [
    "#There appear to be many useful columns here, lets manipulate the data\n",
    "rt_movieinfo.sort_values(by=['box_office'],ascending=False)"
   ]
  },
  {
   "cell_type": "markdown",
   "metadata": {},
   "source": [
    "The Dtype for box_office is in object form when it should be a float or integer, this is something that must be handled."
   ]
  },
  {
   "cell_type": "code",
   "execution_count": 59,
   "metadata": {},
   "outputs": [],
   "source": [
    "new_list=[]\n",
    "for r in rt_movieinfo['box_office']:\n",
    "    type(r)"
   ]
  },
  {
   "cell_type": "code",
   "execution_count": 60,
   "metadata": {},
   "outputs": [
    {
     "data": {
      "text/plain": [
       "id                 0\n",
       "synopsis          62\n",
       "rating             3\n",
       "genre              8\n",
       "director         199\n",
       "writer           449\n",
       "theater_date     359\n",
       "dvd_date         359\n",
       "currency        1220\n",
       "box_office      1220\n",
       "runtime           30\n",
       "studio          1066\n",
       "dtype: int64"
      ]
     },
     "execution_count": 60,
     "metadata": {},
     "output_type": "execute_result"
    }
   ],
   "source": [
    "# It appears that the numbers are in float form it is just the missing data that we must get rid of before we can\n",
    "#analyze it\n",
    "rt_movieinfo.isna().sum()"
   ]
  },
  {
   "cell_type": "code",
   "execution_count": 61,
   "metadata": {},
   "outputs": [
    {
     "data": {
      "text/plain": [
       "(1560, 12)"
      ]
     },
     "execution_count": 61,
     "metadata": {},
     "output_type": "execute_result"
    }
   ],
   "source": [
    "rt_movieinfo.shape"
   ]
  },
  {
   "cell_type": "code",
   "execution_count": 62,
   "metadata": {},
   "outputs": [],
   "source": [
    "# Drop ALL the missing rows from the dataset.\n",
    "rt_movieinfo=rt_movieinfo.dropna()"
   ]
  },
  {
   "cell_type": "code",
   "execution_count": 63,
   "metadata": {},
   "outputs": [
    {
     "data": {
      "text/plain": [
       "id              0\n",
       "synopsis        0\n",
       "rating          0\n",
       "genre           0\n",
       "director        0\n",
       "writer          0\n",
       "theater_date    0\n",
       "dvd_date        0\n",
       "currency        0\n",
       "box_office      0\n",
       "runtime         0\n",
       "studio          0\n",
       "dtype: int64"
      ]
     },
     "execution_count": 63,
     "metadata": {},
     "output_type": "execute_result"
    }
   ],
   "source": [
    "#Make sure they are gone\n",
    "rt_movieinfo.isna().sum()"
   ]
  },
  {
   "cell_type": "code",
   "execution_count": 64,
   "metadata": {},
   "outputs": [
    {
     "name": "stdout",
     "output_type": "stream",
     "text": [
      "<class 'pandas.core.frame.DataFrame'>\n",
      "Int64Index: 235 entries, 1 to 1545\n",
      "Data columns (total 12 columns):\n",
      " #   Column        Non-Null Count  Dtype \n",
      "---  ------        --------------  ----- \n",
      " 0   id            235 non-null    int64 \n",
      " 1   synopsis      235 non-null    object\n",
      " 2   rating        235 non-null    object\n",
      " 3   genre         235 non-null    object\n",
      " 4   director      235 non-null    object\n",
      " 5   writer        235 non-null    object\n",
      " 6   theater_date  235 non-null    object\n",
      " 7   dvd_date      235 non-null    object\n",
      " 8   currency      235 non-null    object\n",
      " 9   box_office    235 non-null    object\n",
      " 10  runtime       235 non-null    object\n",
      " 11  studio        235 non-null    object\n",
      "dtypes: int64(1), object(11)\n",
      "memory usage: 23.9+ KB\n"
     ]
    }
   ],
   "source": [
    "# Now examine what we have post getting rid of rows\n",
    "rt_movieinfo.info()"
   ]
  },
  {
   "cell_type": "code",
   "execution_count": 65,
   "metadata": {},
   "outputs": [],
   "source": [
    "#Make the box_office column an integer\n",
    "box_office=rt_movieinfo['box_office']\n",
    "box_office_list=[]\n",
    "for num in box_office:\n",
    "    a= num.replace(',','')\n",
    "    b= a.replace('$','')\n",
    "    box_office_list.append(int(b))\n",
    "rt_movieinfo['box_office']=box_office_list"
   ]
  },
  {
   "cell_type": "code",
   "execution_count": 66,
   "metadata": {},
   "outputs": [
    {
     "data": {
      "text/plain": [
       "1         600000\n",
       "6       41032915\n",
       "7         224114\n",
       "15       1039869\n",
       "18      20518224\n",
       "          ...   \n",
       "1530    72700000\n",
       "1537     1320005\n",
       "1541    25335935\n",
       "1542     1416189\n",
       "1545       59371\n",
       "Name: box_office, Length: 235, dtype: int64"
      ]
     },
     "execution_count": 66,
     "metadata": {},
     "output_type": "execute_result"
    }
   ],
   "source": [
    "rt_movieinfo['box_office']"
   ]
  },
  {
   "cell_type": "code",
   "execution_count": 67,
   "metadata": {},
   "outputs": [
    {
     "name": "stdout",
     "output_type": "stream",
     "text": [
      "<class 'pandas.core.frame.DataFrame'>\n",
      "Int64Index: 235 entries, 1 to 1545\n",
      "Data columns (total 12 columns):\n",
      " #   Column        Non-Null Count  Dtype \n",
      "---  ------        --------------  ----- \n",
      " 0   id            235 non-null    int64 \n",
      " 1   synopsis      235 non-null    object\n",
      " 2   rating        235 non-null    object\n",
      " 3   genre         235 non-null    object\n",
      " 4   director      235 non-null    object\n",
      " 5   writer        235 non-null    object\n",
      " 6   theater_date  235 non-null    object\n",
      " 7   dvd_date      235 non-null    object\n",
      " 8   currency      235 non-null    object\n",
      " 9   box_office    235 non-null    int64 \n",
      " 10  runtime       235 non-null    object\n",
      " 11  studio        235 non-null    object\n",
      "dtypes: int64(2), object(10)\n",
      "memory usage: 23.9+ KB\n"
     ]
    }
   ],
   "source": [
    "rt_movieinfo.info()"
   ]
  },
  {
   "cell_type": "markdown",
   "metadata": {},
   "source": [
    "We now only have 235 rows. This is not a particularly large data set but we will still see what kind of conclusions or trends we see within the data that we do have. We can still examine this data it is just good to be aware of how much data we are actually working with here."
   ]
  },
  {
   "cell_type": "code",
   "execution_count": 68,
   "metadata": {},
   "outputs": [],
   "source": [
    "#Get the mean box_office for each rating\n",
    "rating_mean=rt_movieinfo.groupby(by=rt_movieinfo['rating']).mean()\n",
    "rating_mean\n",
    "rating_mean=rating_mean.drop(['id'],axis=1)\n",
    "rating_mean\n",
    "rating_mean=rating_mean.reset_index()"
   ]
  },
  {
   "cell_type": "code",
   "execution_count": 69,
   "metadata": {},
   "outputs": [
    {
     "data": {
      "text/html": [
       "<div>\n",
       "<style scoped>\n",
       "    .dataframe tbody tr th:only-of-type {\n",
       "        vertical-align: middle;\n",
       "    }\n",
       "\n",
       "    .dataframe tbody tr th {\n",
       "        vertical-align: top;\n",
       "    }\n",
       "\n",
       "    .dataframe thead th {\n",
       "        text-align: right;\n",
       "    }\n",
       "</style>\n",
       "<table border=\"1\" class=\"dataframe\">\n",
       "  <thead>\n",
       "    <tr style=\"text-align: right;\">\n",
       "      <th></th>\n",
       "      <th>rating</th>\n",
       "      <th>box_office</th>\n",
       "    </tr>\n",
       "  </thead>\n",
       "  <tbody>\n",
       "    <tr>\n",
       "      <th>0</th>\n",
       "      <td>G</td>\n",
       "      <td>7.402788e+06</td>\n",
       "    </tr>\n",
       "    <tr>\n",
       "      <th>1</th>\n",
       "      <td>NC17</td>\n",
       "      <td>1.260219e+06</td>\n",
       "    </tr>\n",
       "    <tr>\n",
       "      <th>2</th>\n",
       "      <td>NR</td>\n",
       "      <td>6.376923e+05</td>\n",
       "    </tr>\n",
       "    <tr>\n",
       "      <th>3</th>\n",
       "      <td>PG</td>\n",
       "      <td>5.289280e+07</td>\n",
       "    </tr>\n",
       "    <tr>\n",
       "      <th>4</th>\n",
       "      <td>PG-13</td>\n",
       "      <td>6.872359e+07</td>\n",
       "    </tr>\n",
       "    <tr>\n",
       "      <th>5</th>\n",
       "      <td>R</td>\n",
       "      <td>2.394827e+07</td>\n",
       "    </tr>\n",
       "  </tbody>\n",
       "</table>\n",
       "</div>"
      ],
      "text/plain": [
       "  rating    box_office\n",
       "0      G  7.402788e+06\n",
       "1   NC17  1.260219e+06\n",
       "2     NR  6.376923e+05\n",
       "3     PG  5.289280e+07\n",
       "4  PG-13  6.872359e+07\n",
       "5      R  2.394827e+07"
      ]
     },
     "execution_count": 69,
     "metadata": {},
     "output_type": "execute_result"
    }
   ],
   "source": [
    "rating_mean"
   ]
  },
  {
   "cell_type": "markdown",
   "metadata": {},
   "source": [
    "## Give a visual of which rated movies do better at the box office"
   ]
  },
  {
   "cell_type": "code",
   "execution_count": 70,
   "metadata": {},
   "outputs": [],
   "source": [
    "rating_mean.reset_index(inplace=True)\n",
    "rating_mean\n",
    "colors=[0,10,20,30,40,50]"
   ]
  },
  {
   "cell_type": "code",
   "execution_count": 71,
   "metadata": {},
   "outputs": [
    {
     "data": {
      "text/plain": [
       "''"
      ]
     },
     "execution_count": 71,
     "metadata": {},
     "output_type": "execute_result"
    },
    {
     "data": {
      "image/png": "[encoded data removed]",
      "text/plain": [
       "<Figure size 432x288 with 1 Axes>"
      ]
     },
     "metadata": {
      "needs_background": "light"
     },
     "output_type": "display_data"
    }
   ],
   "source": [
    "# Plot this data to get a visual idea of which rated movies do better\n",
    "import seaborn as sns\n",
    "fig, ax = plt.subplots()\n",
    "sns.scatterplot(x=rating_mean['rating'],y=rating_mean['box_office'],c=colors,s=1000,alpha=.8)\n",
    "ax.set_xlabel('Movie Rating')\n",
    "ax.set_ylabel('Mean Box Office')\n",
    "ax.set_title('AVG Box Office per Movie Rating')\n",
    ";"
   ]
  },
  {
   "cell_type": "markdown",
   "metadata": {},
   "source": [
    "This is interesting data we got from the seaborn scatterplot. However looking at this it appears a bar chart would suit us better here so I will now make one below to see if it is a nicer visual."
   ]
  },
  {
   "cell_type": "code",
   "execution_count": 72,
   "metadata": {},
   "outputs": [
    {
     "data": {
      "image/png": "[encoded data removed]",
      "text/plain": [
       "<Figure size 432x288 with 1 Axes>"
      ]
     },
     "metadata": {
      "needs_background": "light"
     },
     "output_type": "display_data"
    }
   ],
   "source": [
    "height = rating_mean['box_office']\n",
    "bars = rating_mean['rating']\n",
    "x_pos = np.arange(len(bars))\n",
    "\n",
    "# Create bars \n",
    "plt.bar(x_pos, height,color=['red','purple','orange','blue','yellow','green'],edgecolor='black')\n",
    "\n",
    "# Create names on the x-axis\n",
    "plt.xticks(x_pos, bars)\n",
    "plt.xlabel('Movie Rating')\n",
    "plt.ylabel('Mean Box Office')\n",
    "plt.title('Avg Box Office per Movie Rating')\n",
    "# Show graph\n",
    "plt.show()"
   ]
  },
  {
   "cell_type": "markdown",
   "metadata": {},
   "source": [
    "Excellent, while the scatterplot was pretty clear this leaves no doubt and is extremely easy for anyone to interpret. Now let's go through the same process for the Maximum from each rating"
   ]
  },
  {
   "cell_type": "code",
   "execution_count": 73,
   "metadata": {},
   "outputs": [
    {
     "data": {
      "text/html": [
       "<div>\n",
       "<style scoped>\n",
       "    .dataframe tbody tr th:only-of-type {\n",
       "        vertical-align: middle;\n",
       "    }\n",
       "\n",
       "    .dataframe tbody tr th {\n",
       "        vertical-align: top;\n",
       "    }\n",
       "\n",
       "    .dataframe thead th {\n",
       "        text-align: right;\n",
       "    }\n",
       "</style>\n",
       "<table border=\"1\" class=\"dataframe\">\n",
       "  <thead>\n",
       "    <tr style=\"text-align: right;\">\n",
       "      <th></th>\n",
       "      <th>id</th>\n",
       "      <th>synopsis</th>\n",
       "      <th>genre</th>\n",
       "      <th>director</th>\n",
       "      <th>writer</th>\n",
       "      <th>theater_date</th>\n",
       "      <th>dvd_date</th>\n",
       "      <th>currency</th>\n",
       "      <th>box_office</th>\n",
       "      <th>runtime</th>\n",
       "      <th>studio</th>\n",
       "    </tr>\n",
       "    <tr>\n",
       "      <th>rating</th>\n",
       "      <th></th>\n",
       "      <th></th>\n",
       "      <th></th>\n",
       "      <th></th>\n",
       "      <th></th>\n",
       "      <th></th>\n",
       "      <th></th>\n",
       "      <th></th>\n",
       "      <th></th>\n",
       "      <th></th>\n",
       "      <th></th>\n",
       "    </tr>\n",
       "  </thead>\n",
       "  <tbody>\n",
       "    <tr>\n",
       "      <th>G</th>\n",
       "      <td>1965</td>\n",
       "      <td>The movie chronicles the adventures of a young...</td>\n",
       "      <td>Kids and Family|Musical and Performing Arts</td>\n",
       "      <td>Robert Ramirez</td>\n",
       "      <td>Robert Ramirez|Rhett Reese</td>\n",
       "      <td>Jul 26, 2000</td>\n",
       "      <td>Oct 31, 2000</td>\n",
       "      <td>$</td>\n",
       "      <td>18013938</td>\n",
       "      <td>95 minutes</td>\n",
       "      <td>Warner Bros. Pictures</td>\n",
       "    </tr>\n",
       "    <tr>\n",
       "      <th>NC17</th>\n",
       "      <td>1567</td>\n",
       "      <td>Lust is in the air on Harford Road and Sylvia ...</td>\n",
       "      <td>Comedy</td>\n",
       "      <td>John Waters</td>\n",
       "      <td>John Waters</td>\n",
       "      <td>Sep 24, 2004</td>\n",
       "      <td>Jun 14, 2005</td>\n",
       "      <td>$</td>\n",
       "      <td>1260219</td>\n",
       "      <td>89 minutes</td>\n",
       "      <td>New Line Cinema</td>\n",
       "    </tr>\n",
       "    <tr>\n",
       "      <th>NR</th>\n",
       "      <td>1981</td>\n",
       "      <td>With the recent assault on Berlusconi in Milan...</td>\n",
       "      <td>Drama|Horror|Mystery and Suspense</td>\n",
       "      <td>Rakeysh Omprakash Mehra|Rakeysh Omprakesh Mehra</td>\n",
       "      <td>Prasoon Joshi</td>\n",
       "      <td>Oct 5, 2012</td>\n",
       "      <td>Sep 7, 2010</td>\n",
       "      <td>$</td>\n",
       "      <td>1626289</td>\n",
       "      <td>95 minutes</td>\n",
       "      <td>Variance Films</td>\n",
       "    </tr>\n",
       "    <tr>\n",
       "      <th>PG</th>\n",
       "      <td>1968</td>\n",
       "      <td>Youthful wizard Harry Potter returns to the sc...</td>\n",
       "      <td>Science Fiction and Fantasy</td>\n",
       "      <td>Uli Edel|Ulrich Edel</td>\n",
       "      <td>Timothy Hyde Harris|David Bowers|Timothy Harris</td>\n",
       "      <td>Sep 29, 2006</td>\n",
       "      <td>Sep 5, 2017</td>\n",
       "      <td>$</td>\n",
       "      <td>261835892</td>\n",
       "      <td>97 minutes</td>\n",
       "      <td>Warner Bros. Pictures</td>\n",
       "    </tr>\n",
       "    <tr>\n",
       "      <th>PG-13</th>\n",
       "      <td>1980</td>\n",
       "      <td>When five struggling single moms put aside the...</td>\n",
       "      <td>Horror|Mystery and Suspense|Science Fiction an...</td>\n",
       "      <td>Yimou Zhang</td>\n",
       "      <td>Woody Allen</td>\n",
       "      <td>Sep 30, 2005</td>\n",
       "      <td>Sep 30, 2003</td>\n",
       "      <td>$</td>\n",
       "      <td>303001229</td>\n",
       "      <td>99 minutes</td>\n",
       "      <td>Weinstein Co.</td>\n",
       "    </tr>\n",
       "    <tr>\n",
       "      <th>R</th>\n",
       "      <td>1985</td>\n",
       "      <td>Writer/director Lisa Cholodenko follows up her...</td>\n",
       "      <td>Horror|Mystery and Suspense|Science Fiction an...</td>\n",
       "      <td>Yimou Zhang</td>\n",
       "      <td>Yan Geling</td>\n",
       "      <td>Sep 6, 2013</td>\n",
       "      <td>Sep 9, 2014</td>\n",
       "      <td>$</td>\n",
       "      <td>368000000</td>\n",
       "      <td>99 minutes</td>\n",
       "      <td>Wrekin Hill Entertainment</td>\n",
       "    </tr>\n",
       "  </tbody>\n",
       "</table>\n",
       "</div>"
      ],
      "text/plain": [
       "          id                                           synopsis  \\\n",
       "rating                                                            \n",
       "G       1965  The movie chronicles the adventures of a young...   \n",
       "NC17    1567  Lust is in the air on Harford Road and Sylvia ...   \n",
       "NR      1981  With the recent assault on Berlusconi in Milan...   \n",
       "PG      1968  Youthful wizard Harry Potter returns to the sc...   \n",
       "PG-13   1980  When five struggling single moms put aside the...   \n",
       "R       1985  Writer/director Lisa Cholodenko follows up her...   \n",
       "\n",
       "                                                    genre  \\\n",
       "rating                                                      \n",
       "G             Kids and Family|Musical and Performing Arts   \n",
       "NC17                                               Comedy   \n",
       "NR                      Drama|Horror|Mystery and Suspense   \n",
       "PG                            Science Fiction and Fantasy   \n",
       "PG-13   Horror|Mystery and Suspense|Science Fiction an...   \n",
       "R       Horror|Mystery and Suspense|Science Fiction an...   \n",
       "\n",
       "                                               director  \\\n",
       "rating                                                    \n",
       "G                                        Robert Ramirez   \n",
       "NC17                                        John Waters   \n",
       "NR      Rakeysh Omprakash Mehra|Rakeysh Omprakesh Mehra   \n",
       "PG                                 Uli Edel|Ulrich Edel   \n",
       "PG-13                                       Yimou Zhang   \n",
       "R                                           Yimou Zhang   \n",
       "\n",
       "                                                 writer  theater_date  \\\n",
       "rating                                                                  \n",
       "G                            Robert Ramirez|Rhett Reese  Jul 26, 2000   \n",
       "NC17                                        John Waters  Sep 24, 2004   \n",
       "NR                                        Prasoon Joshi   Oct 5, 2012   \n",
       "PG      Timothy Hyde Harris|David Bowers|Timothy Harris  Sep 29, 2006   \n",
       "PG-13                                       Woody Allen  Sep 30, 2005   \n",
       "R                                            Yan Geling   Sep 6, 2013   \n",
       "\n",
       "            dvd_date currency  box_office     runtime  \\\n",
       "rating                                                  \n",
       "G       Oct 31, 2000        $    18013938  95 minutes   \n",
       "NC17    Jun 14, 2005        $     1260219  89 minutes   \n",
       "NR       Sep 7, 2010        $     1626289  95 minutes   \n",
       "PG       Sep 5, 2017        $   261835892  97 minutes   \n",
       "PG-13   Sep 30, 2003        $   303001229  99 minutes   \n",
       "R        Sep 9, 2014        $   368000000  99 minutes   \n",
       "\n",
       "                           studio  \n",
       "rating                             \n",
       "G           Warner Bros. Pictures  \n",
       "NC17              New Line Cinema  \n",
       "NR                 Variance Films  \n",
       "PG          Warner Bros. Pictures  \n",
       "PG-13               Weinstein Co.  \n",
       "R       Wrekin Hill Entertainment  "
      ]
     },
     "execution_count": 73,
     "metadata": {},
     "output_type": "execute_result"
    }
   ],
   "source": [
    "#Now examine the Max box_office per rating to see if there is any discrepancies\n",
    "rating_max=rt_movieinfo.groupby(by=rt_movieinfo['rating']).max()\n",
    "rating_max"
   ]
  },
  {
   "cell_type": "code",
   "execution_count": 74,
   "metadata": {},
   "outputs": [],
   "source": [
    "#Get rating and box_office alone\n",
    "rating_max=rating_max.drop(['synopsis','genre','id','director','writer',\n",
    "                            'theater_date','dvd_date','runtime'],axis=1)"
   ]
  },
  {
   "cell_type": "code",
   "execution_count": 75,
   "metadata": {},
   "outputs": [
    {
     "data": {
      "text/html": [
       "<div>\n",
       "<style scoped>\n",
       "    .dataframe tbody tr th:only-of-type {\n",
       "        vertical-align: middle;\n",
       "    }\n",
       "\n",
       "    .dataframe tbody tr th {\n",
       "        vertical-align: top;\n",
       "    }\n",
       "\n",
       "    .dataframe thead th {\n",
       "        text-align: right;\n",
       "    }\n",
       "</style>\n",
       "<table border=\"1\" class=\"dataframe\">\n",
       "  <thead>\n",
       "    <tr style=\"text-align: right;\">\n",
       "      <th></th>\n",
       "      <th>index</th>\n",
       "      <th>rating</th>\n",
       "      <th>box_office</th>\n",
       "    </tr>\n",
       "  </thead>\n",
       "  <tbody>\n",
       "    <tr>\n",
       "      <th>0</th>\n",
       "      <td>0</td>\n",
       "      <td>G</td>\n",
       "      <td>7.402788e+06</td>\n",
       "    </tr>\n",
       "    <tr>\n",
       "      <th>1</th>\n",
       "      <td>1</td>\n",
       "      <td>NC17</td>\n",
       "      <td>1.260219e+06</td>\n",
       "    </tr>\n",
       "    <tr>\n",
       "      <th>2</th>\n",
       "      <td>2</td>\n",
       "      <td>NR</td>\n",
       "      <td>6.376923e+05</td>\n",
       "    </tr>\n",
       "    <tr>\n",
       "      <th>3</th>\n",
       "      <td>3</td>\n",
       "      <td>PG</td>\n",
       "      <td>5.289280e+07</td>\n",
       "    </tr>\n",
       "    <tr>\n",
       "      <th>4</th>\n",
       "      <td>4</td>\n",
       "      <td>PG-13</td>\n",
       "      <td>6.872359e+07</td>\n",
       "    </tr>\n",
       "    <tr>\n",
       "      <th>5</th>\n",
       "      <td>5</td>\n",
       "      <td>R</td>\n",
       "      <td>2.394827e+07</td>\n",
       "    </tr>\n",
       "  </tbody>\n",
       "</table>\n",
       "</div>"
      ],
      "text/plain": [
       "   index rating    box_office\n",
       "0      0      G  7.402788e+06\n",
       "1      1   NC17  1.260219e+06\n",
       "2      2     NR  6.376923e+05\n",
       "3      3     PG  5.289280e+07\n",
       "4      4  PG-13  6.872359e+07\n",
       "5      5      R  2.394827e+07"
      ]
     },
     "execution_count": 75,
     "metadata": {},
     "output_type": "execute_result"
    }
   ],
   "source": [
    "# reset index\n",
    "rating_max=rating_max.reset_index()\n",
    "rating_mean"
   ]
  },
  {
   "cell_type": "code",
   "execution_count": 76,
   "metadata": {},
   "outputs": [
    {
     "data": {
      "text/plain": [
       "''"
      ]
     },
     "execution_count": 76,
     "metadata": {},
     "output_type": "execute_result"
    },
    {
     "data": {
      "image/png": "[encoded data removed]",
      "text/plain": [
       "<Figure size 432x288 with 1 Axes>"
      ]
     },
     "metadata": {
      "needs_background": "light"
     },
     "output_type": "display_data"
    }
   ],
   "source": [
    "# Now with the Max box_office per movie rating we can visualize the possible ceiling of each movie rating\n",
    "fig, ax = plt.subplots()\n",
    "sns.scatterplot(x=rating_max['rating'],y=rating_max['box_office'],c=colors,s=1000,alpha=.8)\n",
    "ax.set_xlabel('Movie Rating')\n",
    "ax.set_ylabel('MAX Box Office')\n",
    "ax.set_title('MAX Box Office per Movie Rating')\n",
    ";"
   ]
  },
  {
   "cell_type": "markdown",
   "metadata": {},
   "source": [
    "Once again we will now make a bar chart to make this visual more readable."
   ]
  },
  {
   "cell_type": "code",
   "execution_count": 77,
   "metadata": {},
   "outputs": [
    {
     "data": {
      "image/png": "[encoded data removed]",
      "text/plain": [
       "<Figure size 432x288 with 1 Axes>"
      ]
     },
     "metadata": {
      "needs_background": "light"
     },
     "output_type": "display_data"
    }
   ],
   "source": [
    "height = rating_max['box_office']\n",
    "bars = rating_max['rating']\n",
    "x_pos = np.arange(len(bars))\n",
    "\n",
    "# Create bars \n",
    "plt.bar(x_pos, height,color=['red','purple','orange','blue','yellow','green'],edgecolor='black')\n",
    "\n",
    "# Create names on the x-axis\n",
    "plt.xticks(x_pos, bars)\n",
    "plt.xlabel('Movie Rating')\n",
    "plt.ylabel('Max Box Office')\n",
    "plt.title('Max Box Office per Movie Rating')\n",
    "# Show graph\n",
    "plt.show()"
   ]
  },
  {
   "cell_type": "markdown",
   "metadata": {},
   "source": [
    "Great! This is very clear and it seems like in terms of ceiling the R rating becomes a much bigger player. Seemingly it is riskier than the others but can come with high reward."
   ]
  },
  {
   "cell_type": "markdown",
   "metadata": {},
   "source": [
    "## Import the tmbd data to see if it can help support our findings"
   ]
  },
  {
   "cell_type": "code",
   "execution_count": 78,
   "metadata": {},
   "outputs": [
    {
     "data": {
      "text/html": [
       "<div>\n",
       "<style scoped>\n",
       "    .dataframe tbody tr th:only-of-type {\n",
       "        vertical-align: middle;\n",
       "    }\n",
       "\n",
       "    .dataframe tbody tr th {\n",
       "        vertical-align: top;\n",
       "    }\n",
       "\n",
       "    .dataframe thead th {\n",
       "        text-align: right;\n",
       "    }\n",
       "</style>\n",
       "<table border=\"1\" class=\"dataframe\">\n",
       "  <thead>\n",
       "    <tr style=\"text-align: right;\">\n",
       "      <th></th>\n",
       "      <th>id</th>\n",
       "      <th>release_date</th>\n",
       "      <th>movie</th>\n",
       "      <th>production_budget</th>\n",
       "      <th>domestic_gross</th>\n",
       "      <th>worldwide_gross</th>\n",
       "    </tr>\n",
       "  </thead>\n",
       "  <tbody>\n",
       "    <tr>\n",
       "      <th>0</th>\n",
       "      <td>1</td>\n",
       "      <td>Dec 18, 2009</td>\n",
       "      <td>Avatar</td>\n",
       "      <td>$425,000,000</td>\n",
       "      <td>$760,507,625</td>\n",
       "      <td>$2,776,345,279</td>\n",
       "    </tr>\n",
       "    <tr>\n",
       "      <th>1</th>\n",
       "      <td>2</td>\n",
       "      <td>May 20, 2011</td>\n",
       "      <td>Pirates of the Caribbean: On Stranger Tides</td>\n",
       "      <td>$410,600,000</td>\n",
       "      <td>$241,063,875</td>\n",
       "      <td>$1,045,663,875</td>\n",
       "    </tr>\n",
       "    <tr>\n",
       "      <th>2</th>\n",
       "      <td>3</td>\n",
       "      <td>Jun 7, 2019</td>\n",
       "      <td>Dark Phoenix</td>\n",
       "      <td>$350,000,000</td>\n",
       "      <td>$42,762,350</td>\n",
       "      <td>$149,762,350</td>\n",
       "    </tr>\n",
       "    <tr>\n",
       "      <th>3</th>\n",
       "      <td>4</td>\n",
       "      <td>May 1, 2015</td>\n",
       "      <td>Avengers: Age of Ultron</td>\n",
       "      <td>$330,600,000</td>\n",
       "      <td>$459,005,868</td>\n",
       "      <td>$1,403,013,963</td>\n",
       "    </tr>\n",
       "    <tr>\n",
       "      <th>4</th>\n",
       "      <td>5</td>\n",
       "      <td>Dec 15, 2017</td>\n",
       "      <td>Star Wars Ep. VIII: The Last Jedi</td>\n",
       "      <td>$317,000,000</td>\n",
       "      <td>$620,181,382</td>\n",
       "      <td>$1,316,721,747</td>\n",
       "    </tr>\n",
       "  </tbody>\n",
       "</table>\n",
       "</div>"
      ],
      "text/plain": [
       "   id  release_date                                        movie  \\\n",
       "0   1  Dec 18, 2009                                       Avatar   \n",
       "1   2  May 20, 2011  Pirates of the Caribbean: On Stranger Tides   \n",
       "2   3   Jun 7, 2019                                 Dark Phoenix   \n",
       "3   4   May 1, 2015                      Avengers: Age of Ultron   \n",
       "4   5  Dec 15, 2017            Star Wars Ep. VIII: The Last Jedi   \n",
       "\n",
       "  production_budget domestic_gross worldwide_gross  \n",
       "0      $425,000,000   $760,507,625  $2,776,345,279  \n",
       "1      $410,600,000   $241,063,875  $1,045,663,875  \n",
       "2      $350,000,000    $42,762,350    $149,762,350  \n",
       "3      $330,600,000   $459,005,868  $1,403,013,963  \n",
       "4      $317,000,000   $620,181,382  $1,316,721,747  "
      ]
     },
     "execution_count": 78,
     "metadata": {},
     "output_type": "execute_result"
    }
   ],
   "source": [
    "# Read the file into notebook\n",
    "tnmovie_budgets= pd.read_csv('zippedData/tn.movie_budgets.csv.gz')\n",
    "tnmovie_budgets.head()"
   ]
  },
  {
   "cell_type": "code",
   "execution_count": 79,
   "metadata": {},
   "outputs": [
    {
     "data": {
      "text/plain": [
       "(5782, 6)"
      ]
     },
     "execution_count": 79,
     "metadata": {},
     "output_type": "execute_result"
    }
   ],
   "source": [
    "tnmovie_budgets.shape"
   ]
  },
  {
   "cell_type": "code",
   "execution_count": 80,
   "metadata": {},
   "outputs": [
    {
     "data": {
      "text/plain": [
       "id                   0\n",
       "release_date         0\n",
       "movie                0\n",
       "production_budget    0\n",
       "domestic_gross       0\n",
       "worldwide_gross      0\n",
       "dtype: int64"
      ]
     },
     "execution_count": 80,
     "metadata": {},
     "output_type": "execute_result"
    }
   ],
   "source": [
    "# WOW this data is already fairly clean and does not appear to be missing anything\n",
    "tnmovie_budgets.isna().sum()"
   ]
  },
  {
   "cell_type": "code",
   "execution_count": 81,
   "metadata": {},
   "outputs": [
    {
     "name": "stdout",
     "output_type": "stream",
     "text": [
      "<class 'pandas.core.frame.DataFrame'>\n",
      "RangeIndex: 5782 entries, 0 to 5781\n",
      "Data columns (total 6 columns):\n",
      " #   Column             Non-Null Count  Dtype \n",
      "---  ------             --------------  ----- \n",
      " 0   id                 5782 non-null   int64 \n",
      " 1   release_date       5782 non-null   object\n",
      " 2   movie              5782 non-null   object\n",
      " 3   production_budget  5782 non-null   object\n",
      " 4   domestic_gross     5782 non-null   object\n",
      " 5   worldwide_gross    5782 non-null   object\n",
      "dtypes: int64(1), object(5)\n",
      "memory usage: 271.2+ KB\n"
     ]
    }
   ],
   "source": [
    "tnmovie_budgets.info()"
   ]
  },
  {
   "cell_type": "markdown",
   "metadata": {},
   "source": [
    "There are a varierty of objects that need to be moved to numeric form so that they can be manipulated properly. Let's change production_budget,domestic_gross and worldwide_gross to integers."
   ]
  },
  {
   "cell_type": "code",
   "execution_count": 82,
   "metadata": {},
   "outputs": [],
   "source": [
    "# Change production_budget to integer\n",
    "Production_budget=tnmovie_budgets['production_budget']\n",
    "production_budget_list=[]\n",
    "for num in Production_budget:\n",
    "    a= num.replace(',','')\n",
    "    b= a.replace('$','')\n",
    "    production_budget_list.append(int(b))\n",
    "tnmovie_budgets['production_budget']=Production_budget"
   ]
  },
  {
   "cell_type": "code",
   "execution_count": 83,
   "metadata": {},
   "outputs": [
    {
     "name": "stdout",
     "output_type": "stream",
     "text": [
      "<class 'pandas.core.frame.DataFrame'>\n",
      "RangeIndex: 5782 entries, 0 to 5781\n",
      "Data columns (total 6 columns):\n",
      " #   Column             Non-Null Count  Dtype \n",
      "---  ------             --------------  ----- \n",
      " 0   id                 5782 non-null   int64 \n",
      " 1   release_date       5782 non-null   object\n",
      " 2   movie              5782 non-null   object\n",
      " 3   production_budget  5782 non-null   object\n",
      " 4   domestic_gross     5782 non-null   object\n",
      " 5   worldwide_gross    5782 non-null   object\n",
      "dtypes: int64(1), object(5)\n",
      "memory usage: 271.2+ KB\n"
     ]
    }
   ],
   "source": [
    "tnmovie_budgets.info()"
   ]
  },
  {
   "cell_type": "code",
   "execution_count": 84,
   "metadata": {},
   "outputs": [
    {
     "data": {
      "text/plain": [
       "0    $425,000,000\n",
       "1    $410,600,000\n",
       "2    $350,000,000\n",
       "3    $330,600,000\n",
       "4    $317,000,000\n",
       "Name: production_budget, dtype: object"
      ]
     },
     "execution_count": 84,
     "metadata": {},
     "output_type": "execute_result"
    }
   ],
   "source": [
    "tnmovie_budgets['production_budget'].head()"
   ]
  },
  {
   "cell_type": "code",
   "execution_count": 85,
   "metadata": {},
   "outputs": [],
   "source": [
    "# Add the new integers to the production_budget column in place of the strings\n",
    "tnmovie_budgets['production_budget']=production_budget_list"
   ]
  },
  {
   "cell_type": "code",
   "execution_count": 86,
   "metadata": {},
   "outputs": [],
   "source": [
    "# Change worldwide_gross to integer\n",
    "worldwide_gross= tnmovie_budgets['worldwide_gross']\n",
    "worldwide_gross_list=[]\n",
    "for num in worldwide_gross:\n",
    "    a= num.replace(',','')\n",
    "    b= a.replace('$','')\n",
    "    worldwide_gross_list.append(int(b))"
   ]
  },
  {
   "cell_type": "code",
   "execution_count": 87,
   "metadata": {},
   "outputs": [
    {
     "data": {
      "text/plain": [
       "5782"
      ]
     },
     "execution_count": 87,
     "metadata": {},
     "output_type": "execute_result"
    }
   ],
   "source": [
    "len(worldwide_gross_list)"
   ]
  },
  {
   "cell_type": "code",
   "execution_count": 88,
   "metadata": {},
   "outputs": [
    {
     "data": {
      "text/plain": [
       "5782"
      ]
     },
     "execution_count": 88,
     "metadata": {},
     "output_type": "execute_result"
    }
   ],
   "source": [
    "len(tnmovie_budgets['worldwide_gross'])"
   ]
  },
  {
   "cell_type": "code",
   "execution_count": 89,
   "metadata": {},
   "outputs": [],
   "source": [
    "#Add the new integers to the worldwide_gross column in place of the strings\n",
    "tnmovie_budgets['worldwide_gross']=worldwide_gross_list"
   ]
  },
  {
   "cell_type": "code",
   "execution_count": 90,
   "metadata": {},
   "outputs": [
    {
     "data": {
      "text/html": [
       "<div>\n",
       "<style scoped>\n",
       "    .dataframe tbody tr th:only-of-type {\n",
       "        vertical-align: middle;\n",
       "    }\n",
       "\n",
       "    .dataframe tbody tr th {\n",
       "        vertical-align: top;\n",
       "    }\n",
       "\n",
       "    .dataframe thead th {\n",
       "        text-align: right;\n",
       "    }\n",
       "</style>\n",
       "<table border=\"1\" class=\"dataframe\">\n",
       "  <thead>\n",
       "    <tr style=\"text-align: right;\">\n",
       "      <th></th>\n",
       "      <th>id</th>\n",
       "      <th>release_date</th>\n",
       "      <th>movie</th>\n",
       "      <th>production_budget</th>\n",
       "      <th>domestic_gross</th>\n",
       "      <th>worldwide_gross</th>\n",
       "    </tr>\n",
       "  </thead>\n",
       "  <tbody>\n",
       "    <tr>\n",
       "      <th>0</th>\n",
       "      <td>1</td>\n",
       "      <td>Dec 18, 2009</td>\n",
       "      <td>Avatar</td>\n",
       "      <td>425000000</td>\n",
       "      <td>$760,507,625</td>\n",
       "      <td>2776345279</td>\n",
       "    </tr>\n",
       "    <tr>\n",
       "      <th>1</th>\n",
       "      <td>2</td>\n",
       "      <td>May 20, 2011</td>\n",
       "      <td>Pirates of the Caribbean: On Stranger Tides</td>\n",
       "      <td>410600000</td>\n",
       "      <td>$241,063,875</td>\n",
       "      <td>1045663875</td>\n",
       "    </tr>\n",
       "    <tr>\n",
       "      <th>2</th>\n",
       "      <td>3</td>\n",
       "      <td>Jun 7, 2019</td>\n",
       "      <td>Dark Phoenix</td>\n",
       "      <td>350000000</td>\n",
       "      <td>$42,762,350</td>\n",
       "      <td>149762350</td>\n",
       "    </tr>\n",
       "    <tr>\n",
       "      <th>3</th>\n",
       "      <td>4</td>\n",
       "      <td>May 1, 2015</td>\n",
       "      <td>Avengers: Age of Ultron</td>\n",
       "      <td>330600000</td>\n",
       "      <td>$459,005,868</td>\n",
       "      <td>1403013963</td>\n",
       "    </tr>\n",
       "    <tr>\n",
       "      <th>4</th>\n",
       "      <td>5</td>\n",
       "      <td>Dec 15, 2017</td>\n",
       "      <td>Star Wars Ep. VIII: The Last Jedi</td>\n",
       "      <td>317000000</td>\n",
       "      <td>$620,181,382</td>\n",
       "      <td>1316721747</td>\n",
       "    </tr>\n",
       "  </tbody>\n",
       "</table>\n",
       "</div>"
      ],
      "text/plain": [
       "   id  release_date                                        movie  \\\n",
       "0   1  Dec 18, 2009                                       Avatar   \n",
       "1   2  May 20, 2011  Pirates of the Caribbean: On Stranger Tides   \n",
       "2   3   Jun 7, 2019                                 Dark Phoenix   \n",
       "3   4   May 1, 2015                      Avengers: Age of Ultron   \n",
       "4   5  Dec 15, 2017            Star Wars Ep. VIII: The Last Jedi   \n",
       "\n",
       "   production_budget domestic_gross  worldwide_gross  \n",
       "0          425000000   $760,507,625       2776345279  \n",
       "1          410600000   $241,063,875       1045663875  \n",
       "2          350000000    $42,762,350        149762350  \n",
       "3          330600000   $459,005,868       1403013963  \n",
       "4          317000000   $620,181,382       1316721747  "
      ]
     },
     "execution_count": 90,
     "metadata": {},
     "output_type": "execute_result"
    }
   ],
   "source": [
    "tnmovie_budgets.head()"
   ]
  },
  {
   "cell_type": "code",
   "execution_count": 91,
   "metadata": {},
   "outputs": [],
   "source": [
    "# Change domestic_gross column to integer\n",
    "domestic_gross= tnmovie_budgets['domestic_gross']\n",
    "domestic_gross_list=[]\n",
    "for num in domestic_gross:\n",
    "    a= num.replace(',','')\n",
    "    b= a.replace('$','')\n",
    "    domestic_gross_list.append(int(b))"
   ]
  },
  {
   "cell_type": "code",
   "execution_count": 92,
   "metadata": {},
   "outputs": [
    {
     "data": {
      "text/plain": [
       "5782"
      ]
     },
     "execution_count": 92,
     "metadata": {},
     "output_type": "execute_result"
    }
   ],
   "source": [
    "len(tnmovie_budgets['domestic_gross'])"
   ]
  },
  {
   "cell_type": "code",
   "execution_count": 93,
   "metadata": {},
   "outputs": [
    {
     "data": {
      "text/plain": [
       "5782"
      ]
     },
     "execution_count": 93,
     "metadata": {},
     "output_type": "execute_result"
    }
   ],
   "source": [
    "len(domestic_gross_list)"
   ]
  },
  {
   "cell_type": "code",
   "execution_count": 94,
   "metadata": {},
   "outputs": [],
   "source": [
    "#Add the new integers to the production_budget column in place of the strings\n",
    "tnmovie_budgets['domestic_gross']=domestic_gross_list"
   ]
  },
  {
   "cell_type": "code",
   "execution_count": 95,
   "metadata": {},
   "outputs": [
    {
     "data": {
      "text/html": [
       "<div>\n",
       "<style scoped>\n",
       "    .dataframe tbody tr th:only-of-type {\n",
       "        vertical-align: middle;\n",
       "    }\n",
       "\n",
       "    .dataframe tbody tr th {\n",
       "        vertical-align: top;\n",
       "    }\n",
       "\n",
       "    .dataframe thead th {\n",
       "        text-align: right;\n",
       "    }\n",
       "</style>\n",
       "<table border=\"1\" class=\"dataframe\">\n",
       "  <thead>\n",
       "    <tr style=\"text-align: right;\">\n",
       "      <th></th>\n",
       "      <th>id</th>\n",
       "      <th>release_date</th>\n",
       "      <th>movie</th>\n",
       "      <th>production_budget</th>\n",
       "      <th>domestic_gross</th>\n",
       "      <th>worldwide_gross</th>\n",
       "    </tr>\n",
       "  </thead>\n",
       "  <tbody>\n",
       "    <tr>\n",
       "      <th>0</th>\n",
       "      <td>1</td>\n",
       "      <td>Dec 18, 2009</td>\n",
       "      <td>Avatar</td>\n",
       "      <td>425000000</td>\n",
       "      <td>760507625</td>\n",
       "      <td>2776345279</td>\n",
       "    </tr>\n",
       "    <tr>\n",
       "      <th>1</th>\n",
       "      <td>2</td>\n",
       "      <td>May 20, 2011</td>\n",
       "      <td>Pirates of the Caribbean: On Stranger Tides</td>\n",
       "      <td>410600000</td>\n",
       "      <td>241063875</td>\n",
       "      <td>1045663875</td>\n",
       "    </tr>\n",
       "    <tr>\n",
       "      <th>2</th>\n",
       "      <td>3</td>\n",
       "      <td>Jun 7, 2019</td>\n",
       "      <td>Dark Phoenix</td>\n",
       "      <td>350000000</td>\n",
       "      <td>42762350</td>\n",
       "      <td>149762350</td>\n",
       "    </tr>\n",
       "    <tr>\n",
       "      <th>3</th>\n",
       "      <td>4</td>\n",
       "      <td>May 1, 2015</td>\n",
       "      <td>Avengers: Age of Ultron</td>\n",
       "      <td>330600000</td>\n",
       "      <td>459005868</td>\n",
       "      <td>1403013963</td>\n",
       "    </tr>\n",
       "    <tr>\n",
       "      <th>4</th>\n",
       "      <td>5</td>\n",
       "      <td>Dec 15, 2017</td>\n",
       "      <td>Star Wars Ep. VIII: The Last Jedi</td>\n",
       "      <td>317000000</td>\n",
       "      <td>620181382</td>\n",
       "      <td>1316721747</td>\n",
       "    </tr>\n",
       "  </tbody>\n",
       "</table>\n",
       "</div>"
      ],
      "text/plain": [
       "   id  release_date                                        movie  \\\n",
       "0   1  Dec 18, 2009                                       Avatar   \n",
       "1   2  May 20, 2011  Pirates of the Caribbean: On Stranger Tides   \n",
       "2   3   Jun 7, 2019                                 Dark Phoenix   \n",
       "3   4   May 1, 2015                      Avengers: Age of Ultron   \n",
       "4   5  Dec 15, 2017            Star Wars Ep. VIII: The Last Jedi   \n",
       "\n",
       "   production_budget  domestic_gross  worldwide_gross  \n",
       "0          425000000       760507625       2776345279  \n",
       "1          410600000       241063875       1045663875  \n",
       "2          350000000        42762350        149762350  \n",
       "3          330600000       459005868       1403013963  \n",
       "4          317000000       620181382       1316721747  "
      ]
     },
     "execution_count": 95,
     "metadata": {},
     "output_type": "execute_result"
    }
   ],
   "source": [
    "tnmovie_budgets.head()"
   ]
  },
  {
   "cell_type": "code",
   "execution_count": 96,
   "metadata": {},
   "outputs": [],
   "source": [
    "tnmovie_budgets['worldwide_profit']= tnmovie_budgets['worldwide_gross']-tnmovie_budgets['production_budget']"
   ]
  },
  {
   "cell_type": "code",
   "execution_count": 97,
   "metadata": {},
   "outputs": [
    {
     "data": {
      "text/html": [
       "<div>\n",
       "<style scoped>\n",
       "    .dataframe tbody tr th:only-of-type {\n",
       "        vertical-align: middle;\n",
       "    }\n",
       "\n",
       "    .dataframe tbody tr th {\n",
       "        vertical-align: top;\n",
       "    }\n",
       "\n",
       "    .dataframe thead th {\n",
       "        text-align: right;\n",
       "    }\n",
       "</style>\n",
       "<table border=\"1\" class=\"dataframe\">\n",
       "  <thead>\n",
       "    <tr style=\"text-align: right;\">\n",
       "      <th></th>\n",
       "      <th>id</th>\n",
       "      <th>release_date</th>\n",
       "      <th>movie</th>\n",
       "      <th>production_budget</th>\n",
       "      <th>domestic_gross</th>\n",
       "      <th>worldwide_gross</th>\n",
       "      <th>worldwide_profit</th>\n",
       "    </tr>\n",
       "  </thead>\n",
       "  <tbody>\n",
       "    <tr>\n",
       "      <th>0</th>\n",
       "      <td>1</td>\n",
       "      <td>Dec 18, 2009</td>\n",
       "      <td>Avatar</td>\n",
       "      <td>425000000</td>\n",
       "      <td>760507625</td>\n",
       "      <td>2776345279</td>\n",
       "      <td>2351345279</td>\n",
       "    </tr>\n",
       "    <tr>\n",
       "      <th>1</th>\n",
       "      <td>2</td>\n",
       "      <td>May 20, 2011</td>\n",
       "      <td>Pirates of the Caribbean: On Stranger Tides</td>\n",
       "      <td>410600000</td>\n",
       "      <td>241063875</td>\n",
       "      <td>1045663875</td>\n",
       "      <td>635063875</td>\n",
       "    </tr>\n",
       "    <tr>\n",
       "      <th>2</th>\n",
       "      <td>3</td>\n",
       "      <td>Jun 7, 2019</td>\n",
       "      <td>Dark Phoenix</td>\n",
       "      <td>350000000</td>\n",
       "      <td>42762350</td>\n",
       "      <td>149762350</td>\n",
       "      <td>-200237650</td>\n",
       "    </tr>\n",
       "    <tr>\n",
       "      <th>3</th>\n",
       "      <td>4</td>\n",
       "      <td>May 1, 2015</td>\n",
       "      <td>Avengers: Age of Ultron</td>\n",
       "      <td>330600000</td>\n",
       "      <td>459005868</td>\n",
       "      <td>1403013963</td>\n",
       "      <td>1072413963</td>\n",
       "    </tr>\n",
       "    <tr>\n",
       "      <th>4</th>\n",
       "      <td>5</td>\n",
       "      <td>Dec 15, 2017</td>\n",
       "      <td>Star Wars Ep. VIII: The Last Jedi</td>\n",
       "      <td>317000000</td>\n",
       "      <td>620181382</td>\n",
       "      <td>1316721747</td>\n",
       "      <td>999721747</td>\n",
       "    </tr>\n",
       "  </tbody>\n",
       "</table>\n",
       "</div>"
      ],
      "text/plain": [
       "   id  release_date                                        movie  \\\n",
       "0   1  Dec 18, 2009                                       Avatar   \n",
       "1   2  May 20, 2011  Pirates of the Caribbean: On Stranger Tides   \n",
       "2   3   Jun 7, 2019                                 Dark Phoenix   \n",
       "3   4   May 1, 2015                      Avengers: Age of Ultron   \n",
       "4   5  Dec 15, 2017            Star Wars Ep. VIII: The Last Jedi   \n",
       "\n",
       "   production_budget  domestic_gross  worldwide_gross  worldwide_profit  \n",
       "0          425000000       760507625       2776345279        2351345279  \n",
       "1          410600000       241063875       1045663875         635063875  \n",
       "2          350000000        42762350        149762350        -200237650  \n",
       "3          330600000       459005868       1403013963        1072413963  \n",
       "4          317000000       620181382       1316721747         999721747  "
      ]
     },
     "execution_count": 97,
     "metadata": {},
     "output_type": "execute_result"
    }
   ],
   "source": [
    "tnmovie_budgets.head()"
   ]
  },
  {
   "cell_type": "code",
   "execution_count": 98,
   "metadata": {},
   "outputs": [],
   "source": [
    "#Sort by the worst performing movies and rename to maintain original\n",
    "sorted_by_worst_performing=tnmovie_budgets.sort_values(by=['worldwide_profit'])"
   ]
  },
  {
   "cell_type": "code",
   "execution_count": 99,
   "metadata": {},
   "outputs": [],
   "source": [
    "##Sort by the best performing movies and rename to maintain original\n",
    "sorted_by_best_performing=tnmovie_budgets.sort_values(by=['worldwide_profit'],ascending=False)"
   ]
  },
  {
   "cell_type": "code",
   "execution_count": 100,
   "metadata": {},
   "outputs": [
    {
     "data": {
      "text/html": [
       "<div>\n",
       "<style scoped>\n",
       "    .dataframe tbody tr th:only-of-type {\n",
       "        vertical-align: middle;\n",
       "    }\n",
       "\n",
       "    .dataframe tbody tr th {\n",
       "        vertical-align: top;\n",
       "    }\n",
       "\n",
       "    .dataframe thead th {\n",
       "        text-align: right;\n",
       "    }\n",
       "</style>\n",
       "<table border=\"1\" class=\"dataframe\">\n",
       "  <thead>\n",
       "    <tr style=\"text-align: right;\">\n",
       "      <th></th>\n",
       "      <th>id</th>\n",
       "      <th>release_date</th>\n",
       "      <th>movie</th>\n",
       "      <th>production_budget</th>\n",
       "      <th>domestic_gross</th>\n",
       "      <th>worldwide_gross</th>\n",
       "      <th>worldwide_profit</th>\n",
       "    </tr>\n",
       "  </thead>\n",
       "  <tbody>\n",
       "    <tr>\n",
       "      <th>0</th>\n",
       "      <td>1</td>\n",
       "      <td>Dec 18, 2009</td>\n",
       "      <td>Avatar</td>\n",
       "      <td>425000000</td>\n",
       "      <td>760507625</td>\n",
       "      <td>2776345279</td>\n",
       "      <td>2351345279</td>\n",
       "    </tr>\n",
       "    <tr>\n",
       "      <th>42</th>\n",
       "      <td>43</td>\n",
       "      <td>Dec 19, 1997</td>\n",
       "      <td>Titanic</td>\n",
       "      <td>200000000</td>\n",
       "      <td>659363944</td>\n",
       "      <td>2208208395</td>\n",
       "      <td>2008208395</td>\n",
       "    </tr>\n",
       "    <tr>\n",
       "      <th>6</th>\n",
       "      <td>7</td>\n",
       "      <td>Apr 27, 2018</td>\n",
       "      <td>Avengers: Infinity War</td>\n",
       "      <td>300000000</td>\n",
       "      <td>678815482</td>\n",
       "      <td>2048134200</td>\n",
       "      <td>1748134200</td>\n",
       "    </tr>\n",
       "    <tr>\n",
       "      <th>5</th>\n",
       "      <td>6</td>\n",
       "      <td>Dec 18, 2015</td>\n",
       "      <td>Star Wars Ep. VII: The Force Awakens</td>\n",
       "      <td>306000000</td>\n",
       "      <td>936662225</td>\n",
       "      <td>2053311220</td>\n",
       "      <td>1747311220</td>\n",
       "    </tr>\n",
       "    <tr>\n",
       "      <th>33</th>\n",
       "      <td>34</td>\n",
       "      <td>Jun 12, 2015</td>\n",
       "      <td>Jurassic World</td>\n",
       "      <td>215000000</td>\n",
       "      <td>652270625</td>\n",
       "      <td>1648854864</td>\n",
       "      <td>1433854864</td>\n",
       "    </tr>\n",
       "  </tbody>\n",
       "</table>\n",
       "</div>"
      ],
      "text/plain": [
       "    id  release_date                                 movie  production_budget  \\\n",
       "0    1  Dec 18, 2009                                Avatar          425000000   \n",
       "42  43  Dec 19, 1997                               Titanic          200000000   \n",
       "6    7  Apr 27, 2018                Avengers: Infinity War          300000000   \n",
       "5    6  Dec 18, 2015  Star Wars Ep. VII: The Force Awakens          306000000   \n",
       "33  34  Jun 12, 2015                        Jurassic World          215000000   \n",
       "\n",
       "    domestic_gross  worldwide_gross  worldwide_profit  \n",
       "0        760507625       2776345279        2351345279  \n",
       "42       659363944       2208208395        2008208395  \n",
       "6        678815482       2048134200        1748134200  \n",
       "5        936662225       2053311220        1747311220  \n",
       "33       652270625       1648854864        1433854864  "
      ]
     },
     "execution_count": 100,
     "metadata": {},
     "output_type": "execute_result"
    }
   ],
   "source": [
    "sorted_by_best_performing.head()"
   ]
  },
  {
   "cell_type": "code",
   "execution_count": 101,
   "metadata": {},
   "outputs": [],
   "source": [
    "sorted_by_best_performing=sorted_by_best_performing.drop(['release_date','id','production_budget','domestic_gross'\n",
    "                                                          ,'worldwide_gross'],axis=1)"
   ]
  },
  {
   "cell_type": "code",
   "execution_count": 102,
   "metadata": {},
   "outputs": [
    {
     "data": {
      "text/html": [
       "<div>\n",
       "<style scoped>\n",
       "    .dataframe tbody tr th:only-of-type {\n",
       "        vertical-align: middle;\n",
       "    }\n",
       "\n",
       "    .dataframe tbody tr th {\n",
       "        vertical-align: top;\n",
       "    }\n",
       "\n",
       "    .dataframe thead th {\n",
       "        text-align: right;\n",
       "    }\n",
       "</style>\n",
       "<table border=\"1\" class=\"dataframe\">\n",
       "  <thead>\n",
       "    <tr style=\"text-align: right;\">\n",
       "      <th></th>\n",
       "      <th>movie</th>\n",
       "      <th>worldwide_profit</th>\n",
       "    </tr>\n",
       "  </thead>\n",
       "  <tbody>\n",
       "    <tr>\n",
       "      <th>0</th>\n",
       "      <td>Avatar</td>\n",
       "      <td>2351345279</td>\n",
       "    </tr>\n",
       "    <tr>\n",
       "      <th>42</th>\n",
       "      <td>Titanic</td>\n",
       "      <td>2008208395</td>\n",
       "    </tr>\n",
       "    <tr>\n",
       "      <th>6</th>\n",
       "      <td>Avengers: Infinity War</td>\n",
       "      <td>1748134200</td>\n",
       "    </tr>\n",
       "    <tr>\n",
       "      <th>5</th>\n",
       "      <td>Star Wars Ep. VII: The Force Awakens</td>\n",
       "      <td>1747311220</td>\n",
       "    </tr>\n",
       "    <tr>\n",
       "      <th>33</th>\n",
       "      <td>Jurassic World</td>\n",
       "      <td>1433854864</td>\n",
       "    </tr>\n",
       "  </tbody>\n",
       "</table>\n",
       "</div>"
      ],
      "text/plain": [
       "                                   movie  worldwide_profit\n",
       "0                                 Avatar        2351345279\n",
       "42                               Titanic        2008208395\n",
       "6                 Avengers: Infinity War        1748134200\n",
       "5   Star Wars Ep. VII: The Force Awakens        1747311220\n",
       "33                        Jurassic World        1433854864"
      ]
     },
     "execution_count": 102,
     "metadata": {},
     "output_type": "execute_result"
    }
   ],
   "source": [
    "sorted_by_best_performing.head()"
   ]
  },
  {
   "cell_type": "code",
   "execution_count": 103,
   "metadata": {},
   "outputs": [
    {
     "data": {
      "text/plain": [
       "(5782, 2)"
      ]
     },
     "execution_count": 103,
     "metadata": {},
     "output_type": "execute_result"
    }
   ],
   "source": [
    "sorted_by_best_performing.shape"
   ]
  },
  {
   "cell_type": "code",
   "execution_count": 104,
   "metadata": {},
   "outputs": [
    {
     "data": {
      "text/html": [
       "<div>\n",
       "<style scoped>\n",
       "    .dataframe tbody tr th:only-of-type {\n",
       "        vertical-align: middle;\n",
       "    }\n",
       "\n",
       "    .dataframe tbody tr th {\n",
       "        vertical-align: top;\n",
       "    }\n",
       "\n",
       "    .dataframe thead th {\n",
       "        text-align: right;\n",
       "    }\n",
       "</style>\n",
       "<table border=\"1\" class=\"dataframe\">\n",
       "  <thead>\n",
       "    <tr style=\"text-align: right;\">\n",
       "      <th></th>\n",
       "      <th>worldwide_profit</th>\n",
       "    </tr>\n",
       "    <tr>\n",
       "      <th>movie</th>\n",
       "      <th></th>\n",
       "    </tr>\n",
       "  </thead>\n",
       "  <tbody>\n",
       "    <tr>\n",
       "      <th>Avatar</th>\n",
       "      <td>2351345279</td>\n",
       "    </tr>\n",
       "    <tr>\n",
       "      <th>Titanic</th>\n",
       "      <td>2008208395</td>\n",
       "    </tr>\n",
       "    <tr>\n",
       "      <th>Avengers: Infinity War</th>\n",
       "      <td>1748134200</td>\n",
       "    </tr>\n",
       "    <tr>\n",
       "      <th>Star Wars Ep. VII: The Force Awakens</th>\n",
       "      <td>1747311220</td>\n",
       "    </tr>\n",
       "    <tr>\n",
       "      <th>Jurassic World</th>\n",
       "      <td>1433854864</td>\n",
       "    </tr>\n",
       "    <tr>\n",
       "      <th>...</th>\n",
       "      <td>...</td>\n",
       "    </tr>\n",
       "    <tr>\n",
       "      <th>Town &amp; Country</th>\n",
       "      <td>-94635231</td>\n",
       "    </tr>\n",
       "    <tr>\n",
       "      <th>Men in Black: International</th>\n",
       "      <td>-106900000</td>\n",
       "    </tr>\n",
       "    <tr>\n",
       "      <th>Mars Needs Moms</th>\n",
       "      <td>-110450242</td>\n",
       "    </tr>\n",
       "    <tr>\n",
       "      <th>Moonfall</th>\n",
       "      <td>-150000000</td>\n",
       "    </tr>\n",
       "    <tr>\n",
       "      <th>Dark Phoenix</th>\n",
       "      <td>-200237650</td>\n",
       "    </tr>\n",
       "  </tbody>\n",
       "</table>\n",
       "<p>5782 rows × 1 columns</p>\n",
       "</div>"
      ],
      "text/plain": [
       "                                      worldwide_profit\n",
       "movie                                                 \n",
       "Avatar                                      2351345279\n",
       "Titanic                                     2008208395\n",
       "Avengers: Infinity War                      1748134200\n",
       "Star Wars Ep. VII: The Force Awakens        1747311220\n",
       "Jurassic World                              1433854864\n",
       "...                                                ...\n",
       "Town & Country                               -94635231\n",
       "Men in Black: International                 -106900000\n",
       "Mars Needs Moms                             -110450242\n",
       "Moonfall                                    -150000000\n",
       "Dark Phoenix                                -200237650\n",
       "\n",
       "[5782 rows x 1 columns]"
      ]
     },
     "execution_count": 104,
     "metadata": {},
     "output_type": "execute_result"
    }
   ],
   "source": [
    "sorted_by_best_performing.set_index(['movie'])"
   ]
  },
  {
   "cell_type": "code",
   "execution_count": 105,
   "metadata": {},
   "outputs": [],
   "source": [
    "#Plot the top ten movies by worldwide profit to see how they relate to our findings from the Rotten Tomatoes data and \n",
    "# The Bom data\n",
    "holdx=sorted_by_best_performing['movie'][:10]\n",
    "holdy=sorted_by_best_performing['worldwide_profit'][:10]"
   ]
  },
  {
   "cell_type": "code",
   "execution_count": 106,
   "metadata": {},
   "outputs": [
    {
     "data": {
      "text/plain": [
       "''"
      ]
     },
     "execution_count": 106,
     "metadata": {},
     "output_type": "execute_result"
    },
    {
     "data": {
      "image/png": "[encoded data removed]",
      "text/plain": [
       "<Figure size 2160x720 with 1 Axes>"
      ]
     },
     "metadata": {
      "needs_background": "light"
     },
     "output_type": "display_data"
    }
   ],
   "source": [
    "fig, ax = plt.subplots(figsize=(30,10))\n",
    "ax.bar(x=holdx,height=holdy,color='purple')\n",
    "ax.set_xlabel('Movie Rating')\n",
    "ax.set_ylabel('MAX Box Office')\n",
    "ax.set_title('MAX Box Office per Movie Rating')\n",
    ";"
   ]
  },
  {
   "cell_type": "markdown",
   "metadata": {},
   "source": [
    "## Conclusion"
   ]
  },
  {
   "cell_type": "markdown",
   "metadata": {},
   "source": [
    "Interesting, we actually see that this lines up really well with what the other two data sets would of made us believe. ALL of these movies are rated PG-13 and almost ALL of them are part of a franchise. Then we also see the appearance of movies based on books/comics very prevalent here as well. Based on the findings from all these data sets I would recommend that Microsoft make a movie rated between PG and R. PG-13 being my main recommendation with R being if they want to take on a bit more risk but with perhaps higher reward. PG only if they specifically wanted to be family friendly and were deciding between G and PG. In which case I would strongly urge them to make it a PG movie. Then I would recommend it be based on a popular book or comic books as the built in audiuence you get has proven to be invaluable as shown in the data. Then finally if I was advising Microsoft more long term rather than for just one movie I would recommend they decide on something with franchise potential rather than a standalone movie."
   ]
  },
  {
   "cell_type": "markdown",
   "metadata": {},
   "source": [
    "Daniel Arthur Notebook"
   ]
  },
  {
   "cell_type": "code",
   "execution_count": 107,
   "metadata": {},
   "outputs": [
    {
     "data": {
      "text/html": [
       "<div>\n",
       "<style scoped>\n",
       "    .dataframe tbody tr th:only-of-type {\n",
       "        vertical-align: middle;\n",
       "    }\n",
       "\n",
       "    .dataframe tbody tr th {\n",
       "        vertical-align: top;\n",
       "    }\n",
       "\n",
       "    .dataframe thead th {\n",
       "        text-align: right;\n",
       "    }\n",
       "</style>\n",
       "<table border=\"1\" class=\"dataframe\">\n",
       "  <thead>\n",
       "    <tr style=\"text-align: right;\">\n",
       "      <th></th>\n",
       "      <th>Unnamed: 0</th>\n",
       "      <th>genre_ids</th>\n",
       "      <th>id</th>\n",
       "      <th>original_language</th>\n",
       "      <th>original_title</th>\n",
       "      <th>popularity</th>\n",
       "      <th>release_date</th>\n",
       "      <th>title</th>\n",
       "      <th>vote_average</th>\n",
       "      <th>vote_count</th>\n",
       "    </tr>\n",
       "  </thead>\n",
       "  <tbody>\n",
       "    <tr>\n",
       "      <th>0</th>\n",
       "      <td>0</td>\n",
       "      <td>[12, 14, 10751]</td>\n",
       "      <td>12444</td>\n",
       "      <td>en</td>\n",
       "      <td>Harry Potter and the Deathly Hallows: Part 1</td>\n",
       "      <td>33.533</td>\n",
       "      <td>2010-11-19</td>\n",
       "      <td>Harry Potter and the Deathly Hallows: Part 1</td>\n",
       "      <td>7.7</td>\n",
       "      <td>10788</td>\n",
       "    </tr>\n",
       "    <tr>\n",
       "      <th>1</th>\n",
       "      <td>1</td>\n",
       "      <td>[14, 12, 16, 10751]</td>\n",
       "      <td>10191</td>\n",
       "      <td>en</td>\n",
       "      <td>How to Train Your Dragon</td>\n",
       "      <td>28.734</td>\n",
       "      <td>2010-03-26</td>\n",
       "      <td>How to Train Your Dragon</td>\n",
       "      <td>7.7</td>\n",
       "      <td>7610</td>\n",
       "    </tr>\n",
       "    <tr>\n",
       "      <th>2</th>\n",
       "      <td>2</td>\n",
       "      <td>[12, 28, 878]</td>\n",
       "      <td>10138</td>\n",
       "      <td>en</td>\n",
       "      <td>Iron Man 2</td>\n",
       "      <td>28.515</td>\n",
       "      <td>2010-05-07</td>\n",
       "      <td>Iron Man 2</td>\n",
       "      <td>6.8</td>\n",
       "      <td>12368</td>\n",
       "    </tr>\n",
       "    <tr>\n",
       "      <th>3</th>\n",
       "      <td>3</td>\n",
       "      <td>[16, 35, 10751]</td>\n",
       "      <td>862</td>\n",
       "      <td>en</td>\n",
       "      <td>Toy Story</td>\n",
       "      <td>28.005</td>\n",
       "      <td>1995-11-22</td>\n",
       "      <td>Toy Story</td>\n",
       "      <td>7.9</td>\n",
       "      <td>10174</td>\n",
       "    </tr>\n",
       "    <tr>\n",
       "      <th>4</th>\n",
       "      <td>4</td>\n",
       "      <td>[28, 878, 12]</td>\n",
       "      <td>27205</td>\n",
       "      <td>en</td>\n",
       "      <td>Inception</td>\n",
       "      <td>27.920</td>\n",
       "      <td>2010-07-16</td>\n",
       "      <td>Inception</td>\n",
       "      <td>8.3</td>\n",
       "      <td>22186</td>\n",
       "    </tr>\n",
       "  </tbody>\n",
       "</table>\n",
       "</div>"
      ],
      "text/plain": [
       "   Unnamed: 0            genre_ids     id original_language  \\\n",
       "0           0      [12, 14, 10751]  12444                en   \n",
       "1           1  [14, 12, 16, 10751]  10191                en   \n",
       "2           2        [12, 28, 878]  10138                en   \n",
       "3           3      [16, 35, 10751]    862                en   \n",
       "4           4        [28, 878, 12]  27205                en   \n",
       "\n",
       "                                 original_title  popularity release_date  \\\n",
       "0  Harry Potter and the Deathly Hallows: Part 1      33.533   2010-11-19   \n",
       "1                      How to Train Your Dragon      28.734   2010-03-26   \n",
       "2                                    Iron Man 2      28.515   2010-05-07   \n",
       "3                                     Toy Story      28.005   1995-11-22   \n",
       "4                                     Inception      27.920   2010-07-16   \n",
       "\n",
       "                                          title  vote_average  vote_count  \n",
       "0  Harry Potter and the Deathly Hallows: Part 1           7.7       10788  \n",
       "1                      How to Train Your Dragon           7.7        7610  \n",
       "2                                    Iron Man 2           6.8       12368  \n",
       "3                                     Toy Story           7.9       10174  \n",
       "4                                     Inception           8.3       22186  "
      ]
     },
     "execution_count": 107,
     "metadata": {},
     "output_type": "execute_result"
    }
   ],
   "source": [
    "#Import file as a variable and take a basic look at the data contained\n",
    "tmdbmovies= pd.read_csv('zippedData/tmdb.movies.csv.gz')\n",
    "tmdbmovies.head()"
   ]
  },
  {
   "cell_type": "code",
   "execution_count": 108,
   "metadata": {},
   "outputs": [],
   "source": [
    "#turn the column into a list that can be used for graph\n",
    "vote_count=tmdbmovies['vote_count']\n",
    "vote_count_list=[]\n",
    "for num in vote_count:\n",
    "    vote_count_list.append(num)"
   ]
  },
  {
   "cell_type": "code",
   "execution_count": 109,
   "metadata": {},
   "outputs": [
    {
     "data": {
      "text/plain": [
       "[33.533, 28.734, 28.515, 28.005, 27.92]"
      ]
     },
     "execution_count": 109,
     "metadata": {},
     "output_type": "execute_result"
    }
   ],
   "source": [
    "#turn the column into a list that can be used for graph\n",
    "popularity=tmdbmovies['popularity']\n",
    "popularity_list=[]\n",
    "for num in popularity:\n",
    "    popularity_list.append(num)\n",
    "popularity_list[0:5]"
   ]
  },
  {
   "cell_type": "code",
   "execution_count": 110,
   "metadata": {},
   "outputs": [
    {
     "data": {
      "text/plain": [
       "Text(0, 0.5, 'Popularity')"
      ]
     },
     "execution_count": 110,
     "metadata": {},
     "output_type": "execute_result"
    },
    {
     "data": {
      "image/png": "[encoded data removed]",
      "text/plain": [
       "<Figure size 432x288 with 1 Axes>"
      ]
     },
     "metadata": {
      "needs_background": "light"
     },
     "output_type": "display_data"
    }
   ],
   "source": [
    "#plot production budget against domestic gross\n",
    "fig, (ax) = plt.subplots()\n",
    "ax.scatter(vote_count_list, popularity_list)\n",
    "ax.set_title('Popularity to Count')\n",
    "ax.set_xlabel('Count')\n",
    "ax.set_ylabel('Popularity')"
   ]
  },
  {
   "cell_type": "code",
   "execution_count": 111,
   "metadata": {},
   "outputs": [
    {
     "data": {
      "text/plain": [
       "array([[1.        , 0.69484937],\n",
       "       [0.69484937, 1.        ]])"
      ]
     },
     "execution_count": 111,
     "metadata": {},
     "output_type": "execute_result"
    }
   ],
   "source": [
    "count_corr=np.corrcoef(vote_count_list, popularity_list)\n",
    "count_corr"
   ]
  },
  {
   "cell_type": "markdown",
   "metadata": {},
   "source": [
    "There is a positive correlation between vote counts and popularity. Meaning that the more a movie is enjoyed (described by the popularity metric) the more people consume it. However we are unable to assume causation. So it is unclear if the popularity drives the count or if the counts drive the popularity. Are people deciding or are group dynamics driving indiviual opinion?"
   ]
  },
  {
   "cell_type": "code",
   "execution_count": 112,
   "metadata": {},
   "outputs": [
    {
     "data": {
      "text/html": [
       "<div>\n",
       "<style scoped>\n",
       "    .dataframe tbody tr th:only-of-type {\n",
       "        vertical-align: middle;\n",
       "    }\n",
       "\n",
       "    .dataframe tbody tr th {\n",
       "        vertical-align: top;\n",
       "    }\n",
       "\n",
       "    .dataframe thead th {\n",
       "        text-align: right;\n",
       "    }\n",
       "</style>\n",
       "<table border=\"1\" class=\"dataframe\">\n",
       "  <thead>\n",
       "    <tr style=\"text-align: right;\">\n",
       "      <th></th>\n",
       "      <th>id</th>\n",
       "      <th>release_date</th>\n",
       "      <th>movie</th>\n",
       "      <th>production_budget</th>\n",
       "      <th>domestic_gross</th>\n",
       "      <th>worldwide_gross</th>\n",
       "    </tr>\n",
       "  </thead>\n",
       "  <tbody>\n",
       "    <tr>\n",
       "      <th>0</th>\n",
       "      <td>1</td>\n",
       "      <td>Dec 18, 2009</td>\n",
       "      <td>Avatar</td>\n",
       "      <td>$425,000,000</td>\n",
       "      <td>$760,507,625</td>\n",
       "      <td>$2,776,345,279</td>\n",
       "    </tr>\n",
       "    <tr>\n",
       "      <th>1</th>\n",
       "      <td>2</td>\n",
       "      <td>May 20, 2011</td>\n",
       "      <td>Pirates of the Caribbean: On Stranger Tides</td>\n",
       "      <td>$410,600,000</td>\n",
       "      <td>$241,063,875</td>\n",
       "      <td>$1,045,663,875</td>\n",
       "    </tr>\n",
       "    <tr>\n",
       "      <th>2</th>\n",
       "      <td>3</td>\n",
       "      <td>Jun 7, 2019</td>\n",
       "      <td>Dark Phoenix</td>\n",
       "      <td>$350,000,000</td>\n",
       "      <td>$42,762,350</td>\n",
       "      <td>$149,762,350</td>\n",
       "    </tr>\n",
       "    <tr>\n",
       "      <th>3</th>\n",
       "      <td>4</td>\n",
       "      <td>May 1, 2015</td>\n",
       "      <td>Avengers: Age of Ultron</td>\n",
       "      <td>$330,600,000</td>\n",
       "      <td>$459,005,868</td>\n",
       "      <td>$1,403,013,963</td>\n",
       "    </tr>\n",
       "    <tr>\n",
       "      <th>4</th>\n",
       "      <td>5</td>\n",
       "      <td>Dec 15, 2017</td>\n",
       "      <td>Star Wars Ep. VIII: The Last Jedi</td>\n",
       "      <td>$317,000,000</td>\n",
       "      <td>$620,181,382</td>\n",
       "      <td>$1,316,721,747</td>\n",
       "    </tr>\n",
       "  </tbody>\n",
       "</table>\n",
       "</div>"
      ],
      "text/plain": [
       "   id  release_date                                        movie  \\\n",
       "0   1  Dec 18, 2009                                       Avatar   \n",
       "1   2  May 20, 2011  Pirates of the Caribbean: On Stranger Tides   \n",
       "2   3   Jun 7, 2019                                 Dark Phoenix   \n",
       "3   4   May 1, 2015                      Avengers: Age of Ultron   \n",
       "4   5  Dec 15, 2017            Star Wars Ep. VIII: The Last Jedi   \n",
       "\n",
       "  production_budget domestic_gross worldwide_gross  \n",
       "0      $425,000,000   $760,507,625  $2,776,345,279  \n",
       "1      $410,600,000   $241,063,875  $1,045,663,875  \n",
       "2      $350,000,000    $42,762,350    $149,762,350  \n",
       "3      $330,600,000   $459,005,868  $1,403,013,963  \n",
       "4      $317,000,000   $620,181,382  $1,316,721,747  "
      ]
     },
     "execution_count": 112,
     "metadata": {},
     "output_type": "execute_result"
    }
   ],
   "source": [
    "#Import file as a variable and take a basic look at the data contained\n",
    "tnmovie_budgets= pd.read_csv('zippedData/tn.movie_budgets.csv.gz')\n",
    "tnmovie_budgets.head()"
   ]
  },
  {
   "cell_type": "markdown",
   "metadata": {},
   "source": [
    "The tnmovie_budgets file provides the information I am useing for my analysis."
   ]
  },
  {
   "cell_type": "code",
   "execution_count": 113,
   "metadata": {},
   "outputs": [],
   "source": [
    "#turn the column into a list that can be used for graph\n",
    "Production_budget=tnmovie_budgets['production_budget']\n",
    "production_budget_list=[]\n",
    "for num in Production_budget:\n",
    "    a= num.replace(',','')\n",
    "    b= a.replace('$','')\n",
    "    production_budget_list.append(int(b))\n",
    "mean_budget=sum(production_budget_list)/len(production_budget_list)"
   ]
  },
  {
   "cell_type": "code",
   "execution_count": 114,
   "metadata": {},
   "outputs": [],
   "source": [
    "#turn the column into a list that can be used for graph\n",
    "worldwide_gross= tnmovie_budgets['worldwide_gross']\n",
    "worldwide_gross_list=[]\n",
    "for num in worldwide_gross:\n",
    "    a= num.replace(',','')\n",
    "    b= a.replace('$','')\n",
    "    worldwide_gross_list.append(int(b))\n",
    "mean_worldwide_gross= sum(worldwide_gross_list)/ len(worldwide_gross_list)"
   ]
  },
  {
   "cell_type": "code",
   "execution_count": 115,
   "metadata": {},
   "outputs": [],
   "source": [
    "#turn the column into a list that can be used for graph\n",
    "domestic_gross= tnmovie_budgets['domestic_gross']\n",
    "domestic_gross_list=[]\n",
    "for num in domestic_gross:\n",
    "    a= num.replace(',','')\n",
    "    b= a.replace('$','')\n",
    "    domestic_gross_list.append(int(b))\n",
    "mean_domestic_gross= sum(domestic_gross_list)/len(domestic_gross_list)"
   ]
  },
  {
   "cell_type": "code",
   "execution_count": 116,
   "metadata": {},
   "outputs": [
    {
     "data": {
      "text/plain": [
       "Text(0, 0.5, 'Domestic_Gross')"
      ]
     },
     "execution_count": 116,
     "metadata": {},
     "output_type": "execute_result"
    },
    {
     "data": {
      "image/png": "[encoded data removed]",
      "text/plain": [
       "<Figure size 432x288 with 1 Axes>"
      ]
     },
     "metadata": {
      "needs_background": "light"
     },
     "output_type": "display_data"
    }
   ],
   "source": [
    "#plot production budget against domestic gross\n",
    "fig, (ax) = plt.subplots()\n",
    "ax.scatter(production_budget_list, domestic_gross_list)\n",
    "ax.set_title('Domestic_Gross')\n",
    "ax.set_xlabel('Production_Budget')\n",
    "ax.set_ylabel('Domestic_Gross')"
   ]
  },
  {
   "cell_type": "code",
   "execution_count": 117,
   "metadata": {},
   "outputs": [
    {
     "data": {
      "text/plain": [
       "(0.0, 2000000000.0)"
      ]
     },
     "execution_count": 117,
     "metadata": {},
     "output_type": "execute_result"
    },
    {
     "data": {
      "image/png": "[encoded data removed]",
      "text/plain": [
       "<Figure size 432x288 with 1 Axes>"
      ]
     },
     "metadata": {
      "needs_background": "light"
     },
     "output_type": "display_data"
    }
   ],
   "source": [
    "#plot production budget against worldwide gross\n",
    "fig, (ax) = plt.subplots()\n",
    "ax.scatter(production_budget_list, worldwide_gross_list)\n",
    "ax.set_title('Worldwide_Gross')\n",
    "ax.set_xlabel('Production_Budget')\n",
    "ax.set_ylabel('Worldwide_Gross')\n",
    "ax.set_xlim(0, 500000000)\n",
    "ax.set_ylim(0, 2000000000)"
   ]
  },
  {
   "cell_type": "code",
   "execution_count": 118,
   "metadata": {},
   "outputs": [
    {
     "data": {
      "text/plain": [
       "array([[1.        , 0.68568184],\n",
       "       [0.68568184, 1.        ]])"
      ]
     },
     "execution_count": 118,
     "metadata": {},
     "output_type": "execute_result"
    }
   ],
   "source": [
    "#find how correlated budget is to domestic gross\n",
    "cor_var_domestic=np.corrcoef(production_budget_list, domestic_gross_list)\n",
    "cor_var_domestic"
   ]
  },
  {
   "cell_type": "code",
   "execution_count": 119,
   "metadata": {},
   "outputs": [
    {
     "data": {
      "text/plain": [
       "array([[1.        , 0.74830598],\n",
       "       [0.74830598, 1.        ]])"
      ]
     },
     "execution_count": 119,
     "metadata": {},
     "output_type": "execute_result"
    }
   ],
   "source": [
    "#find how correlated budget is to worldwide gross\n",
    "cor_var_worldwide=np.corrcoef(production_budget_list, worldwide_gross_list)\n",
    "cor_var_worldwide"
   ]
  },
  {
   "cell_type": "markdown",
   "metadata": {},
   "source": [
    "The more money one spends the more they recieve in returns. There is little increased value after spending 20 mil. Investing has more payback on global market than a domestic market (there is a higher correlation; .74830598 to .68568184)"
   ]
  },
  {
   "cell_type": "code",
   "execution_count": null,
   "metadata": {},
   "outputs": [],
   "source": []
  }
 ],
 "metadata": {
  "kernelspec": {
   "display_name": "Python 3",
   "language": "python",
   "name": "python3"
  },
  "language_info": {
   "codemirror_mode": {
    "name": "ipython",
    "version": 3
   },
   "file_extension": ".py",
   "mimetype": "text/x-python",
   "name": "python",
   "nbconvert_exporter": "python",
   "pygments_lexer": "ipython3",
   "version": "3.8.5"
  }
 },
 "nbformat": 4,
 "nbformat_minor": 4
}
